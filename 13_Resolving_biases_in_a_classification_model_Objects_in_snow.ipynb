{
  "nbformat": 4,
  "nbformat_minor": 0,
  "metadata": {
    "colab": {
      "provenance": [],
      "authorship_tag": "ABX9TyM4DhiEi73TrpEbMKuDaC7p",
      "include_colab_link": true
    },
    "kernelspec": {
      "name": "python3",
      "display_name": "Python 3"
    },
    "language_info": {
      "name": "python"
    }
  },
  "cells": [
    {
      "cell_type": "markdown",
      "metadata": {
        "id": "view-in-github",
        "colab_type": "text"
      },
      "source": [
        "<a href=\"https://colab.research.google.com/github/camilogrey/1html/blob/main/13_Resolving_biases_in_a_classification_model_Objects_in_snow.ipynb\" target=\"_parent\"><img src=\"https://colab.research.google.com/assets/colab-badge.svg\" alt=\"Open In Colab\"/></a>"
      ]
    },
    {
      "cell_type": "code",
      "execution_count": 1,
      "metadata": {
        "colab": {
          "base_uri": "https://localhost:8080/",
          "height": 1000
        },
        "id": "6sBE01r9N6qi",
        "outputId": "5ea7362f-361f-415e-d30c-c8ff59dcd1db"
      },
      "outputs": [
        {
          "output_type": "stream",
          "name": "stdout",
          "text": [
            "--2023-03-28 21:55:53--  https://raw.githubusercontent.com/MicrosoftDocs/mslearn-introduction-to-machine-learning/main/graphing.py\n",
            "Resolving raw.githubusercontent.com (raw.githubusercontent.com)... 185.199.108.133, 185.199.109.133, 185.199.110.133, ...\n",
            "Connecting to raw.githubusercontent.com (raw.githubusercontent.com)|185.199.108.133|:443... connected.\n",
            "HTTP request sent, awaiting response... 200 OK\n",
            "Length: 21511 (21K) [text/plain]\n",
            "Saving to: ‘graphing.py’\n",
            "\n",
            "\rgraphing.py           0%[                    ]       0  --.-KB/s               \rgraphing.py         100%[===================>]  21.01K  --.-KB/s    in 0.001s  \n",
            "\n",
            "2023-03-28 21:55:53 (20.6 MB/s) - ‘graphing.py’ saved [21511/21511]\n",
            "\n",
            "--2023-03-28 21:55:53--  https://raw.githubusercontent.com/MicrosoftDocs/mslearn-introduction-to-machine-learning/main/Data/snow_objects.csv\n",
            "Resolving raw.githubusercontent.com (raw.githubusercontent.com)... 185.199.111.133, 185.199.110.133, 185.199.109.133, ...\n",
            "Connecting to raw.githubusercontent.com (raw.githubusercontent.com)|185.199.111.133|:443... connected.\n",
            "HTTP request sent, awaiting response... 200 OK\n",
            "Length: 143797 (140K) [text/plain]\n",
            "Saving to: ‘snow_objects.csv’\n",
            "\n",
            "snow_objects.csv    100%[===================>] 140.43K  --.-KB/s    in 0.02s   \n",
            "\n",
            "2023-03-28 21:55:54 (6.17 MB/s) - ‘snow_objects.csv’ saved [143797/143797]\n",
            "\n",
            "--2023-03-28 21:55:54--  https://raw.githubusercontent.com/MicrosoftDocs/mslearn-introduction-to-machine-learning/main/Data/snow_objects_balanced.csv\n",
            "Resolving raw.githubusercontent.com (raw.githubusercontent.com)... 185.199.108.133, 185.199.109.133, 185.199.110.133, ...\n",
            "Connecting to raw.githubusercontent.com (raw.githubusercontent.com)|185.199.108.133|:443... connected.\n",
            "HTTP request sent, awaiting response... 200 OK\n",
            "Length: 131615 (129K) [text/plain]\n",
            "Saving to: ‘snow_objects_balanced.csv’\n",
            "\n",
            "snow_objects_balanc 100%[===================>] 128.53K  --.-KB/s    in 0.02s   \n",
            "\n",
            "2023-03-28 21:55:54 (5.68 MB/s) - ‘snow_objects_balanced.csv’ saved [131615/131615]\n",
            "\n"
          ]
        },
        {
          "output_type": "execute_result",
          "data": {
            "text/plain": [
              "           size  roughness  color    motion   label\n",
              "0     50.959361   1.318226  green  0.054290    tree\n",
              "1     60.008521   0.554291  brown  0.000000    tree\n",
              "2     20.530772   1.097752  white  1.380464    tree\n",
              "3     28.092138   0.966482   grey  0.650528    tree\n",
              "4     48.344211   0.799093   grey  0.000000    tree\n",
              "...         ...        ...    ...       ...     ...\n",
              "2195   1.918175   1.182234  white  0.000000  animal\n",
              "2196   1.000694   1.332152  black  4.041097  animal\n",
              "2197   2.331485   0.734561  brown  0.961486  animal\n",
              "2198   1.786560   0.707935  black  0.000000  animal\n",
              "2199   1.518813   1.447957  brown  0.000000  animal\n",
              "\n",
              "[2200 rows x 5 columns]"
            ],
            "text/html": [
              "\n",
              "  <div id=\"df-0c96c88e-4f49-4ebb-80a9-33f985192388\">\n",
              "    <div class=\"colab-df-container\">\n",
              "      <div>\n",
              "<style scoped>\n",
              "    .dataframe tbody tr th:only-of-type {\n",
              "        vertical-align: middle;\n",
              "    }\n",
              "\n",
              "    .dataframe tbody tr th {\n",
              "        vertical-align: top;\n",
              "    }\n",
              "\n",
              "    .dataframe thead th {\n",
              "        text-align: right;\n",
              "    }\n",
              "</style>\n",
              "<table border=\"1\" class=\"dataframe\">\n",
              "  <thead>\n",
              "    <tr style=\"text-align: right;\">\n",
              "      <th></th>\n",
              "      <th>size</th>\n",
              "      <th>roughness</th>\n",
              "      <th>color</th>\n",
              "      <th>motion</th>\n",
              "      <th>label</th>\n",
              "    </tr>\n",
              "  </thead>\n",
              "  <tbody>\n",
              "    <tr>\n",
              "      <th>0</th>\n",
              "      <td>50.959361</td>\n",
              "      <td>1.318226</td>\n",
              "      <td>green</td>\n",
              "      <td>0.054290</td>\n",
              "      <td>tree</td>\n",
              "    </tr>\n",
              "    <tr>\n",
              "      <th>1</th>\n",
              "      <td>60.008521</td>\n",
              "      <td>0.554291</td>\n",
              "      <td>brown</td>\n",
              "      <td>0.000000</td>\n",
              "      <td>tree</td>\n",
              "    </tr>\n",
              "    <tr>\n",
              "      <th>2</th>\n",
              "      <td>20.530772</td>\n",
              "      <td>1.097752</td>\n",
              "      <td>white</td>\n",
              "      <td>1.380464</td>\n",
              "      <td>tree</td>\n",
              "    </tr>\n",
              "    <tr>\n",
              "      <th>3</th>\n",
              "      <td>28.092138</td>\n",
              "      <td>0.966482</td>\n",
              "      <td>grey</td>\n",
              "      <td>0.650528</td>\n",
              "      <td>tree</td>\n",
              "    </tr>\n",
              "    <tr>\n",
              "      <th>4</th>\n",
              "      <td>48.344211</td>\n",
              "      <td>0.799093</td>\n",
              "      <td>grey</td>\n",
              "      <td>0.000000</td>\n",
              "      <td>tree</td>\n",
              "    </tr>\n",
              "    <tr>\n",
              "      <th>...</th>\n",
              "      <td>...</td>\n",
              "      <td>...</td>\n",
              "      <td>...</td>\n",
              "      <td>...</td>\n",
              "      <td>...</td>\n",
              "    </tr>\n",
              "    <tr>\n",
              "      <th>2195</th>\n",
              "      <td>1.918175</td>\n",
              "      <td>1.182234</td>\n",
              "      <td>white</td>\n",
              "      <td>0.000000</td>\n",
              "      <td>animal</td>\n",
              "    </tr>\n",
              "    <tr>\n",
              "      <th>2196</th>\n",
              "      <td>1.000694</td>\n",
              "      <td>1.332152</td>\n",
              "      <td>black</td>\n",
              "      <td>4.041097</td>\n",
              "      <td>animal</td>\n",
              "    </tr>\n",
              "    <tr>\n",
              "      <th>2197</th>\n",
              "      <td>2.331485</td>\n",
              "      <td>0.734561</td>\n",
              "      <td>brown</td>\n",
              "      <td>0.961486</td>\n",
              "      <td>animal</td>\n",
              "    </tr>\n",
              "    <tr>\n",
              "      <th>2198</th>\n",
              "      <td>1.786560</td>\n",
              "      <td>0.707935</td>\n",
              "      <td>black</td>\n",
              "      <td>0.000000</td>\n",
              "      <td>animal</td>\n",
              "    </tr>\n",
              "    <tr>\n",
              "      <th>2199</th>\n",
              "      <td>1.518813</td>\n",
              "      <td>1.447957</td>\n",
              "      <td>brown</td>\n",
              "      <td>0.000000</td>\n",
              "      <td>animal</td>\n",
              "    </tr>\n",
              "  </tbody>\n",
              "</table>\n",
              "<p>2200 rows × 5 columns</p>\n",
              "</div>\n",
              "      <button class=\"colab-df-convert\" onclick=\"convertToInteractive('df-0c96c88e-4f49-4ebb-80a9-33f985192388')\"\n",
              "              title=\"Convert this dataframe to an interactive table.\"\n",
              "              style=\"display:none;\">\n",
              "        \n",
              "  <svg xmlns=\"http://www.w3.org/2000/svg\" height=\"24px\"viewBox=\"0 0 24 24\"\n",
              "       width=\"24px\">\n",
              "    <path d=\"M0 0h24v24H0V0z\" fill=\"none\"/>\n",
              "    <path d=\"M18.56 5.44l.94 2.06.94-2.06 2.06-.94-2.06-.94-.94-2.06-.94 2.06-2.06.94zm-11 1L8.5 8.5l.94-2.06 2.06-.94-2.06-.94L8.5 2.5l-.94 2.06-2.06.94zm10 10l.94 2.06.94-2.06 2.06-.94-2.06-.94-.94-2.06-.94 2.06-2.06.94z\"/><path d=\"M17.41 7.96l-1.37-1.37c-.4-.4-.92-.59-1.43-.59-.52 0-1.04.2-1.43.59L10.3 9.45l-7.72 7.72c-.78.78-.78 2.05 0 2.83L4 21.41c.39.39.9.59 1.41.59.51 0 1.02-.2 1.41-.59l7.78-7.78 2.81-2.81c.8-.78.8-2.07 0-2.86zM5.41 20L4 18.59l7.72-7.72 1.47 1.35L5.41 20z\"/>\n",
              "  </svg>\n",
              "      </button>\n",
              "      \n",
              "  <style>\n",
              "    .colab-df-container {\n",
              "      display:flex;\n",
              "      flex-wrap:wrap;\n",
              "      gap: 12px;\n",
              "    }\n",
              "\n",
              "    .colab-df-convert {\n",
              "      background-color: #E8F0FE;\n",
              "      border: none;\n",
              "      border-radius: 50%;\n",
              "      cursor: pointer;\n",
              "      display: none;\n",
              "      fill: #1967D2;\n",
              "      height: 32px;\n",
              "      padding: 0 0 0 0;\n",
              "      width: 32px;\n",
              "    }\n",
              "\n",
              "    .colab-df-convert:hover {\n",
              "      background-color: #E2EBFA;\n",
              "      box-shadow: 0px 1px 2px rgba(60, 64, 67, 0.3), 0px 1px 3px 1px rgba(60, 64, 67, 0.15);\n",
              "      fill: #174EA6;\n",
              "    }\n",
              "\n",
              "    [theme=dark] .colab-df-convert {\n",
              "      background-color: #3B4455;\n",
              "      fill: #D2E3FC;\n",
              "    }\n",
              "\n",
              "    [theme=dark] .colab-df-convert:hover {\n",
              "      background-color: #434B5C;\n",
              "      box-shadow: 0px 1px 3px 1px rgba(0, 0, 0, 0.15);\n",
              "      filter: drop-shadow(0px 1px 2px rgba(0, 0, 0, 0.3));\n",
              "      fill: #FFFFFF;\n",
              "    }\n",
              "  </style>\n",
              "\n",
              "      <script>\n",
              "        const buttonEl =\n",
              "          document.querySelector('#df-0c96c88e-4f49-4ebb-80a9-33f985192388 button.colab-df-convert');\n",
              "        buttonEl.style.display =\n",
              "          google.colab.kernel.accessAllowed ? 'block' : 'none';\n",
              "\n",
              "        async function convertToInteractive(key) {\n",
              "          const element = document.querySelector('#df-0c96c88e-4f49-4ebb-80a9-33f985192388');\n",
              "          const dataTable =\n",
              "            await google.colab.kernel.invokeFunction('convertToInteractive',\n",
              "                                                     [key], {});\n",
              "          if (!dataTable) return;\n",
              "\n",
              "          const docLinkHtml = 'Like what you see? Visit the ' +\n",
              "            '<a target=\"_blank\" href=https://colab.research.google.com/notebooks/data_table.ipynb>data table notebook</a>'\n",
              "            + ' to learn more about interactive tables.';\n",
              "          element.innerHTML = '';\n",
              "          dataTable['output_type'] = 'display_data';\n",
              "          await google.colab.output.renderOutput(dataTable, element);\n",
              "          const docLink = document.createElement('div');\n",
              "          docLink.innerHTML = docLinkHtml;\n",
              "          element.appendChild(docLink);\n",
              "        }\n",
              "      </script>\n",
              "    </div>\n",
              "  </div>\n",
              "  "
            ]
          },
          "metadata": {},
          "execution_count": 1
        }
      ],
      "source": [
        "import pandas\n",
        "!wget https://raw.githubusercontent.com/MicrosoftDocs/mslearn-introduction-to-machine-learning/main/graphing.py\n",
        "!wget https://raw.githubusercontent.com/MicrosoftDocs/mslearn-introduction-to-machine-learning/main/Data/snow_objects.csv\n",
        "!wget https://raw.githubusercontent.com/MicrosoftDocs/mslearn-introduction-to-machine-learning/main/Data/snow_objects_balanced.csv\n",
        "\n",
        "#Import the data from the .csv file\n",
        "dataset = pandas.read_csv('snow_objects.csv', delimiter=\"\\t\")\n",
        "\n",
        "# Let's have a look at the data\n",
        "dataset"
      ]
    },
    {
      "cell_type": "code",
      "source": [
        "import graphing # custom graphing code. See our GitHub repo for details\n",
        "\n",
        "# Plot a histogram with counts for each label\n",
        "graphing.multiple_histogram(dataset, label_x=\"label\", label_group=\"label\", title=\"Label distribution\")"
      ],
      "metadata": {
        "colab": {
          "base_uri": "https://localhost:8080/",
          "height": 417
        },
        "id": "aCLhtTXMOI59",
        "outputId": "c80f81f1-a782-4eb1-a65b-79a72482ea66"
      },
      "execution_count": 2,
      "outputs": [
        {
          "output_type": "display_data",
          "data": {
            "text/html": [
              "<html>\n",
              "<head><meta charset=\"utf-8\" /></head>\n",
              "<body>\n",
              "    <div>            <script src=\"https://cdnjs.cloudflare.com/ajax/libs/mathjax/2.7.5/MathJax.js?config=TeX-AMS-MML_SVG\"></script><script type=\"text/javascript\">if (window.MathJax && window.MathJax.Hub && window.MathJax.Hub.Config) {window.MathJax.Hub.Config({SVG: {font: \"STIX-Web\"}});}</script>                <script type=\"text/javascript\">window.PlotlyConfig = {MathJaxConfig: 'local'};</script>\n",
              "        <script src=\"https://cdn.plot.ly/plotly-2.18.2.min.js\"></script>                <div id=\"2627f390-10aa-40b4-b9f1-0d76a129fed6\" class=\"plotly-graph-div\" style=\"height:400px; width:100%;\"></div>            <script type=\"text/javascript\">                                    window.PLOTLYENV=window.PLOTLYENV || {};                                    if (document.getElementById(\"2627f390-10aa-40b4-b9f1-0d76a129fed6\")) {                    Plotly.newPlot(                        \"2627f390-10aa-40b4-b9f1-0d76a129fed6\",                        [{\"histfunc\":\"count\",\"name\":\"animal\",\"x\":[\"animal\",\"animal\",\"animal\",\"animal\",\"animal\",\"animal\",\"animal\",\"animal\",\"animal\",\"animal\",\"animal\",\"animal\",\"animal\",\"animal\",\"animal\",\"animal\",\"animal\",\"animal\",\"animal\",\"animal\",\"animal\",\"animal\",\"animal\",\"animal\",\"animal\",\"animal\",\"animal\",\"animal\",\"animal\",\"animal\",\"animal\",\"animal\",\"animal\",\"animal\",\"animal\",\"animal\",\"animal\",\"animal\",\"animal\",\"animal\",\"animal\",\"animal\",\"animal\",\"animal\",\"animal\",\"animal\",\"animal\",\"animal\",\"animal\",\"animal\",\"animal\",\"animal\",\"animal\",\"animal\",\"animal\",\"animal\",\"animal\",\"animal\",\"animal\",\"animal\",\"animal\",\"animal\",\"animal\",\"animal\",\"animal\",\"animal\",\"animal\",\"animal\",\"animal\",\"animal\",\"animal\",\"animal\",\"animal\",\"animal\",\"animal\",\"animal\",\"animal\",\"animal\",\"animal\",\"animal\",\"animal\",\"animal\",\"animal\",\"animal\",\"animal\",\"animal\",\"animal\",\"animal\",\"animal\",\"animal\",\"animal\",\"animal\",\"animal\",\"animal\",\"animal\",\"animal\",\"animal\",\"animal\",\"animal\",\"animal\",\"animal\",\"animal\",\"animal\",\"animal\",\"animal\",\"animal\",\"animal\",\"animal\",\"animal\",\"animal\",\"animal\",\"animal\",\"animal\",\"animal\",\"animal\",\"animal\",\"animal\",\"animal\",\"animal\",\"animal\",\"animal\",\"animal\",\"animal\",\"animal\",\"animal\",\"animal\",\"animal\",\"animal\",\"animal\",\"animal\",\"animal\",\"animal\",\"animal\",\"animal\",\"animal\",\"animal\",\"animal\",\"animal\",\"animal\",\"animal\",\"animal\",\"animal\",\"animal\",\"animal\",\"animal\",\"animal\",\"animal\",\"animal\",\"animal\",\"animal\",\"animal\",\"animal\",\"animal\",\"animal\",\"animal\",\"animal\",\"animal\",\"animal\",\"animal\",\"animal\",\"animal\",\"animal\",\"animal\",\"animal\",\"animal\",\"animal\",\"animal\",\"animal\",\"animal\",\"animal\",\"animal\",\"animal\",\"animal\",\"animal\",\"animal\",\"animal\",\"animal\",\"animal\",\"animal\",\"animal\",\"animal\",\"animal\",\"animal\",\"animal\",\"animal\",\"animal\",\"animal\",\"animal\",\"animal\",\"animal\",\"animal\",\"animal\",\"animal\",\"animal\",\"animal\",\"animal\",\"animal\",\"animal\",\"animal\",\"animal\"],\"type\":\"histogram\"},{\"histfunc\":\"count\",\"name\":\"hiker\",\"x\":[\"hiker\",\"hiker\",\"hiker\",\"hiker\",\"hiker\",\"hiker\",\"hiker\",\"hiker\",\"hiker\",\"hiker\",\"hiker\",\"hiker\",\"hiker\",\"hiker\",\"hiker\",\"hiker\",\"hiker\",\"hiker\",\"hiker\",\"hiker\",\"hiker\",\"hiker\",\"hiker\",\"hiker\",\"hiker\",\"hiker\",\"hiker\",\"hiker\",\"hiker\",\"hiker\",\"hiker\",\"hiker\",\"hiker\",\"hiker\",\"hiker\",\"hiker\",\"hiker\",\"hiker\",\"hiker\",\"hiker\",\"hiker\",\"hiker\",\"hiker\",\"hiker\",\"hiker\",\"hiker\",\"hiker\",\"hiker\",\"hiker\",\"hiker\",\"hiker\",\"hiker\",\"hiker\",\"hiker\",\"hiker\",\"hiker\",\"hiker\",\"hiker\",\"hiker\",\"hiker\",\"hiker\",\"hiker\",\"hiker\",\"hiker\",\"hiker\",\"hiker\",\"hiker\",\"hiker\",\"hiker\",\"hiker\",\"hiker\",\"hiker\",\"hiker\",\"hiker\",\"hiker\",\"hiker\",\"hiker\",\"hiker\",\"hiker\",\"hiker\",\"hiker\",\"hiker\",\"hiker\",\"hiker\",\"hiker\",\"hiker\",\"hiker\",\"hiker\",\"hiker\",\"hiker\",\"hiker\",\"hiker\",\"hiker\",\"hiker\",\"hiker\",\"hiker\",\"hiker\",\"hiker\",\"hiker\",\"hiker\",\"hiker\",\"hiker\",\"hiker\",\"hiker\",\"hiker\",\"hiker\",\"hiker\",\"hiker\",\"hiker\",\"hiker\",\"hiker\",\"hiker\",\"hiker\",\"hiker\",\"hiker\",\"hiker\",\"hiker\",\"hiker\",\"hiker\",\"hiker\",\"hiker\",\"hiker\",\"hiker\",\"hiker\",\"hiker\",\"hiker\",\"hiker\",\"hiker\",\"hiker\",\"hiker\",\"hiker\",\"hiker\",\"hiker\",\"hiker\",\"hiker\",\"hiker\",\"hiker\",\"hiker\",\"hiker\",\"hiker\",\"hiker\",\"hiker\",\"hiker\",\"hiker\",\"hiker\",\"hiker\",\"hiker\",\"hiker\",\"hiker\",\"hiker\",\"hiker\",\"hiker\",\"hiker\",\"hiker\",\"hiker\",\"hiker\",\"hiker\",\"hiker\",\"hiker\",\"hiker\",\"hiker\",\"hiker\",\"hiker\",\"hiker\",\"hiker\",\"hiker\",\"hiker\",\"hiker\",\"hiker\",\"hiker\",\"hiker\",\"hiker\",\"hiker\",\"hiker\",\"hiker\",\"hiker\",\"hiker\",\"hiker\",\"hiker\",\"hiker\",\"hiker\",\"hiker\",\"hiker\",\"hiker\",\"hiker\",\"hiker\",\"hiker\",\"hiker\",\"hiker\",\"hiker\",\"hiker\",\"hiker\",\"hiker\",\"hiker\",\"hiker\",\"hiker\",\"hiker\",\"hiker\",\"hiker\",\"hiker\",\"hiker\",\"hiker\",\"hiker\",\"hiker\",\"hiker\",\"hiker\",\"hiker\",\"hiker\",\"hiker\",\"hiker\",\"hiker\",\"hiker\",\"hiker\",\"hiker\",\"hiker\",\"hiker\",\"hiker\",\"hiker\",\"hiker\",\"hiker\",\"hiker\",\"hiker\",\"hiker\",\"hiker\",\"hiker\",\"hiker\",\"hiker\",\"hiker\",\"hiker\",\"hiker\",\"hiker\",\"hiker\",\"hiker\",\"hiker\",\"hiker\",\"hiker\",\"hiker\",\"hiker\",\"hiker\",\"hiker\",\"hiker\",\"hiker\",\"hiker\",\"hiker\",\"hiker\",\"hiker\",\"hiker\",\"hiker\",\"hiker\",\"hiker\",\"hiker\",\"hiker\",\"hiker\",\"hiker\",\"hiker\",\"hiker\",\"hiker\",\"hiker\",\"hiker\",\"hiker\",\"hiker\",\"hiker\",\"hiker\",\"hiker\",\"hiker\",\"hiker\",\"hiker\",\"hiker\",\"hiker\",\"hiker\",\"hiker\",\"hiker\",\"hiker\",\"hiker\",\"hiker\",\"hiker\",\"hiker\",\"hiker\",\"hiker\",\"hiker\",\"hiker\",\"hiker\",\"hiker\",\"hiker\",\"hiker\",\"hiker\",\"hiker\",\"hiker\",\"hiker\",\"hiker\",\"hiker\",\"hiker\",\"hiker\",\"hiker\",\"hiker\",\"hiker\",\"hiker\",\"hiker\",\"hiker\",\"hiker\",\"hiker\",\"hiker\",\"hiker\",\"hiker\",\"hiker\",\"hiker\",\"hiker\",\"hiker\",\"hiker\",\"hiker\",\"hiker\",\"hiker\",\"hiker\",\"hiker\",\"hiker\",\"hiker\",\"hiker\",\"hiker\",\"hiker\",\"hiker\",\"hiker\",\"hiker\",\"hiker\",\"hiker\",\"hiker\",\"hiker\",\"hiker\",\"hiker\",\"hiker\",\"hiker\",\"hiker\",\"hiker\",\"hiker\",\"hiker\",\"hiker\",\"hiker\",\"hiker\",\"hiker\",\"hiker\",\"hiker\",\"hiker\",\"hiker\",\"hiker\",\"hiker\",\"hiker\",\"hiker\",\"hiker\",\"hiker\",\"hiker\",\"hiker\",\"hiker\",\"hiker\",\"hiker\",\"hiker\",\"hiker\",\"hiker\",\"hiker\",\"hiker\",\"hiker\",\"hiker\",\"hiker\",\"hiker\",\"hiker\",\"hiker\",\"hiker\",\"hiker\",\"hiker\",\"hiker\",\"hiker\",\"hiker\",\"hiker\",\"hiker\",\"hiker\",\"hiker\",\"hiker\",\"hiker\",\"hiker\",\"hiker\",\"hiker\",\"hiker\",\"hiker\",\"hiker\",\"hiker\",\"hiker\",\"hiker\",\"hiker\",\"hiker\",\"hiker\",\"hiker\",\"hiker\",\"hiker\",\"hiker\",\"hiker\",\"hiker\",\"hiker\",\"hiker\",\"hiker\",\"hiker\",\"hiker\",\"hiker\"],\"type\":\"histogram\"},{\"histfunc\":\"count\",\"name\":\"rock\",\"x\":[\"rock\",\"rock\",\"rock\",\"rock\",\"rock\",\"rock\",\"rock\",\"rock\",\"rock\",\"rock\",\"rock\",\"rock\",\"rock\",\"rock\",\"rock\",\"rock\",\"rock\",\"rock\",\"rock\",\"rock\",\"rock\",\"rock\",\"rock\",\"rock\",\"rock\",\"rock\",\"rock\",\"rock\",\"rock\",\"rock\",\"rock\",\"rock\",\"rock\",\"rock\",\"rock\",\"rock\",\"rock\",\"rock\",\"rock\",\"rock\",\"rock\",\"rock\",\"rock\",\"rock\",\"rock\",\"rock\",\"rock\",\"rock\",\"rock\",\"rock\",\"rock\",\"rock\",\"rock\",\"rock\",\"rock\",\"rock\",\"rock\",\"rock\",\"rock\",\"rock\",\"rock\",\"rock\",\"rock\",\"rock\",\"rock\",\"rock\",\"rock\",\"rock\",\"rock\",\"rock\",\"rock\",\"rock\",\"rock\",\"rock\",\"rock\",\"rock\",\"rock\",\"rock\",\"rock\",\"rock\",\"rock\",\"rock\",\"rock\",\"rock\",\"rock\",\"rock\",\"rock\",\"rock\",\"rock\",\"rock\",\"rock\",\"rock\",\"rock\",\"rock\",\"rock\",\"rock\",\"rock\",\"rock\",\"rock\",\"rock\",\"rock\",\"rock\",\"rock\",\"rock\",\"rock\",\"rock\",\"rock\",\"rock\",\"rock\",\"rock\",\"rock\",\"rock\",\"rock\",\"rock\",\"rock\",\"rock\",\"rock\",\"rock\",\"rock\",\"rock\",\"rock\",\"rock\",\"rock\",\"rock\",\"rock\",\"rock\",\"rock\",\"rock\",\"rock\",\"rock\",\"rock\",\"rock\",\"rock\",\"rock\",\"rock\",\"rock\",\"rock\",\"rock\",\"rock\",\"rock\",\"rock\",\"rock\",\"rock\",\"rock\",\"rock\",\"rock\",\"rock\",\"rock\",\"rock\",\"rock\",\"rock\",\"rock\",\"rock\",\"rock\",\"rock\",\"rock\",\"rock\",\"rock\",\"rock\",\"rock\",\"rock\",\"rock\",\"rock\",\"rock\",\"rock\",\"rock\",\"rock\",\"rock\",\"rock\",\"rock\",\"rock\",\"rock\",\"rock\",\"rock\",\"rock\",\"rock\",\"rock\",\"rock\",\"rock\",\"rock\",\"rock\",\"rock\",\"rock\",\"rock\",\"rock\",\"rock\",\"rock\",\"rock\",\"rock\",\"rock\",\"rock\",\"rock\",\"rock\",\"rock\",\"rock\",\"rock\",\"rock\",\"rock\",\"rock\",\"rock\",\"rock\",\"rock\",\"rock\",\"rock\",\"rock\",\"rock\",\"rock\",\"rock\",\"rock\",\"rock\",\"rock\",\"rock\",\"rock\",\"rock\",\"rock\",\"rock\",\"rock\",\"rock\",\"rock\",\"rock\",\"rock\",\"rock\",\"rock\",\"rock\",\"rock\",\"rock\",\"rock\",\"rock\",\"rock\",\"rock\",\"rock\",\"rock\",\"rock\",\"rock\",\"rock\",\"rock\",\"rock\",\"rock\",\"rock\",\"rock\",\"rock\",\"rock\",\"rock\",\"rock\",\"rock\",\"rock\",\"rock\",\"rock\",\"rock\",\"rock\",\"rock\",\"rock\",\"rock\",\"rock\",\"rock\",\"rock\",\"rock\",\"rock\",\"rock\",\"rock\",\"rock\",\"rock\",\"rock\",\"rock\",\"rock\",\"rock\",\"rock\",\"rock\",\"rock\",\"rock\",\"rock\",\"rock\",\"rock\",\"rock\",\"rock\",\"rock\",\"rock\",\"rock\",\"rock\",\"rock\",\"rock\",\"rock\",\"rock\",\"rock\",\"rock\",\"rock\",\"rock\",\"rock\",\"rock\",\"rock\",\"rock\",\"rock\",\"rock\",\"rock\",\"rock\",\"rock\",\"rock\",\"rock\",\"rock\",\"rock\",\"rock\",\"rock\",\"rock\",\"rock\",\"rock\",\"rock\",\"rock\",\"rock\",\"rock\",\"rock\",\"rock\",\"rock\",\"rock\",\"rock\",\"rock\",\"rock\",\"rock\",\"rock\",\"rock\",\"rock\",\"rock\",\"rock\",\"rock\",\"rock\",\"rock\",\"rock\",\"rock\",\"rock\",\"rock\",\"rock\",\"rock\",\"rock\",\"rock\",\"rock\",\"rock\",\"rock\",\"rock\",\"rock\",\"rock\",\"rock\",\"rock\",\"rock\",\"rock\",\"rock\",\"rock\",\"rock\",\"rock\",\"rock\",\"rock\",\"rock\",\"rock\",\"rock\",\"rock\",\"rock\",\"rock\",\"rock\",\"rock\",\"rock\",\"rock\",\"rock\",\"rock\",\"rock\",\"rock\",\"rock\",\"rock\",\"rock\",\"rock\",\"rock\",\"rock\",\"rock\",\"rock\",\"rock\",\"rock\",\"rock\",\"rock\",\"rock\",\"rock\",\"rock\",\"rock\",\"rock\",\"rock\",\"rock\",\"rock\",\"rock\",\"rock\",\"rock\",\"rock\",\"rock\",\"rock\",\"rock\",\"rock\",\"rock\",\"rock\",\"rock\",\"rock\",\"rock\",\"rock\",\"rock\",\"rock\",\"rock\",\"rock\",\"rock\",\"rock\",\"rock\",\"rock\",\"rock\",\"rock\",\"rock\",\"rock\",\"rock\",\"rock\",\"rock\",\"rock\",\"rock\",\"rock\",\"rock\",\"rock\",\"rock\",\"rock\",\"rock\",\"rock\",\"rock\",\"rock\",\"rock\",\"rock\",\"rock\",\"rock\",\"rock\",\"rock\",\"rock\",\"rock\",\"rock\",\"rock\",\"rock\",\"rock\",\"rock\",\"rock\",\"rock\",\"rock\",\"rock\",\"rock\",\"rock\",\"rock\",\"rock\",\"rock\",\"rock\",\"rock\",\"rock\",\"rock\",\"rock\",\"rock\",\"rock\",\"rock\",\"rock\",\"rock\",\"rock\",\"rock\",\"rock\",\"rock\",\"rock\",\"rock\",\"rock\",\"rock\",\"rock\",\"rock\",\"rock\",\"rock\",\"rock\",\"rock\",\"rock\",\"rock\",\"rock\",\"rock\",\"rock\",\"rock\",\"rock\",\"rock\",\"rock\",\"rock\",\"rock\",\"rock\",\"rock\",\"rock\",\"rock\",\"rock\",\"rock\",\"rock\",\"rock\",\"rock\",\"rock\",\"rock\",\"rock\",\"rock\",\"rock\",\"rock\",\"rock\",\"rock\",\"rock\",\"rock\",\"rock\",\"rock\",\"rock\",\"rock\",\"rock\",\"rock\",\"rock\",\"rock\",\"rock\",\"rock\",\"rock\",\"rock\",\"rock\",\"rock\",\"rock\",\"rock\",\"rock\",\"rock\",\"rock\",\"rock\",\"rock\",\"rock\",\"rock\",\"rock\",\"rock\",\"rock\",\"rock\",\"rock\",\"rock\",\"rock\",\"rock\",\"rock\",\"rock\",\"rock\",\"rock\",\"rock\",\"rock\",\"rock\",\"rock\",\"rock\",\"rock\",\"rock\",\"rock\",\"rock\",\"rock\",\"rock\",\"rock\",\"rock\",\"rock\",\"rock\",\"rock\",\"rock\",\"rock\",\"rock\",\"rock\",\"rock\",\"rock\",\"rock\",\"rock\",\"rock\",\"rock\",\"rock\",\"rock\",\"rock\",\"rock\",\"rock\",\"rock\",\"rock\",\"rock\",\"rock\",\"rock\",\"rock\",\"rock\",\"rock\",\"rock\",\"rock\",\"rock\",\"rock\",\"rock\",\"rock\",\"rock\",\"rock\",\"rock\",\"rock\",\"rock\",\"rock\",\"rock\",\"rock\",\"rock\",\"rock\",\"rock\",\"rock\",\"rock\",\"rock\",\"rock\",\"rock\",\"rock\",\"rock\",\"rock\",\"rock\",\"rock\",\"rock\",\"rock\",\"rock\",\"rock\",\"rock\",\"rock\",\"rock\",\"rock\",\"rock\",\"rock\",\"rock\",\"rock\",\"rock\",\"rock\",\"rock\",\"rock\",\"rock\",\"rock\",\"rock\",\"rock\",\"rock\",\"rock\",\"rock\",\"rock\",\"rock\",\"rock\",\"rock\",\"rock\",\"rock\",\"rock\",\"rock\",\"rock\",\"rock\",\"rock\",\"rock\",\"rock\",\"rock\",\"rock\",\"rock\",\"rock\",\"rock\",\"rock\",\"rock\",\"rock\",\"rock\",\"rock\",\"rock\",\"rock\",\"rock\",\"rock\",\"rock\",\"rock\",\"rock\",\"rock\",\"rock\",\"rock\",\"rock\",\"rock\",\"rock\",\"rock\",\"rock\",\"rock\",\"rock\",\"rock\",\"rock\",\"rock\",\"rock\",\"rock\",\"rock\",\"rock\",\"rock\",\"rock\",\"rock\",\"rock\",\"rock\",\"rock\",\"rock\",\"rock\",\"rock\",\"rock\",\"rock\",\"rock\",\"rock\",\"rock\",\"rock\",\"rock\",\"rock\",\"rock\",\"rock\",\"rock\",\"rock\",\"rock\",\"rock\",\"rock\",\"rock\",\"rock\",\"rock\",\"rock\",\"rock\",\"rock\",\"rock\",\"rock\",\"rock\",\"rock\",\"rock\",\"rock\",\"rock\",\"rock\",\"rock\",\"rock\",\"rock\",\"rock\",\"rock\",\"rock\",\"rock\",\"rock\",\"rock\",\"rock\",\"rock\",\"rock\",\"rock\",\"rock\",\"rock\",\"rock\",\"rock\",\"rock\",\"rock\",\"rock\",\"rock\",\"rock\",\"rock\",\"rock\",\"rock\",\"rock\",\"rock\",\"rock\",\"rock\",\"rock\",\"rock\",\"rock\",\"rock\",\"rock\",\"rock\",\"rock\",\"rock\",\"rock\",\"rock\",\"rock\",\"rock\",\"rock\",\"rock\",\"rock\",\"rock\",\"rock\",\"rock\",\"rock\",\"rock\",\"rock\",\"rock\",\"rock\",\"rock\",\"rock\",\"rock\",\"rock\",\"rock\",\"rock\",\"rock\",\"rock\",\"rock\",\"rock\",\"rock\",\"rock\",\"rock\",\"rock\",\"rock\",\"rock\",\"rock\",\"rock\",\"rock\",\"rock\",\"rock\",\"rock\",\"rock\",\"rock\",\"rock\",\"rock\",\"rock\",\"rock\",\"rock\",\"rock\",\"rock\",\"rock\",\"rock\",\"rock\",\"rock\",\"rock\",\"rock\",\"rock\",\"rock\",\"rock\"],\"type\":\"histogram\"},{\"histfunc\":\"count\",\"name\":\"tree\",\"x\":[\"tree\",\"tree\",\"tree\",\"tree\",\"tree\",\"tree\",\"tree\",\"tree\",\"tree\",\"tree\",\"tree\",\"tree\",\"tree\",\"tree\",\"tree\",\"tree\",\"tree\",\"tree\",\"tree\",\"tree\",\"tree\",\"tree\",\"tree\",\"tree\",\"tree\",\"tree\",\"tree\",\"tree\",\"tree\",\"tree\",\"tree\",\"tree\",\"tree\",\"tree\",\"tree\",\"tree\",\"tree\",\"tree\",\"tree\",\"tree\",\"tree\",\"tree\",\"tree\",\"tree\",\"tree\",\"tree\",\"tree\",\"tree\",\"tree\",\"tree\",\"tree\",\"tree\",\"tree\",\"tree\",\"tree\",\"tree\",\"tree\",\"tree\",\"tree\",\"tree\",\"tree\",\"tree\",\"tree\",\"tree\",\"tree\",\"tree\",\"tree\",\"tree\",\"tree\",\"tree\",\"tree\",\"tree\",\"tree\",\"tree\",\"tree\",\"tree\",\"tree\",\"tree\",\"tree\",\"tree\",\"tree\",\"tree\",\"tree\",\"tree\",\"tree\",\"tree\",\"tree\",\"tree\",\"tree\",\"tree\",\"tree\",\"tree\",\"tree\",\"tree\",\"tree\",\"tree\",\"tree\",\"tree\",\"tree\",\"tree\",\"tree\",\"tree\",\"tree\",\"tree\",\"tree\",\"tree\",\"tree\",\"tree\",\"tree\",\"tree\",\"tree\",\"tree\",\"tree\",\"tree\",\"tree\",\"tree\",\"tree\",\"tree\",\"tree\",\"tree\",\"tree\",\"tree\",\"tree\",\"tree\",\"tree\",\"tree\",\"tree\",\"tree\",\"tree\",\"tree\",\"tree\",\"tree\",\"tree\",\"tree\",\"tree\",\"tree\",\"tree\",\"tree\",\"tree\",\"tree\",\"tree\",\"tree\",\"tree\",\"tree\",\"tree\",\"tree\",\"tree\",\"tree\",\"tree\",\"tree\",\"tree\",\"tree\",\"tree\",\"tree\",\"tree\",\"tree\",\"tree\",\"tree\",\"tree\",\"tree\",\"tree\",\"tree\",\"tree\",\"tree\",\"tree\",\"tree\",\"tree\",\"tree\",\"tree\",\"tree\",\"tree\",\"tree\",\"tree\",\"tree\",\"tree\",\"tree\",\"tree\",\"tree\",\"tree\",\"tree\",\"tree\",\"tree\",\"tree\",\"tree\",\"tree\",\"tree\",\"tree\",\"tree\",\"tree\",\"tree\",\"tree\",\"tree\",\"tree\",\"tree\",\"tree\",\"tree\",\"tree\",\"tree\",\"tree\",\"tree\",\"tree\",\"tree\",\"tree\",\"tree\",\"tree\",\"tree\",\"tree\",\"tree\",\"tree\",\"tree\",\"tree\",\"tree\",\"tree\",\"tree\",\"tree\",\"tree\",\"tree\",\"tree\",\"tree\",\"tree\",\"tree\",\"tree\",\"tree\",\"tree\",\"tree\",\"tree\",\"tree\",\"tree\",\"tree\",\"tree\",\"tree\",\"tree\",\"tree\",\"tree\",\"tree\",\"tree\",\"tree\",\"tree\",\"tree\",\"tree\",\"tree\",\"tree\",\"tree\",\"tree\",\"tree\",\"tree\",\"tree\",\"tree\",\"tree\",\"tree\",\"tree\",\"tree\",\"tree\",\"tree\",\"tree\",\"tree\",\"tree\",\"tree\",\"tree\",\"tree\",\"tree\",\"tree\",\"tree\",\"tree\",\"tree\",\"tree\",\"tree\",\"tree\",\"tree\",\"tree\",\"tree\",\"tree\",\"tree\",\"tree\",\"tree\",\"tree\",\"tree\",\"tree\",\"tree\",\"tree\",\"tree\",\"tree\",\"tree\",\"tree\",\"tree\",\"tree\",\"tree\",\"tree\",\"tree\",\"tree\",\"tree\",\"tree\",\"tree\",\"tree\",\"tree\",\"tree\",\"tree\",\"tree\",\"tree\",\"tree\",\"tree\",\"tree\",\"tree\",\"tree\",\"tree\",\"tree\",\"tree\",\"tree\",\"tree\",\"tree\",\"tree\",\"tree\",\"tree\",\"tree\",\"tree\",\"tree\",\"tree\",\"tree\",\"tree\",\"tree\",\"tree\",\"tree\",\"tree\",\"tree\",\"tree\",\"tree\",\"tree\",\"tree\",\"tree\",\"tree\",\"tree\",\"tree\",\"tree\",\"tree\",\"tree\",\"tree\",\"tree\",\"tree\",\"tree\",\"tree\",\"tree\",\"tree\",\"tree\",\"tree\",\"tree\",\"tree\",\"tree\",\"tree\",\"tree\",\"tree\",\"tree\",\"tree\",\"tree\",\"tree\",\"tree\",\"tree\",\"tree\",\"tree\",\"tree\",\"tree\",\"tree\",\"tree\",\"tree\",\"tree\",\"tree\",\"tree\",\"tree\",\"tree\",\"tree\",\"tree\",\"tree\",\"tree\",\"tree\",\"tree\",\"tree\",\"tree\",\"tree\",\"tree\",\"tree\",\"tree\",\"tree\",\"tree\",\"tree\",\"tree\",\"tree\",\"tree\",\"tree\",\"tree\",\"tree\",\"tree\",\"tree\",\"tree\",\"tree\",\"tree\",\"tree\",\"tree\",\"tree\",\"tree\",\"tree\",\"tree\",\"tree\",\"tree\",\"tree\",\"tree\",\"tree\",\"tree\",\"tree\",\"tree\",\"tree\",\"tree\",\"tree\",\"tree\",\"tree\",\"tree\",\"tree\",\"tree\",\"tree\",\"tree\",\"tree\",\"tree\",\"tree\",\"tree\",\"tree\",\"tree\",\"tree\",\"tree\",\"tree\",\"tree\",\"tree\",\"tree\",\"tree\",\"tree\",\"tree\",\"tree\",\"tree\",\"tree\",\"tree\",\"tree\",\"tree\",\"tree\",\"tree\",\"tree\",\"tree\",\"tree\",\"tree\",\"tree\",\"tree\",\"tree\",\"tree\",\"tree\",\"tree\",\"tree\",\"tree\",\"tree\",\"tree\",\"tree\",\"tree\",\"tree\",\"tree\",\"tree\",\"tree\",\"tree\",\"tree\",\"tree\",\"tree\",\"tree\",\"tree\",\"tree\",\"tree\",\"tree\",\"tree\",\"tree\",\"tree\",\"tree\",\"tree\",\"tree\",\"tree\",\"tree\",\"tree\",\"tree\",\"tree\",\"tree\",\"tree\",\"tree\",\"tree\",\"tree\",\"tree\",\"tree\",\"tree\",\"tree\",\"tree\",\"tree\",\"tree\",\"tree\",\"tree\",\"tree\",\"tree\",\"tree\",\"tree\",\"tree\",\"tree\",\"tree\",\"tree\",\"tree\",\"tree\",\"tree\",\"tree\",\"tree\",\"tree\",\"tree\",\"tree\",\"tree\",\"tree\",\"tree\",\"tree\",\"tree\",\"tree\",\"tree\",\"tree\",\"tree\",\"tree\",\"tree\",\"tree\",\"tree\",\"tree\",\"tree\",\"tree\",\"tree\",\"tree\",\"tree\",\"tree\",\"tree\",\"tree\",\"tree\",\"tree\",\"tree\",\"tree\",\"tree\",\"tree\",\"tree\",\"tree\",\"tree\",\"tree\",\"tree\",\"tree\",\"tree\",\"tree\",\"tree\",\"tree\",\"tree\",\"tree\",\"tree\",\"tree\",\"tree\",\"tree\",\"tree\",\"tree\",\"tree\",\"tree\",\"tree\",\"tree\",\"tree\",\"tree\",\"tree\",\"tree\",\"tree\",\"tree\",\"tree\",\"tree\",\"tree\",\"tree\",\"tree\",\"tree\",\"tree\",\"tree\",\"tree\",\"tree\",\"tree\",\"tree\",\"tree\",\"tree\",\"tree\",\"tree\",\"tree\",\"tree\",\"tree\",\"tree\",\"tree\",\"tree\",\"tree\",\"tree\",\"tree\",\"tree\",\"tree\",\"tree\",\"tree\",\"tree\",\"tree\",\"tree\",\"tree\",\"tree\",\"tree\",\"tree\",\"tree\",\"tree\",\"tree\",\"tree\",\"tree\",\"tree\",\"tree\",\"tree\",\"tree\",\"tree\",\"tree\",\"tree\",\"tree\",\"tree\",\"tree\",\"tree\",\"tree\",\"tree\",\"tree\",\"tree\",\"tree\",\"tree\",\"tree\",\"tree\",\"tree\",\"tree\",\"tree\",\"tree\",\"tree\",\"tree\",\"tree\",\"tree\",\"tree\",\"tree\",\"tree\",\"tree\",\"tree\",\"tree\",\"tree\",\"tree\",\"tree\",\"tree\",\"tree\",\"tree\",\"tree\",\"tree\",\"tree\",\"tree\",\"tree\",\"tree\",\"tree\",\"tree\",\"tree\",\"tree\",\"tree\",\"tree\",\"tree\",\"tree\",\"tree\",\"tree\",\"tree\",\"tree\",\"tree\",\"tree\",\"tree\",\"tree\",\"tree\",\"tree\",\"tree\",\"tree\",\"tree\",\"tree\",\"tree\",\"tree\",\"tree\",\"tree\",\"tree\",\"tree\",\"tree\",\"tree\",\"tree\",\"tree\",\"tree\",\"tree\",\"tree\",\"tree\",\"tree\",\"tree\",\"tree\",\"tree\",\"tree\",\"tree\",\"tree\",\"tree\",\"tree\",\"tree\",\"tree\",\"tree\",\"tree\",\"tree\",\"tree\",\"tree\",\"tree\",\"tree\",\"tree\",\"tree\",\"tree\",\"tree\",\"tree\",\"tree\",\"tree\",\"tree\",\"tree\",\"tree\",\"tree\",\"tree\",\"tree\",\"tree\",\"tree\",\"tree\",\"tree\",\"tree\",\"tree\",\"tree\",\"tree\",\"tree\",\"tree\",\"tree\",\"tree\",\"tree\",\"tree\",\"tree\",\"tree\",\"tree\",\"tree\",\"tree\",\"tree\",\"tree\",\"tree\",\"tree\",\"tree\",\"tree\",\"tree\",\"tree\",\"tree\",\"tree\",\"tree\",\"tree\",\"tree\",\"tree\",\"tree\",\"tree\",\"tree\",\"tree\",\"tree\",\"tree\",\"tree\",\"tree\",\"tree\",\"tree\",\"tree\",\"tree\",\"tree\",\"tree\",\"tree\",\"tree\",\"tree\",\"tree\",\"tree\",\"tree\",\"tree\",\"tree\",\"tree\",\"tree\",\"tree\",\"tree\",\"tree\",\"tree\",\"tree\",\"tree\",\"tree\",\"tree\",\"tree\",\"tree\",\"tree\",\"tree\",\"tree\",\"tree\",\"tree\",\"tree\",\"tree\",\"tree\",\"tree\",\"tree\",\"tree\",\"tree\",\"tree\"],\"type\":\"histogram\"}],                        {\"title\":{\"text\":\"Label distribution\"},\"xaxis\":{\"title\":{\"text\":\"label\"}},\"yaxis\":{\"title\":{\"text\":\"count\"}},\"template\":{\"data\":{\"barpolar\":[{\"marker\":{\"line\":{\"color\":\"white\",\"width\":0.5},\"pattern\":{\"fillmode\":\"overlay\",\"size\":10,\"solidity\":0.2}},\"type\":\"barpolar\"}],\"bar\":[{\"error_x\":{\"color\":\"#2a3f5f\"},\"error_y\":{\"color\":\"#2a3f5f\"},\"marker\":{\"line\":{\"color\":\"white\",\"width\":0.5},\"pattern\":{\"fillmode\":\"overlay\",\"size\":10,\"solidity\":0.2}},\"type\":\"bar\"}],\"carpet\":[{\"aaxis\":{\"endlinecolor\":\"#2a3f5f\",\"gridcolor\":\"#C8D4E3\",\"linecolor\":\"#C8D4E3\",\"minorgridcolor\":\"#C8D4E3\",\"startlinecolor\":\"#2a3f5f\"},\"baxis\":{\"endlinecolor\":\"#2a3f5f\",\"gridcolor\":\"#C8D4E3\",\"linecolor\":\"#C8D4E3\",\"minorgridcolor\":\"#C8D4E3\",\"startlinecolor\":\"#2a3f5f\"},\"type\":\"carpet\"}],\"choropleth\":[{\"colorbar\":{\"outlinewidth\":0,\"ticks\":\"\"},\"type\":\"choropleth\"}],\"contourcarpet\":[{\"colorbar\":{\"outlinewidth\":0,\"ticks\":\"\"},\"type\":\"contourcarpet\"}],\"contour\":[{\"colorbar\":{\"outlinewidth\":0,\"ticks\":\"\"},\"colorscale\":[[0.0,\"#0d0887\"],[0.1111111111111111,\"#46039f\"],[0.2222222222222222,\"#7201a8\"],[0.3333333333333333,\"#9c179e\"],[0.4444444444444444,\"#bd3786\"],[0.5555555555555556,\"#d8576b\"],[0.6666666666666666,\"#ed7953\"],[0.7777777777777778,\"#fb9f3a\"],[0.8888888888888888,\"#fdca26\"],[1.0,\"#f0f921\"]],\"type\":\"contour\"}],\"heatmapgl\":[{\"colorbar\":{\"outlinewidth\":0,\"ticks\":\"\"},\"colorscale\":[[0.0,\"#0d0887\"],[0.1111111111111111,\"#46039f\"],[0.2222222222222222,\"#7201a8\"],[0.3333333333333333,\"#9c179e\"],[0.4444444444444444,\"#bd3786\"],[0.5555555555555556,\"#d8576b\"],[0.6666666666666666,\"#ed7953\"],[0.7777777777777778,\"#fb9f3a\"],[0.8888888888888888,\"#fdca26\"],[1.0,\"#f0f921\"]],\"type\":\"heatmapgl\"}],\"heatmap\":[{\"colorbar\":{\"outlinewidth\":0,\"ticks\":\"\"},\"colorscale\":[[0.0,\"#0d0887\"],[0.1111111111111111,\"#46039f\"],[0.2222222222222222,\"#7201a8\"],[0.3333333333333333,\"#9c179e\"],[0.4444444444444444,\"#bd3786\"],[0.5555555555555556,\"#d8576b\"],[0.6666666666666666,\"#ed7953\"],[0.7777777777777778,\"#fb9f3a\"],[0.8888888888888888,\"#fdca26\"],[1.0,\"#f0f921\"]],\"type\":\"heatmap\"}],\"histogram2dcontour\":[{\"colorbar\":{\"outlinewidth\":0,\"ticks\":\"\"},\"colorscale\":[[0.0,\"#0d0887\"],[0.1111111111111111,\"#46039f\"],[0.2222222222222222,\"#7201a8\"],[0.3333333333333333,\"#9c179e\"],[0.4444444444444444,\"#bd3786\"],[0.5555555555555556,\"#d8576b\"],[0.6666666666666666,\"#ed7953\"],[0.7777777777777778,\"#fb9f3a\"],[0.8888888888888888,\"#fdca26\"],[1.0,\"#f0f921\"]],\"type\":\"histogram2dcontour\"}],\"histogram2d\":[{\"colorbar\":{\"outlinewidth\":0,\"ticks\":\"\"},\"colorscale\":[[0.0,\"#0d0887\"],[0.1111111111111111,\"#46039f\"],[0.2222222222222222,\"#7201a8\"],[0.3333333333333333,\"#9c179e\"],[0.4444444444444444,\"#bd3786\"],[0.5555555555555556,\"#d8576b\"],[0.6666666666666666,\"#ed7953\"],[0.7777777777777778,\"#fb9f3a\"],[0.8888888888888888,\"#fdca26\"],[1.0,\"#f0f921\"]],\"type\":\"histogram2d\"}],\"histogram\":[{\"marker\":{\"pattern\":{\"fillmode\":\"overlay\",\"size\":10,\"solidity\":0.2},\"line\":{\"width\":1}},\"type\":\"histogram\"}],\"mesh3d\":[{\"colorbar\":{\"outlinewidth\":0,\"ticks\":\"\"},\"type\":\"mesh3d\"}],\"parcoords\":[{\"line\":{\"colorbar\":{\"outlinewidth\":0,\"ticks\":\"\"}},\"type\":\"parcoords\"}],\"pie\":[{\"automargin\":true,\"type\":\"pie\"}],\"scatter3d\":[{\"line\":{\"colorbar\":{\"outlinewidth\":0,\"ticks\":\"\"}},\"marker\":{\"colorbar\":{\"outlinewidth\":0,\"ticks\":\"\"},\"opacity\":0.8},\"type\":\"scatter3d\"}],\"scattercarpet\":[{\"marker\":{\"colorbar\":{\"outlinewidth\":0,\"ticks\":\"\"}},\"type\":\"scattercarpet\"}],\"scattergeo\":[{\"marker\":{\"colorbar\":{\"outlinewidth\":0,\"ticks\":\"\"}},\"type\":\"scattergeo\"}],\"scattergl\":[{\"marker\":{\"colorbar\":{\"outlinewidth\":0,\"ticks\":\"\"}},\"type\":\"scattergl\"}],\"scattermapbox\":[{\"marker\":{\"colorbar\":{\"outlinewidth\":0,\"ticks\":\"\"}},\"type\":\"scattermapbox\"}],\"scatterpolargl\":[{\"marker\":{\"colorbar\":{\"outlinewidth\":0,\"ticks\":\"\"}},\"type\":\"scatterpolargl\"}],\"scatterpolar\":[{\"marker\":{\"colorbar\":{\"outlinewidth\":0,\"ticks\":\"\"}},\"type\":\"scatterpolar\"}],\"scatter\":[{\"fillpattern\":{\"fillmode\":\"overlay\",\"size\":10,\"solidity\":0.2},\"type\":\"scatter\",\"marker\":{\"opacity\":0.8}}],\"scatterternary\":[{\"marker\":{\"colorbar\":{\"outlinewidth\":0,\"ticks\":\"\"}},\"type\":\"scatterternary\"}],\"surface\":[{\"colorbar\":{\"outlinewidth\":0,\"ticks\":\"\"},\"colorscale\":[[0.0,\"#0d0887\"],[0.1111111111111111,\"#46039f\"],[0.2222222222222222,\"#7201a8\"],[0.3333333333333333,\"#9c179e\"],[0.4444444444444444,\"#bd3786\"],[0.5555555555555556,\"#d8576b\"],[0.6666666666666666,\"#ed7953\"],[0.7777777777777778,\"#fb9f3a\"],[0.8888888888888888,\"#fdca26\"],[1.0,\"#f0f921\"]],\"type\":\"surface\"}],\"table\":[{\"cells\":{\"fill\":{\"color\":\"#EBF0F8\"},\"line\":{\"color\":\"white\"}},\"header\":{\"fill\":{\"color\":\"#C8D4E3\"},\"line\":{\"color\":\"white\"}},\"type\":\"table\"}],\"box\":[{\"boxpoints\":\"outliers\",\"notched\":false,\"type\":\"box\"}]},\"layout\":{\"annotationdefaults\":{\"arrowcolor\":\"#2a3f5f\",\"arrowhead\":0,\"arrowwidth\":1},\"autotypenumbers\":\"strict\",\"coloraxis\":{\"colorbar\":{\"outlinewidth\":0,\"ticks\":\"\"}},\"colorscale\":{\"diverging\":[[0,\"#8e0152\"],[0.1,\"#c51b7d\"],[0.2,\"#de77ae\"],[0.3,\"#f1b6da\"],[0.4,\"#fde0ef\"],[0.5,\"#f7f7f7\"],[0.6,\"#e6f5d0\"],[0.7,\"#b8e186\"],[0.8,\"#7fbc41\"],[0.9,\"#4d9221\"],[1,\"#276419\"]],\"sequential\":[[0.0,\"#0d0887\"],[0.1111111111111111,\"#46039f\"],[0.2222222222222222,\"#7201a8\"],[0.3333333333333333,\"#9c179e\"],[0.4444444444444444,\"#bd3786\"],[0.5555555555555556,\"#d8576b\"],[0.6666666666666666,\"#ed7953\"],[0.7777777777777778,\"#fb9f3a\"],[0.8888888888888888,\"#fdca26\"],[1.0,\"#f0f921\"]],\"sequentialminus\":[[0.0,\"#0d0887\"],[0.1111111111111111,\"#46039f\"],[0.2222222222222222,\"#7201a8\"],[0.3333333333333333,\"#9c179e\"],[0.4444444444444444,\"#bd3786\"],[0.5555555555555556,\"#d8576b\"],[0.6666666666666666,\"#ed7953\"],[0.7777777777777778,\"#fb9f3a\"],[0.8888888888888888,\"#fdca26\"],[1.0,\"#f0f921\"]]},\"colorway\":[\"#636efa\",\"#EF553B\",\"#00cc96\",\"#ab63fa\",\"#FFA15A\",\"#19d3f3\",\"#FF6692\",\"#B6E880\",\"#FF97FF\",\"#FECB52\"],\"font\":{\"color\":\"#2a3f5f\"},\"geo\":{\"bgcolor\":\"white\",\"lakecolor\":\"white\",\"landcolor\":\"white\",\"showlakes\":true,\"showland\":true,\"subunitcolor\":\"#C8D4E3\"},\"hoverlabel\":{\"align\":\"left\"},\"hovermode\":\"closest\",\"mapbox\":{\"style\":\"light\"},\"paper_bgcolor\":\"white\",\"plot_bgcolor\":\"white\",\"polar\":{\"angularaxis\":{\"gridcolor\":\"#EBF0F8\",\"linecolor\":\"#EBF0F8\",\"ticks\":\"\"},\"bgcolor\":\"white\",\"radialaxis\":{\"gridcolor\":\"#EBF0F8\",\"linecolor\":\"#EBF0F8\",\"ticks\":\"\"}},\"scene\":{\"xaxis\":{\"backgroundcolor\":\"white\",\"gridcolor\":\"#DFE8F3\",\"gridwidth\":2,\"linecolor\":\"#EBF0F8\",\"showbackground\":true,\"ticks\":\"\",\"zerolinecolor\":\"#EBF0F8\"},\"yaxis\":{\"backgroundcolor\":\"white\",\"gridcolor\":\"#DFE8F3\",\"gridwidth\":2,\"linecolor\":\"#EBF0F8\",\"showbackground\":true,\"ticks\":\"\",\"zerolinecolor\":\"#EBF0F8\"},\"zaxis\":{\"backgroundcolor\":\"white\",\"gridcolor\":\"#DFE8F3\",\"gridwidth\":2,\"linecolor\":\"#EBF0F8\",\"showbackground\":true,\"ticks\":\"\",\"zerolinecolor\":\"#EBF0F8\"},\"camera\":{\"eye\":{\"x\":1.5,\"y\":1.5,\"z\":0.1}}},\"shapedefaults\":{\"line\":{\"color\":\"#2a3f5f\"}},\"ternary\":{\"aaxis\":{\"gridcolor\":\"#DFE8F3\",\"linecolor\":\"#A2B1C6\",\"ticks\":\"\"},\"baxis\":{\"gridcolor\":\"#DFE8F3\",\"linecolor\":\"#A2B1C6\",\"ticks\":\"\"},\"bgcolor\":\"white\",\"caxis\":{\"gridcolor\":\"#DFE8F3\",\"linecolor\":\"#A2B1C6\",\"ticks\":\"\"}},\"title\":{\"x\":0.5},\"xaxis\":{\"automargin\":true,\"gridcolor\":\"#EBF0F8\",\"linecolor\":\"#EBF0F8\",\"ticks\":\"\",\"title\":{\"standoff\":15},\"zerolinecolor\":\"#EBF0F8\",\"zerolinewidth\":2,\"linewidth\":2,\"showline\":true},\"yaxis\":{\"automargin\":true,\"gridcolor\":\"#EBF0F8\",\"linecolor\":\"#EBF0F8\",\"ticks\":\"\",\"title\":{\"standoff\":15},\"zerolinecolor\":\"#EBF0F8\",\"zerolinewidth\":2,\"linewidth\":2,\"showline\":true},\"height\":400,\"margin\":{\"b\":2,\"l\":2,\"r\":2,\"t\":30}}},\"legend\":{\"title\":{\"text\":\"label\"}}},                        {\"responsive\": true}                    ).then(function(){\n",
              "                            \n",
              "var gd = document.getElementById('2627f390-10aa-40b4-b9f1-0d76a129fed6');\n",
              "var x = new MutationObserver(function (mutations, observer) {{\n",
              "        var display = window.getComputedStyle(gd).display;\n",
              "        if (!display || display === 'none') {{\n",
              "            console.log([gd, 'removed!']);\n",
              "            Plotly.purge(gd);\n",
              "            observer.disconnect();\n",
              "        }}\n",
              "}});\n",
              "\n",
              "// Listen for the removal of the full notebook cells\n",
              "var notebookContainer = gd.closest('#notebook-container');\n",
              "if (notebookContainer) {{\n",
              "    x.observe(notebookContainer, {childList: true});\n",
              "}}\n",
              "\n",
              "// Listen for the clearing of the current output cell\n",
              "var outputEl = gd.closest('.output');\n",
              "if (outputEl) {{\n",
              "    x.observe(outputEl, {childList: true});\n",
              "}}\n",
              "\n",
              "                        })                };                            </script>        </div>\n",
              "</body>\n",
              "</html>"
            ]
          },
          "metadata": {}
        }
      ]
    },
    {
      "cell_type": "code",
      "source": [
        "# Add a new label with true/false values to our dataset\n",
        "dataset[\"is_hiker\"] = dataset.label == \"hiker\"\n",
        "\n",
        "# Plot frequency for new label\n",
        "graphing.multiple_histogram(dataset, label_x=\"is_hiker\", label_group=\"is_hiker\", title=\"Distribution for new binary label 'is_hiker'\")"
      ],
      "metadata": {
        "colab": {
          "base_uri": "https://localhost:8080/",
          "height": 417
        },
        "id": "vb2hyA5GOah7",
        "outputId": "ed49ce39-b8bd-4f29-bfcb-4783150f345e"
      },
      "execution_count": 3,
      "outputs": [
        {
          "output_type": "display_data",
          "data": {
            "text/html": [
              "<html>\n",
              "<head><meta charset=\"utf-8\" /></head>\n",
              "<body>\n",
              "    <div>            <script src=\"https://cdnjs.cloudflare.com/ajax/libs/mathjax/2.7.5/MathJax.js?config=TeX-AMS-MML_SVG\"></script><script type=\"text/javascript\">if (window.MathJax && window.MathJax.Hub && window.MathJax.Hub.Config) {window.MathJax.Hub.Config({SVG: {font: \"STIX-Web\"}});}</script>                <script type=\"text/javascript\">window.PlotlyConfig = {MathJaxConfig: 'local'};</script>\n",
              "        <script src=\"https://cdn.plot.ly/plotly-2.18.2.min.js\"></script>                <div id=\"f251ef88-3cb4-43b5-b2ca-9bfbba4a686e\" class=\"plotly-graph-div\" style=\"height:400px; width:100%;\"></div>            <script type=\"text/javascript\">                                    window.PLOTLYENV=window.PLOTLYENV || {};                                    if (document.getElementById(\"f251ef88-3cb4-43b5-b2ca-9bfbba4a686e\")) {                    Plotly.newPlot(                        \"f251ef88-3cb4-43b5-b2ca-9bfbba4a686e\",                        [{\"histfunc\":\"count\",\"name\":\"False\",\"x\":[false,false,false,false,false,false,false,false,false,false,false,false,false,false,false,false,false,false,false,false,false,false,false,false,false,false,false,false,false,false,false,false,false,false,false,false,false,false,false,false,false,false,false,false,false,false,false,false,false,false,false,false,false,false,false,false,false,false,false,false,false,false,false,false,false,false,false,false,false,false,false,false,false,false,false,false,false,false,false,false,false,false,false,false,false,false,false,false,false,false,false,false,false,false,false,false,false,false,false,false,false,false,false,false,false,false,false,false,false,false,false,false,false,false,false,false,false,false,false,false,false,false,false,false,false,false,false,false,false,false,false,false,false,false,false,false,false,false,false,false,false,false,false,false,false,false,false,false,false,false,false,false,false,false,false,false,false,false,false,false,false,false,false,false,false,false,false,false,false,false,false,false,false,false,false,false,false,false,false,false,false,false,false,false,false,false,false,false,false,false,false,false,false,false,false,false,false,false,false,false,false,false,false,false,false,false,false,false,false,false,false,false,false,false,false,false,false,false,false,false,false,false,false,false,false,false,false,false,false,false,false,false,false,false,false,false,false,false,false,false,false,false,false,false,false,false,false,false,false,false,false,false,false,false,false,false,false,false,false,false,false,false,false,false,false,false,false,false,false,false,false,false,false,false,false,false,false,false,false,false,false,false,false,false,false,false,false,false,false,false,false,false,false,false,false,false,false,false,false,false,false,false,false,false,false,false,false,false,false,false,false,false,false,false,false,false,false,false,false,false,false,false,false,false,false,false,false,false,false,false,false,false,false,false,false,false,false,false,false,false,false,false,false,false,false,false,false,false,false,false,false,false,false,false,false,false,false,false,false,false,false,false,false,false,false,false,false,false,false,false,false,false,false,false,false,false,false,false,false,false,false,false,false,false,false,false,false,false,false,false,false,false,false,false,false,false,false,false,false,false,false,false,false,false,false,false,false,false,false,false,false,false,false,false,false,false,false,false,false,false,false,false,false,false,false,false,false,false,false,false,false,false,false,false,false,false,false,false,false,false,false,false,false,false,false,false,false,false,false,false,false,false,false,false,false,false,false,false,false,false,false,false,false,false,false,false,false,false,false,false,false,false,false,false,false,false,false,false,false,false,false,false,false,false,false,false,false,false,false,false,false,false,false,false,false,false,false,false,false,false,false,false,false,false,false,false,false,false,false,false,false,false,false,false,false,false,false,false,false,false,false,false,false,false,false,false,false,false,false,false,false,false,false,false,false,false,false,false,false,false,false,false,false,false,false,false,false,false,false,false,false,false,false,false,false,false,false,false,false,false,false,false,false,false,false,false,false,false,false,false,false,false,false,false,false,false,false,false,false,false,false,false,false,false,false,false,false,false,false,false,false,false,false,false,false,false,false,false,false,false,false,false,false,false,false,false,false,false,false,false,false,false,false,false,false,false,false,false,false,false,false,false,false,false,false,false,false,false,false,false,false,false,false,false,false,false,false,false,false,false,false,false,false,false,false,false,false,false,false,false,false,false,false,false,false,false,false,false,false,false,false,false,false,false,false,false,false,false,false,false,false,false,false,false,false,false,false,false,false,false,false,false,false,false,false,false,false,false,false,false,false,false,false,false,false,false,false,false,false,false,false,false,false,false,false,false,false,false,false,false,false,false,false,false,false,false,false,false,false,false,false,false,false,false,false,false,false,false,false,false,false,false,false,false,false,false,false,false,false,false,false,false,false,false,false,false,false,false,false,false,false,false,false,false,false,false,false,false,false,false,false,false,false,false,false,false,false,false,false,false,false,false,false,false,false,false,false,false,false,false,false,false,false,false,false,false,false,false,false,false,false,false,false,false,false,false,false,false,false,false,false,false,false,false,false,false,false,false,false,false,false,false,false,false,false,false,false,false,false,false,false,false,false,false,false,false,false,false,false,false,false,false,false,false,false,false,false,false,false,false,false,false,false,false,false,false,false,false,false,false,false,false,false,false,false,false,false,false,false,false,false,false,false,false,false,false,false,false,false,false,false,false,false,false,false,false,false,false,false,false,false,false,false,false,false,false,false,false,false,false,false,false,false,false,false,false,false,false,false,false,false,false,false,false,false,false,false,false,false,false,false,false,false,false,false,false,false,false,false,false,false,false,false,false,false,false,false,false,false,false,false,false,false,false,false,false,false,false,false,false,false,false,false,false,false,false,false,false,false,false,false,false,false,false,false,false,false,false,false,false,false,false,false,false,false,false,false,false,false,false,false,false,false,false,false,false,false,false,false,false,false,false,false,false,false,false,false,false,false,false,false,false,false,false,false,false,false,false,false,false,false,false,false,false,false,false,false,false,false,false,false,false,false,false,false,false,false,false,false,false,false,false,false,false,false,false,false,false,false,false,false,false,false,false,false,false,false,false,false,false,false,false,false,false,false,false,false,false,false,false,false,false,false,false,false,false,false,false,false,false,false,false,false,false,false,false,false,false,false,false,false,false,false,false,false,false,false,false,false,false,false,false,false,false,false,false,false,false,false,false,false,false,false,false,false,false,false,false,false,false,false,false,false,false,false,false,false,false,false,false,false,false,false,false,false,false,false,false,false,false,false,false,false,false,false,false,false,false,false,false,false,false,false,false,false,false,false,false,false,false,false,false,false,false,false,false,false,false,false,false,false,false,false,false,false,false,false,false,false,false,false,false,false,false,false,false,false,false,false,false,false,false,false,false,false,false,false,false,false,false,false,false,false,false,false,false,false,false,false,false,false,false,false,false,false,false,false,false,false,false,false,false,false,false,false,false,false,false,false,false,false,false,false,false,false,false,false,false,false,false,false,false,false,false,false,false,false,false,false,false,false,false,false,false,false,false,false,false,false,false,false,false,false,false,false,false,false,false,false,false,false,false,false,false,false,false,false,false,false,false,false,false,false,false,false,false,false,false,false,false,false,false,false,false,false,false,false,false,false,false,false,false,false,false,false,false,false,false,false,false,false,false,false,false,false,false,false,false,false,false,false,false,false,false,false,false,false,false,false,false,false,false,false,false,false,false,false,false,false,false,false,false,false,false,false,false,false,false,false,false,false,false,false,false,false,false,false,false,false,false,false,false,false,false,false,false,false,false,false,false,false,false,false,false,false,false,false,false,false,false,false,false,false,false,false,false,false,false,false,false,false,false,false,false,false,false,false,false,false,false,false,false,false,false,false,false,false,false,false,false,false,false,false,false,false,false,false,false,false,false,false,false,false,false,false,false,false,false,false,false,false,false,false,false,false,false,false,false,false,false,false,false,false,false,false,false,false,false,false,false,false,false,false,false,false,false,false,false,false,false,false,false,false,false,false,false,false,false,false,false,false,false,false,false,false,false,false,false,false,false,false,false,false,false,false,false,false,false,false,false,false,false,false,false,false,false,false,false,false,false,false,false,false,false,false,false,false,false,false,false,false,false,false,false,false,false,false,false,false,false,false,false,false,false,false,false,false,false,false,false,false,false,false,false,false,false,false,false,false,false,false,false,false,false,false,false,false,false,false,false,false,false,false,false,false,false,false,false,false,false,false,false,false,false,false,false,false,false,false,false,false,false,false,false,false,false,false,false,false,false,false,false,false,false,false,false,false,false,false,false,false,false,false,false,false,false,false,false,false,false,false,false,false,false,false,false,false,false,false,false,false,false,false,false,false,false,false,false,false,false,false,false,false,false,false,false,false,false,false,false,false,false,false,false,false,false,false,false,false,false,false,false,false,false,false,false,false,false,false,false,false,false,false,false,false,false,false,false,false,false,false,false,false,false,false,false,false,false,false,false,false,false,false,false,false,false,false,false,false,false,false,false,false,false,false,false,false,false,false,false,false,false,false,false,false,false,false,false,false,false,false,false,false,false,false,false,false,false,false,false,false,false,false,false,false,false,false,false,false,false,false,false,false,false,false,false,false,false,false,false,false,false,false,false,false,false,false,false,false,false,false,false,false,false,false,false,false,false,false,false,false,false,false,false,false,false,false,false,false,false,false,false,false,false,false,false,false,false,false,false,false,false,false,false,false,false,false,false,false,false,false,false,false,false,false,false,false,false,false,false,false,false,false,false,false,false,false,false,false,false,false,false,false,false,false,false,false,false,false,false,false,false,false,false,false,false,false,false,false,false],\"type\":\"histogram\"},{\"histfunc\":\"count\",\"name\":\"True\",\"x\":[true,true,true,true,true,true,true,true,true,true,true,true,true,true,true,true,true,true,true,true,true,true,true,true,true,true,true,true,true,true,true,true,true,true,true,true,true,true,true,true,true,true,true,true,true,true,true,true,true,true,true,true,true,true,true,true,true,true,true,true,true,true,true,true,true,true,true,true,true,true,true,true,true,true,true,true,true,true,true,true,true,true,true,true,true,true,true,true,true,true,true,true,true,true,true,true,true,true,true,true,true,true,true,true,true,true,true,true,true,true,true,true,true,true,true,true,true,true,true,true,true,true,true,true,true,true,true,true,true,true,true,true,true,true,true,true,true,true,true,true,true,true,true,true,true,true,true,true,true,true,true,true,true,true,true,true,true,true,true,true,true,true,true,true,true,true,true,true,true,true,true,true,true,true,true,true,true,true,true,true,true,true,true,true,true,true,true,true,true,true,true,true,true,true,true,true,true,true,true,true,true,true,true,true,true,true,true,true,true,true,true,true,true,true,true,true,true,true,true,true,true,true,true,true,true,true,true,true,true,true,true,true,true,true,true,true,true,true,true,true,true,true,true,true,true,true,true,true,true,true,true,true,true,true,true,true,true,true,true,true,true,true,true,true,true,true,true,true,true,true,true,true,true,true,true,true,true,true,true,true,true,true,true,true,true,true,true,true,true,true,true,true,true,true,true,true,true,true,true,true,true,true,true,true,true,true,true,true,true,true,true,true,true,true,true,true,true,true,true,true,true,true,true,true,true,true,true,true,true,true,true,true,true,true,true,true,true,true,true,true,true,true,true,true,true,true,true,true,true,true,true,true,true,true,true,true,true,true,true,true,true,true,true,true,true,true,true,true,true,true,true,true,true,true,true,true,true,true,true,true,true,true,true,true,true,true,true,true,true,true,true,true,true,true,true,true,true,true,true,true],\"type\":\"histogram\"}],                        {\"title\":{\"text\":\"Distribution for new binary label 'is_hiker'\"},\"xaxis\":{\"title\":{\"text\":\"is hiker\"}},\"yaxis\":{\"title\":{\"text\":\"count\"}},\"template\":{\"data\":{\"barpolar\":[{\"marker\":{\"line\":{\"color\":\"white\",\"width\":0.5},\"pattern\":{\"fillmode\":\"overlay\",\"size\":10,\"solidity\":0.2}},\"type\":\"barpolar\"}],\"bar\":[{\"error_x\":{\"color\":\"#2a3f5f\"},\"error_y\":{\"color\":\"#2a3f5f\"},\"marker\":{\"line\":{\"color\":\"white\",\"width\":0.5},\"pattern\":{\"fillmode\":\"overlay\",\"size\":10,\"solidity\":0.2}},\"type\":\"bar\"}],\"carpet\":[{\"aaxis\":{\"endlinecolor\":\"#2a3f5f\",\"gridcolor\":\"#C8D4E3\",\"linecolor\":\"#C8D4E3\",\"minorgridcolor\":\"#C8D4E3\",\"startlinecolor\":\"#2a3f5f\"},\"baxis\":{\"endlinecolor\":\"#2a3f5f\",\"gridcolor\":\"#C8D4E3\",\"linecolor\":\"#C8D4E3\",\"minorgridcolor\":\"#C8D4E3\",\"startlinecolor\":\"#2a3f5f\"},\"type\":\"carpet\"}],\"choropleth\":[{\"colorbar\":{\"outlinewidth\":0,\"ticks\":\"\"},\"type\":\"choropleth\"}],\"contourcarpet\":[{\"colorbar\":{\"outlinewidth\":0,\"ticks\":\"\"},\"type\":\"contourcarpet\"}],\"contour\":[{\"colorbar\":{\"outlinewidth\":0,\"ticks\":\"\"},\"colorscale\":[[0.0,\"#0d0887\"],[0.1111111111111111,\"#46039f\"],[0.2222222222222222,\"#7201a8\"],[0.3333333333333333,\"#9c179e\"],[0.4444444444444444,\"#bd3786\"],[0.5555555555555556,\"#d8576b\"],[0.6666666666666666,\"#ed7953\"],[0.7777777777777778,\"#fb9f3a\"],[0.8888888888888888,\"#fdca26\"],[1.0,\"#f0f921\"]],\"type\":\"contour\"}],\"heatmapgl\":[{\"colorbar\":{\"outlinewidth\":0,\"ticks\":\"\"},\"colorscale\":[[0.0,\"#0d0887\"],[0.1111111111111111,\"#46039f\"],[0.2222222222222222,\"#7201a8\"],[0.3333333333333333,\"#9c179e\"],[0.4444444444444444,\"#bd3786\"],[0.5555555555555556,\"#d8576b\"],[0.6666666666666666,\"#ed7953\"],[0.7777777777777778,\"#fb9f3a\"],[0.8888888888888888,\"#fdca26\"],[1.0,\"#f0f921\"]],\"type\":\"heatmapgl\"}],\"heatmap\":[{\"colorbar\":{\"outlinewidth\":0,\"ticks\":\"\"},\"colorscale\":[[0.0,\"#0d0887\"],[0.1111111111111111,\"#46039f\"],[0.2222222222222222,\"#7201a8\"],[0.3333333333333333,\"#9c179e\"],[0.4444444444444444,\"#bd3786\"],[0.5555555555555556,\"#d8576b\"],[0.6666666666666666,\"#ed7953\"],[0.7777777777777778,\"#fb9f3a\"],[0.8888888888888888,\"#fdca26\"],[1.0,\"#f0f921\"]],\"type\":\"heatmap\"}],\"histogram2dcontour\":[{\"colorbar\":{\"outlinewidth\":0,\"ticks\":\"\"},\"colorscale\":[[0.0,\"#0d0887\"],[0.1111111111111111,\"#46039f\"],[0.2222222222222222,\"#7201a8\"],[0.3333333333333333,\"#9c179e\"],[0.4444444444444444,\"#bd3786\"],[0.5555555555555556,\"#d8576b\"],[0.6666666666666666,\"#ed7953\"],[0.7777777777777778,\"#fb9f3a\"],[0.8888888888888888,\"#fdca26\"],[1.0,\"#f0f921\"]],\"type\":\"histogram2dcontour\"}],\"histogram2d\":[{\"colorbar\":{\"outlinewidth\":0,\"ticks\":\"\"},\"colorscale\":[[0.0,\"#0d0887\"],[0.1111111111111111,\"#46039f\"],[0.2222222222222222,\"#7201a8\"],[0.3333333333333333,\"#9c179e\"],[0.4444444444444444,\"#bd3786\"],[0.5555555555555556,\"#d8576b\"],[0.6666666666666666,\"#ed7953\"],[0.7777777777777778,\"#fb9f3a\"],[0.8888888888888888,\"#fdca26\"],[1.0,\"#f0f921\"]],\"type\":\"histogram2d\"}],\"histogram\":[{\"marker\":{\"pattern\":{\"fillmode\":\"overlay\",\"size\":10,\"solidity\":0.2},\"line\":{\"width\":1}},\"type\":\"histogram\"}],\"mesh3d\":[{\"colorbar\":{\"outlinewidth\":0,\"ticks\":\"\"},\"type\":\"mesh3d\"}],\"parcoords\":[{\"line\":{\"colorbar\":{\"outlinewidth\":0,\"ticks\":\"\"}},\"type\":\"parcoords\"}],\"pie\":[{\"automargin\":true,\"type\":\"pie\"}],\"scatter3d\":[{\"line\":{\"colorbar\":{\"outlinewidth\":0,\"ticks\":\"\"}},\"marker\":{\"colorbar\":{\"outlinewidth\":0,\"ticks\":\"\"},\"opacity\":0.8},\"type\":\"scatter3d\"}],\"scattercarpet\":[{\"marker\":{\"colorbar\":{\"outlinewidth\":0,\"ticks\":\"\"}},\"type\":\"scattercarpet\"}],\"scattergeo\":[{\"marker\":{\"colorbar\":{\"outlinewidth\":0,\"ticks\":\"\"}},\"type\":\"scattergeo\"}],\"scattergl\":[{\"marker\":{\"colorbar\":{\"outlinewidth\":0,\"ticks\":\"\"}},\"type\":\"scattergl\"}],\"scattermapbox\":[{\"marker\":{\"colorbar\":{\"outlinewidth\":0,\"ticks\":\"\"}},\"type\":\"scattermapbox\"}],\"scatterpolargl\":[{\"marker\":{\"colorbar\":{\"outlinewidth\":0,\"ticks\":\"\"}},\"type\":\"scatterpolargl\"}],\"scatterpolar\":[{\"marker\":{\"colorbar\":{\"outlinewidth\":0,\"ticks\":\"\"}},\"type\":\"scatterpolar\"}],\"scatter\":[{\"fillpattern\":{\"fillmode\":\"overlay\",\"size\":10,\"solidity\":0.2},\"type\":\"scatter\",\"marker\":{\"opacity\":0.8}}],\"scatterternary\":[{\"marker\":{\"colorbar\":{\"outlinewidth\":0,\"ticks\":\"\"}},\"type\":\"scatterternary\"}],\"surface\":[{\"colorbar\":{\"outlinewidth\":0,\"ticks\":\"\"},\"colorscale\":[[0.0,\"#0d0887\"],[0.1111111111111111,\"#46039f\"],[0.2222222222222222,\"#7201a8\"],[0.3333333333333333,\"#9c179e\"],[0.4444444444444444,\"#bd3786\"],[0.5555555555555556,\"#d8576b\"],[0.6666666666666666,\"#ed7953\"],[0.7777777777777778,\"#fb9f3a\"],[0.8888888888888888,\"#fdca26\"],[1.0,\"#f0f921\"]],\"type\":\"surface\"}],\"table\":[{\"cells\":{\"fill\":{\"color\":\"#EBF0F8\"},\"line\":{\"color\":\"white\"}},\"header\":{\"fill\":{\"color\":\"#C8D4E3\"},\"line\":{\"color\":\"white\"}},\"type\":\"table\"}],\"box\":[{\"boxpoints\":\"outliers\",\"notched\":false,\"type\":\"box\"}]},\"layout\":{\"annotationdefaults\":{\"arrowcolor\":\"#2a3f5f\",\"arrowhead\":0,\"arrowwidth\":1},\"autotypenumbers\":\"strict\",\"coloraxis\":{\"colorbar\":{\"outlinewidth\":0,\"ticks\":\"\"}},\"colorscale\":{\"diverging\":[[0,\"#8e0152\"],[0.1,\"#c51b7d\"],[0.2,\"#de77ae\"],[0.3,\"#f1b6da\"],[0.4,\"#fde0ef\"],[0.5,\"#f7f7f7\"],[0.6,\"#e6f5d0\"],[0.7,\"#b8e186\"],[0.8,\"#7fbc41\"],[0.9,\"#4d9221\"],[1,\"#276419\"]],\"sequential\":[[0.0,\"#0d0887\"],[0.1111111111111111,\"#46039f\"],[0.2222222222222222,\"#7201a8\"],[0.3333333333333333,\"#9c179e\"],[0.4444444444444444,\"#bd3786\"],[0.5555555555555556,\"#d8576b\"],[0.6666666666666666,\"#ed7953\"],[0.7777777777777778,\"#fb9f3a\"],[0.8888888888888888,\"#fdca26\"],[1.0,\"#f0f921\"]],\"sequentialminus\":[[0.0,\"#0d0887\"],[0.1111111111111111,\"#46039f\"],[0.2222222222222222,\"#7201a8\"],[0.3333333333333333,\"#9c179e\"],[0.4444444444444444,\"#bd3786\"],[0.5555555555555556,\"#d8576b\"],[0.6666666666666666,\"#ed7953\"],[0.7777777777777778,\"#fb9f3a\"],[0.8888888888888888,\"#fdca26\"],[1.0,\"#f0f921\"]]},\"colorway\":[\"#636efa\",\"#EF553B\",\"#00cc96\",\"#ab63fa\",\"#FFA15A\",\"#19d3f3\",\"#FF6692\",\"#B6E880\",\"#FF97FF\",\"#FECB52\"],\"font\":{\"color\":\"#2a3f5f\"},\"geo\":{\"bgcolor\":\"white\",\"lakecolor\":\"white\",\"landcolor\":\"white\",\"showlakes\":true,\"showland\":true,\"subunitcolor\":\"#C8D4E3\"},\"hoverlabel\":{\"align\":\"left\"},\"hovermode\":\"closest\",\"mapbox\":{\"style\":\"light\"},\"paper_bgcolor\":\"white\",\"plot_bgcolor\":\"white\",\"polar\":{\"angularaxis\":{\"gridcolor\":\"#EBF0F8\",\"linecolor\":\"#EBF0F8\",\"ticks\":\"\"},\"bgcolor\":\"white\",\"radialaxis\":{\"gridcolor\":\"#EBF0F8\",\"linecolor\":\"#EBF0F8\",\"ticks\":\"\"}},\"scene\":{\"xaxis\":{\"backgroundcolor\":\"white\",\"gridcolor\":\"#DFE8F3\",\"gridwidth\":2,\"linecolor\":\"#EBF0F8\",\"showbackground\":true,\"ticks\":\"\",\"zerolinecolor\":\"#EBF0F8\"},\"yaxis\":{\"backgroundcolor\":\"white\",\"gridcolor\":\"#DFE8F3\",\"gridwidth\":2,\"linecolor\":\"#EBF0F8\",\"showbackground\":true,\"ticks\":\"\",\"zerolinecolor\":\"#EBF0F8\"},\"zaxis\":{\"backgroundcolor\":\"white\",\"gridcolor\":\"#DFE8F3\",\"gridwidth\":2,\"linecolor\":\"#EBF0F8\",\"showbackground\":true,\"ticks\":\"\",\"zerolinecolor\":\"#EBF0F8\"},\"camera\":{\"eye\":{\"x\":1.5,\"y\":1.5,\"z\":0.1}}},\"shapedefaults\":{\"line\":{\"color\":\"#2a3f5f\"}},\"ternary\":{\"aaxis\":{\"gridcolor\":\"#DFE8F3\",\"linecolor\":\"#A2B1C6\",\"ticks\":\"\"},\"baxis\":{\"gridcolor\":\"#DFE8F3\",\"linecolor\":\"#A2B1C6\",\"ticks\":\"\"},\"bgcolor\":\"white\",\"caxis\":{\"gridcolor\":\"#DFE8F3\",\"linecolor\":\"#A2B1C6\",\"ticks\":\"\"}},\"title\":{\"x\":0.5},\"xaxis\":{\"automargin\":true,\"gridcolor\":\"#EBF0F8\",\"linecolor\":\"#EBF0F8\",\"ticks\":\"\",\"title\":{\"standoff\":15},\"zerolinecolor\":\"#EBF0F8\",\"zerolinewidth\":2,\"linewidth\":2,\"showline\":true},\"yaxis\":{\"automargin\":true,\"gridcolor\":\"#EBF0F8\",\"linecolor\":\"#EBF0F8\",\"ticks\":\"\",\"title\":{\"standoff\":15},\"zerolinecolor\":\"#EBF0F8\",\"zerolinewidth\":2,\"linewidth\":2,\"showline\":true},\"height\":400,\"margin\":{\"b\":2,\"l\":2,\"r\":2,\"t\":30}}},\"legend\":{\"title\":{\"text\":\"is_hiker\"}}},                        {\"responsive\": true}                    ).then(function(){\n",
              "                            \n",
              "var gd = document.getElementById('f251ef88-3cb4-43b5-b2ca-9bfbba4a686e');\n",
              "var x = new MutationObserver(function (mutations, observer) {{\n",
              "        var display = window.getComputedStyle(gd).display;\n",
              "        if (!display || display === 'none') {{\n",
              "            console.log([gd, 'removed!']);\n",
              "            Plotly.purge(gd);\n",
              "            observer.disconnect();\n",
              "        }}\n",
              "}});\n",
              "\n",
              "// Listen for the removal of the full notebook cells\n",
              "var notebookContainer = gd.closest('#notebook-container');\n",
              "if (notebookContainer) {{\n",
              "    x.observe(notebookContainer, {childList: true});\n",
              "}}\n",
              "\n",
              "// Listen for the clearing of the current output cell\n",
              "var outputEl = gd.closest('.output');\n",
              "if (outputEl) {{\n",
              "    x.observe(outputEl, {childList: true});\n",
              "}}\n",
              "\n",
              "                        })                };                            </script>        </div>\n",
              "</body>\n",
              "</html>"
            ]
          },
          "metadata": {}
        }
      ]
    },
    {
      "cell_type": "code",
      "source": [
        "from sklearn.ensemble import RandomForestClassifier\n",
        "from sklearn.model_selection import train_test_split\n",
        "# import matplotlib.pyplot as plt\n",
        "# from sklearn.metrics import plot_confusion_matrix\n",
        "from sklearn.metrics import accuracy_score\n",
        "\n",
        "# Custom function that measures accuracy on different models and datasets\n",
        "# We will use this in different parts of the exercise\n",
        "def assess_accuracy(model, dataset, label):\n",
        "    \"\"\"\n",
        "    Asesses model accuracy on different sets\n",
        "    \"\"\" \n",
        "    actual = dataset[label]        \n",
        "    predictions = model.predict(dataset[features])\n",
        "    acc = accuracy_score(actual, predictions)\n",
        "    return acc\n",
        "\n",
        "# Split the dataset in an 70/30 train/test ratio. \n",
        "train, test = train_test_split(dataset, test_size=0.3, random_state=1, shuffle=True)\n",
        "\n",
        "# define a random forest model\n",
        "model = RandomForestClassifier(n_estimators=1, random_state=1, verbose=False)\n",
        "\n",
        "# Define which features are to be used (leave color out for now)\n",
        "features = [\"size\", \"roughness\", \"motion\"]\n",
        "\n",
        "# Train the model using the binary label\n",
        "model.fit(train[features], train.is_hiker)\n",
        "\n",
        "print(\"Train accuracy:\", assess_accuracy(model,train, \"is_hiker\"))\n",
        "print(\"Test accuracy:\", assess_accuracy(model,test, \"is_hiker\"))"
      ],
      "metadata": {
        "colab": {
          "base_uri": "https://localhost:8080/"
        },
        "id": "jJzcrRC8O2Bt",
        "outputId": "58793e7e-1a31-42d2-8d10-1a5e07a74eb2"
      },
      "execution_count": 4,
      "outputs": [
        {
          "output_type": "stream",
          "name": "stdout",
          "text": [
            "Train accuracy: 0.9532467532467532\n",
            "Test accuracy: 0.906060606060606\n"
          ]
        }
      ]
    },
    {
      "cell_type": "code",
      "source": [
        "# sklearn has a very convenient utility to build confusion matrices\n",
        "from sklearn.metrics import confusion_matrix\n",
        "import plotly.figure_factory as ff\n",
        "\n",
        "# Calculate the model's accuracy on the TEST set\n",
        "actual = test.is_hiker\n",
        "predictions = model.predict(test[features])\n",
        "\n",
        "# Build and print our confusion matrix, using the actual values and predictions \n",
        "# from the test set, calculated in previous cells\n",
        "cm = confusion_matrix(actual, predictions, normalize=None)\n",
        "\n",
        "# Create the list of unique labels in the test set, to use in our plot\n",
        "# I.e., ['True', 'False',]\n",
        "unique_targets = sorted(list(test[\"is_hiker\"].unique()))\n",
        "\n",
        "# Convert values to lower case so the plot code can count the outcomes\n",
        "x = y = [str(s).lower() for s in unique_targets]\n",
        "\n",
        "# Plot the matrix above as a heatmap with annotations (values) in its cells\n",
        "fig = ff.create_annotated_heatmap(cm, x, y)\n",
        "\n",
        "# Set titles and ordering\n",
        "fig.update_layout(  title_text=\"<b>Confusion matrix</b>\", \n",
        "                    yaxis = dict(categoryorder = \"category descending\")\n",
        "                    )\n",
        "\n",
        "fig.add_annotation(dict(font=dict(color=\"black\",size=14),\n",
        "                        x=0.5,\n",
        "                        y=-0.15,\n",
        "                        showarrow=False,\n",
        "                        text=\"Predicted label\",\n",
        "                        xref=\"paper\",\n",
        "                        yref=\"paper\"))\n",
        "\n",
        "fig.add_annotation(dict(font=dict(color=\"black\",size=14),\n",
        "                        x=-0.15,\n",
        "                        y=0.5,\n",
        "                        showarrow=False,\n",
        "                        text=\"Actual label\",\n",
        "                        textangle=-90,\n",
        "                        xref=\"paper\",\n",
        "                        yref=\"paper\"))\n",
        "\n",
        "# We need margins so the titles fit\n",
        "fig.update_layout(margin=dict(t=80, r=20, l=120, b=50))\n",
        "fig['data'][0]['showscale'] = True\n",
        "fig.show()\n"
      ],
      "metadata": {
        "colab": {
          "base_uri": "https://localhost:8080/",
          "height": 417
        },
        "id": "BPLnVMG-PB9_",
        "outputId": "5f0f0849-7c43-4bcc-fe87-1c4ab94b52ce"
      },
      "execution_count": 5,
      "outputs": [
        {
          "output_type": "display_data",
          "data": {
            "text/html": [
              "<html>\n",
              "<head><meta charset=\"utf-8\" /></head>\n",
              "<body>\n",
              "    <div>            <script src=\"https://cdnjs.cloudflare.com/ajax/libs/mathjax/2.7.5/MathJax.js?config=TeX-AMS-MML_SVG\"></script><script type=\"text/javascript\">if (window.MathJax && window.MathJax.Hub && window.MathJax.Hub.Config) {window.MathJax.Hub.Config({SVG: {font: \"STIX-Web\"}});}</script>                <script type=\"text/javascript\">window.PlotlyConfig = {MathJaxConfig: 'local'};</script>\n",
              "        <script src=\"https://cdn.plot.ly/plotly-2.18.2.min.js\"></script>                <div id=\"da913b44-0309-475e-b134-85e39edd147f\" class=\"plotly-graph-div\" style=\"height:400px; width:100%;\"></div>            <script type=\"text/javascript\">                                    window.PLOTLYENV=window.PLOTLYENV || {};                                    if (document.getElementById(\"da913b44-0309-475e-b134-85e39edd147f\")) {                    Plotly.newPlot(                        \"da913b44-0309-475e-b134-85e39edd147f\",                        [{\"colorscale\":[[0.0,\"#0d0887\"],[0.1111111111111111,\"#46039f\"],[0.2222222222222222,\"#7201a8\"],[0.3333333333333333,\"#9c179e\"],[0.4444444444444444,\"#bd3786\"],[0.5555555555555556,\"#d8576b\"],[0.6666666666666666,\"#ed7953\"],[0.7777777777777778,\"#fb9f3a\"],[0.8888888888888888,\"#fdca26\"],[1.0,\"#f0f921\"]],\"reversescale\":false,\"showscale\":true,\"x\":[\"false\",\"true\"],\"y\":[\"false\",\"true\"],\"z\":[[523,33],[29,75]],\"type\":\"heatmap\"}],                        {\"annotations\":[{\"font\":{\"color\":\"#000000\"},\"showarrow\":false,\"text\":\"523\",\"x\":\"false\",\"xref\":\"x\",\"y\":\"false\",\"yref\":\"y\"},{\"font\":{\"color\":\"#FFFFFF\"},\"showarrow\":false,\"text\":\"33\",\"x\":\"true\",\"xref\":\"x\",\"y\":\"false\",\"yref\":\"y\"},{\"font\":{\"color\":\"#FFFFFF\"},\"showarrow\":false,\"text\":\"29\",\"x\":\"false\",\"xref\":\"x\",\"y\":\"true\",\"yref\":\"y\"},{\"font\":{\"color\":\"#FFFFFF\"},\"showarrow\":false,\"text\":\"75\",\"x\":\"true\",\"xref\":\"x\",\"y\":\"true\",\"yref\":\"y\"},{\"font\":{\"color\":\"black\",\"size\":14},\"showarrow\":false,\"text\":\"Predicted label\",\"x\":0.5,\"xref\":\"paper\",\"y\":-0.15,\"yref\":\"paper\"},{\"font\":{\"color\":\"black\",\"size\":14},\"showarrow\":false,\"text\":\"Actual label\",\"textangle\":-90,\"x\":-0.15,\"xref\":\"paper\",\"y\":0.5,\"yref\":\"paper\"}],\"xaxis\":{\"dtick\":1,\"gridcolor\":\"rgb(0, 0, 0)\",\"side\":\"top\",\"ticks\":\"\"},\"yaxis\":{\"dtick\":1,\"ticks\":\"\",\"ticksuffix\":\"  \",\"categoryorder\":\"category descending\"},\"template\":{\"data\":{\"barpolar\":[{\"marker\":{\"line\":{\"color\":\"white\",\"width\":0.5},\"pattern\":{\"fillmode\":\"overlay\",\"size\":10,\"solidity\":0.2}},\"type\":\"barpolar\"}],\"bar\":[{\"error_x\":{\"color\":\"#2a3f5f\"},\"error_y\":{\"color\":\"#2a3f5f\"},\"marker\":{\"line\":{\"color\":\"white\",\"width\":0.5},\"pattern\":{\"fillmode\":\"overlay\",\"size\":10,\"solidity\":0.2}},\"type\":\"bar\"}],\"carpet\":[{\"aaxis\":{\"endlinecolor\":\"#2a3f5f\",\"gridcolor\":\"#C8D4E3\",\"linecolor\":\"#C8D4E3\",\"minorgridcolor\":\"#C8D4E3\",\"startlinecolor\":\"#2a3f5f\"},\"baxis\":{\"endlinecolor\":\"#2a3f5f\",\"gridcolor\":\"#C8D4E3\",\"linecolor\":\"#C8D4E3\",\"minorgridcolor\":\"#C8D4E3\",\"startlinecolor\":\"#2a3f5f\"},\"type\":\"carpet\"}],\"choropleth\":[{\"colorbar\":{\"outlinewidth\":0,\"ticks\":\"\"},\"type\":\"choropleth\"}],\"contourcarpet\":[{\"colorbar\":{\"outlinewidth\":0,\"ticks\":\"\"},\"type\":\"contourcarpet\"}],\"contour\":[{\"colorbar\":{\"outlinewidth\":0,\"ticks\":\"\"},\"colorscale\":[[0.0,\"#0d0887\"],[0.1111111111111111,\"#46039f\"],[0.2222222222222222,\"#7201a8\"],[0.3333333333333333,\"#9c179e\"],[0.4444444444444444,\"#bd3786\"],[0.5555555555555556,\"#d8576b\"],[0.6666666666666666,\"#ed7953\"],[0.7777777777777778,\"#fb9f3a\"],[0.8888888888888888,\"#fdca26\"],[1.0,\"#f0f921\"]],\"type\":\"contour\"}],\"heatmapgl\":[{\"colorbar\":{\"outlinewidth\":0,\"ticks\":\"\"},\"colorscale\":[[0.0,\"#0d0887\"],[0.1111111111111111,\"#46039f\"],[0.2222222222222222,\"#7201a8\"],[0.3333333333333333,\"#9c179e\"],[0.4444444444444444,\"#bd3786\"],[0.5555555555555556,\"#d8576b\"],[0.6666666666666666,\"#ed7953\"],[0.7777777777777778,\"#fb9f3a\"],[0.8888888888888888,\"#fdca26\"],[1.0,\"#f0f921\"]],\"type\":\"heatmapgl\"}],\"heatmap\":[{\"colorbar\":{\"outlinewidth\":0,\"ticks\":\"\"},\"colorscale\":[[0.0,\"#0d0887\"],[0.1111111111111111,\"#46039f\"],[0.2222222222222222,\"#7201a8\"],[0.3333333333333333,\"#9c179e\"],[0.4444444444444444,\"#bd3786\"],[0.5555555555555556,\"#d8576b\"],[0.6666666666666666,\"#ed7953\"],[0.7777777777777778,\"#fb9f3a\"],[0.8888888888888888,\"#fdca26\"],[1.0,\"#f0f921\"]],\"type\":\"heatmap\"}],\"histogram2dcontour\":[{\"colorbar\":{\"outlinewidth\":0,\"ticks\":\"\"},\"colorscale\":[[0.0,\"#0d0887\"],[0.1111111111111111,\"#46039f\"],[0.2222222222222222,\"#7201a8\"],[0.3333333333333333,\"#9c179e\"],[0.4444444444444444,\"#bd3786\"],[0.5555555555555556,\"#d8576b\"],[0.6666666666666666,\"#ed7953\"],[0.7777777777777778,\"#fb9f3a\"],[0.8888888888888888,\"#fdca26\"],[1.0,\"#f0f921\"]],\"type\":\"histogram2dcontour\"}],\"histogram2d\":[{\"colorbar\":{\"outlinewidth\":0,\"ticks\":\"\"},\"colorscale\":[[0.0,\"#0d0887\"],[0.1111111111111111,\"#46039f\"],[0.2222222222222222,\"#7201a8\"],[0.3333333333333333,\"#9c179e\"],[0.4444444444444444,\"#bd3786\"],[0.5555555555555556,\"#d8576b\"],[0.6666666666666666,\"#ed7953\"],[0.7777777777777778,\"#fb9f3a\"],[0.8888888888888888,\"#fdca26\"],[1.0,\"#f0f921\"]],\"type\":\"histogram2d\"}],\"histogram\":[{\"marker\":{\"pattern\":{\"fillmode\":\"overlay\",\"size\":10,\"solidity\":0.2},\"line\":{\"width\":1}},\"type\":\"histogram\"}],\"mesh3d\":[{\"colorbar\":{\"outlinewidth\":0,\"ticks\":\"\"},\"type\":\"mesh3d\"}],\"parcoords\":[{\"line\":{\"colorbar\":{\"outlinewidth\":0,\"ticks\":\"\"}},\"type\":\"parcoords\"}],\"pie\":[{\"automargin\":true,\"type\":\"pie\"}],\"scatter3d\":[{\"line\":{\"colorbar\":{\"outlinewidth\":0,\"ticks\":\"\"}},\"marker\":{\"colorbar\":{\"outlinewidth\":0,\"ticks\":\"\"},\"opacity\":0.8},\"type\":\"scatter3d\"}],\"scattercarpet\":[{\"marker\":{\"colorbar\":{\"outlinewidth\":0,\"ticks\":\"\"}},\"type\":\"scattercarpet\"}],\"scattergeo\":[{\"marker\":{\"colorbar\":{\"outlinewidth\":0,\"ticks\":\"\"}},\"type\":\"scattergeo\"}],\"scattergl\":[{\"marker\":{\"colorbar\":{\"outlinewidth\":0,\"ticks\":\"\"}},\"type\":\"scattergl\"}],\"scattermapbox\":[{\"marker\":{\"colorbar\":{\"outlinewidth\":0,\"ticks\":\"\"}},\"type\":\"scattermapbox\"}],\"scatterpolargl\":[{\"marker\":{\"colorbar\":{\"outlinewidth\":0,\"ticks\":\"\"}},\"type\":\"scatterpolargl\"}],\"scatterpolar\":[{\"marker\":{\"colorbar\":{\"outlinewidth\":0,\"ticks\":\"\"}},\"type\":\"scatterpolar\"}],\"scatter\":[{\"fillpattern\":{\"fillmode\":\"overlay\",\"size\":10,\"solidity\":0.2},\"type\":\"scatter\",\"marker\":{\"opacity\":0.8}}],\"scatterternary\":[{\"marker\":{\"colorbar\":{\"outlinewidth\":0,\"ticks\":\"\"}},\"type\":\"scatterternary\"}],\"surface\":[{\"colorbar\":{\"outlinewidth\":0,\"ticks\":\"\"},\"colorscale\":[[0.0,\"#0d0887\"],[0.1111111111111111,\"#46039f\"],[0.2222222222222222,\"#7201a8\"],[0.3333333333333333,\"#9c179e\"],[0.4444444444444444,\"#bd3786\"],[0.5555555555555556,\"#d8576b\"],[0.6666666666666666,\"#ed7953\"],[0.7777777777777778,\"#fb9f3a\"],[0.8888888888888888,\"#fdca26\"],[1.0,\"#f0f921\"]],\"type\":\"surface\"}],\"table\":[{\"cells\":{\"fill\":{\"color\":\"#EBF0F8\"},\"line\":{\"color\":\"white\"}},\"header\":{\"fill\":{\"color\":\"#C8D4E3\"},\"line\":{\"color\":\"white\"}},\"type\":\"table\"}],\"box\":[{\"boxpoints\":\"outliers\",\"notched\":false,\"type\":\"box\"}]},\"layout\":{\"annotationdefaults\":{\"arrowcolor\":\"#2a3f5f\",\"arrowhead\":0,\"arrowwidth\":1},\"autotypenumbers\":\"strict\",\"coloraxis\":{\"colorbar\":{\"outlinewidth\":0,\"ticks\":\"\"}},\"colorscale\":{\"diverging\":[[0,\"#8e0152\"],[0.1,\"#c51b7d\"],[0.2,\"#de77ae\"],[0.3,\"#f1b6da\"],[0.4,\"#fde0ef\"],[0.5,\"#f7f7f7\"],[0.6,\"#e6f5d0\"],[0.7,\"#b8e186\"],[0.8,\"#7fbc41\"],[0.9,\"#4d9221\"],[1,\"#276419\"]],\"sequential\":[[0.0,\"#0d0887\"],[0.1111111111111111,\"#46039f\"],[0.2222222222222222,\"#7201a8\"],[0.3333333333333333,\"#9c179e\"],[0.4444444444444444,\"#bd3786\"],[0.5555555555555556,\"#d8576b\"],[0.6666666666666666,\"#ed7953\"],[0.7777777777777778,\"#fb9f3a\"],[0.8888888888888888,\"#fdca26\"],[1.0,\"#f0f921\"]],\"sequentialminus\":[[0.0,\"#0d0887\"],[0.1111111111111111,\"#46039f\"],[0.2222222222222222,\"#7201a8\"],[0.3333333333333333,\"#9c179e\"],[0.4444444444444444,\"#bd3786\"],[0.5555555555555556,\"#d8576b\"],[0.6666666666666666,\"#ed7953\"],[0.7777777777777778,\"#fb9f3a\"],[0.8888888888888888,\"#fdca26\"],[1.0,\"#f0f921\"]]},\"colorway\":[\"#636efa\",\"#EF553B\",\"#00cc96\",\"#ab63fa\",\"#FFA15A\",\"#19d3f3\",\"#FF6692\",\"#B6E880\",\"#FF97FF\",\"#FECB52\"],\"font\":{\"color\":\"#2a3f5f\"},\"geo\":{\"bgcolor\":\"white\",\"lakecolor\":\"white\",\"landcolor\":\"white\",\"showlakes\":true,\"showland\":true,\"subunitcolor\":\"#C8D4E3\"},\"hoverlabel\":{\"align\":\"left\"},\"hovermode\":\"closest\",\"mapbox\":{\"style\":\"light\"},\"paper_bgcolor\":\"white\",\"plot_bgcolor\":\"white\",\"polar\":{\"angularaxis\":{\"gridcolor\":\"#EBF0F8\",\"linecolor\":\"#EBF0F8\",\"ticks\":\"\"},\"bgcolor\":\"white\",\"radialaxis\":{\"gridcolor\":\"#EBF0F8\",\"linecolor\":\"#EBF0F8\",\"ticks\":\"\"}},\"scene\":{\"xaxis\":{\"backgroundcolor\":\"white\",\"gridcolor\":\"#DFE8F3\",\"gridwidth\":2,\"linecolor\":\"#EBF0F8\",\"showbackground\":true,\"ticks\":\"\",\"zerolinecolor\":\"#EBF0F8\"},\"yaxis\":{\"backgroundcolor\":\"white\",\"gridcolor\":\"#DFE8F3\",\"gridwidth\":2,\"linecolor\":\"#EBF0F8\",\"showbackground\":true,\"ticks\":\"\",\"zerolinecolor\":\"#EBF0F8\"},\"zaxis\":{\"backgroundcolor\":\"white\",\"gridcolor\":\"#DFE8F3\",\"gridwidth\":2,\"linecolor\":\"#EBF0F8\",\"showbackground\":true,\"ticks\":\"\",\"zerolinecolor\":\"#EBF0F8\"},\"camera\":{\"eye\":{\"x\":1.5,\"y\":1.5,\"z\":0.1}}},\"shapedefaults\":{\"line\":{\"color\":\"#2a3f5f\"}},\"ternary\":{\"aaxis\":{\"gridcolor\":\"#DFE8F3\",\"linecolor\":\"#A2B1C6\",\"ticks\":\"\"},\"baxis\":{\"gridcolor\":\"#DFE8F3\",\"linecolor\":\"#A2B1C6\",\"ticks\":\"\"},\"bgcolor\":\"white\",\"caxis\":{\"gridcolor\":\"#DFE8F3\",\"linecolor\":\"#A2B1C6\",\"ticks\":\"\"}},\"title\":{\"x\":0.5},\"xaxis\":{\"automargin\":true,\"gridcolor\":\"#EBF0F8\",\"linecolor\":\"#EBF0F8\",\"ticks\":\"\",\"title\":{\"standoff\":15},\"zerolinecolor\":\"#EBF0F8\",\"zerolinewidth\":2,\"linewidth\":2,\"showline\":true},\"yaxis\":{\"automargin\":true,\"gridcolor\":\"#EBF0F8\",\"linecolor\":\"#EBF0F8\",\"ticks\":\"\",\"title\":{\"standoff\":15},\"zerolinecolor\":\"#EBF0F8\",\"zerolinewidth\":2,\"linewidth\":2,\"showline\":true},\"height\":400,\"margin\":{\"b\":2,\"l\":2,\"r\":2,\"t\":30}}},\"title\":{\"text\":\"<b>Confusion matrix</b>\"},\"margin\":{\"t\":80,\"r\":20,\"l\":120,\"b\":50}},                        {\"responsive\": true}                    ).then(function(){\n",
              "                            \n",
              "var gd = document.getElementById('da913b44-0309-475e-b134-85e39edd147f');\n",
              "var x = new MutationObserver(function (mutations, observer) {{\n",
              "        var display = window.getComputedStyle(gd).display;\n",
              "        if (!display || display === 'none') {{\n",
              "            console.log([gd, 'removed!']);\n",
              "            Plotly.purge(gd);\n",
              "            observer.disconnect();\n",
              "        }}\n",
              "}});\n",
              "\n",
              "// Listen for the removal of the full notebook cells\n",
              "var notebookContainer = gd.closest('#notebook-container');\n",
              "if (notebookContainer) {{\n",
              "    x.observe(notebookContainer, {childList: true});\n",
              "}}\n",
              "\n",
              "// Listen for the clearing of the current output cell\n",
              "var outputEl = gd.closest('.output');\n",
              "if (outputEl) {{\n",
              "    x.observe(outputEl, {childList: true});\n",
              "}}\n",
              "\n",
              "                        })                };                            </script>        </div>\n",
              "</body>\n",
              "</html>"
            ]
          },
          "metadata": {}
        }
      ]
    },
    {
      "cell_type": "code",
      "source": [
        "# Load and print umbiased set\n",
        "#Import the data from the .csv file\n",
        "balanced_dataset = pandas.read_csv('snow_objects_balanced.csv', delimiter=\"\\t\")\n",
        "\n",
        "#Let's have a look at the data\n",
        "graphing.multiple_histogram(balanced_dataset, label_x=\"label\", label_group=\"label\", title=\"Label distribution\")"
      ],
      "metadata": {
        "colab": {
          "base_uri": "https://localhost:8080/",
          "height": 417
        },
        "id": "e9qOyS6SPdgK",
        "outputId": "6229e6e9-ea39-481b-e22c-9d2b30e39d38"
      },
      "execution_count": 6,
      "outputs": [
        {
          "output_type": "display_data",
          "data": {
            "text/html": [
              "<html>\n",
              "<head><meta charset=\"utf-8\" /></head>\n",
              "<body>\n",
              "    <div>            <script src=\"https://cdnjs.cloudflare.com/ajax/libs/mathjax/2.7.5/MathJax.js?config=TeX-AMS-MML_SVG\"></script><script type=\"text/javascript\">if (window.MathJax && window.MathJax.Hub && window.MathJax.Hub.Config) {window.MathJax.Hub.Config({SVG: {font: \"STIX-Web\"}});}</script>                <script type=\"text/javascript\">window.PlotlyConfig = {MathJaxConfig: 'local'};</script>\n",
              "        <script src=\"https://cdn.plot.ly/plotly-2.18.2.min.js\"></script>                <div id=\"0a1e496a-4549-4335-8c63-7f3f8030ceb1\" class=\"plotly-graph-div\" style=\"height:400px; width:100%;\"></div>            <script type=\"text/javascript\">                                    window.PLOTLYENV=window.PLOTLYENV || {};                                    if (document.getElementById(\"0a1e496a-4549-4335-8c63-7f3f8030ceb1\")) {                    Plotly.newPlot(                        \"0a1e496a-4549-4335-8c63-7f3f8030ceb1\",                        [{\"histfunc\":\"count\",\"name\":\"animal\",\"x\":[\"animal\",\"animal\",\"animal\",\"animal\",\"animal\",\"animal\",\"animal\",\"animal\",\"animal\",\"animal\",\"animal\",\"animal\",\"animal\",\"animal\",\"animal\",\"animal\",\"animal\",\"animal\",\"animal\",\"animal\",\"animal\",\"animal\",\"animal\",\"animal\",\"animal\",\"animal\",\"animal\",\"animal\",\"animal\",\"animal\",\"animal\",\"animal\",\"animal\",\"animal\",\"animal\",\"animal\",\"animal\",\"animal\",\"animal\",\"animal\",\"animal\",\"animal\",\"animal\",\"animal\",\"animal\",\"animal\",\"animal\",\"animal\",\"animal\",\"animal\",\"animal\",\"animal\",\"animal\",\"animal\",\"animal\",\"animal\",\"animal\",\"animal\",\"animal\",\"animal\",\"animal\",\"animal\",\"animal\",\"animal\",\"animal\",\"animal\",\"animal\",\"animal\",\"animal\",\"animal\",\"animal\",\"animal\",\"animal\",\"animal\",\"animal\",\"animal\",\"animal\",\"animal\",\"animal\",\"animal\",\"animal\",\"animal\",\"animal\",\"animal\",\"animal\",\"animal\",\"animal\",\"animal\",\"animal\",\"animal\",\"animal\",\"animal\",\"animal\",\"animal\",\"animal\",\"animal\",\"animal\",\"animal\",\"animal\",\"animal\",\"animal\",\"animal\",\"animal\",\"animal\",\"animal\",\"animal\",\"animal\",\"animal\",\"animal\",\"animal\",\"animal\",\"animal\",\"animal\",\"animal\",\"animal\",\"animal\",\"animal\",\"animal\",\"animal\",\"animal\",\"animal\",\"animal\",\"animal\",\"animal\",\"animal\",\"animal\",\"animal\",\"animal\",\"animal\",\"animal\",\"animal\",\"animal\",\"animal\",\"animal\",\"animal\",\"animal\",\"animal\",\"animal\",\"animal\",\"animal\",\"animal\",\"animal\",\"animal\",\"animal\",\"animal\",\"animal\",\"animal\",\"animal\",\"animal\",\"animal\",\"animal\",\"animal\",\"animal\",\"animal\",\"animal\",\"animal\",\"animal\",\"animal\",\"animal\",\"animal\",\"animal\",\"animal\",\"animal\",\"animal\",\"animal\",\"animal\",\"animal\",\"animal\",\"animal\",\"animal\",\"animal\",\"animal\",\"animal\",\"animal\",\"animal\",\"animal\",\"animal\",\"animal\",\"animal\",\"animal\",\"animal\",\"animal\",\"animal\",\"animal\",\"animal\",\"animal\",\"animal\",\"animal\",\"animal\",\"animal\",\"animal\",\"animal\",\"animal\",\"animal\",\"animal\",\"animal\",\"animal\",\"animal\",\"animal\",\"animal\",\"animal\",\"animal\",\"animal\",\"animal\",\"animal\",\"animal\",\"animal\",\"animal\",\"animal\",\"animal\",\"animal\",\"animal\",\"animal\",\"animal\",\"animal\",\"animal\",\"animal\",\"animal\",\"animal\",\"animal\",\"animal\",\"animal\",\"animal\",\"animal\",\"animal\",\"animal\",\"animal\",\"animal\",\"animal\",\"animal\",\"animal\",\"animal\",\"animal\",\"animal\",\"animal\",\"animal\",\"animal\",\"animal\",\"animal\",\"animal\",\"animal\",\"animal\",\"animal\",\"animal\",\"animal\",\"animal\",\"animal\",\"animal\",\"animal\",\"animal\",\"animal\",\"animal\",\"animal\",\"animal\",\"animal\",\"animal\",\"animal\",\"animal\",\"animal\",\"animal\",\"animal\",\"animal\",\"animal\",\"animal\",\"animal\",\"animal\",\"animal\",\"animal\",\"animal\",\"animal\",\"animal\",\"animal\",\"animal\",\"animal\",\"animal\",\"animal\",\"animal\",\"animal\",\"animal\",\"animal\",\"animal\",\"animal\",\"animal\",\"animal\",\"animal\",\"animal\",\"animal\",\"animal\",\"animal\",\"animal\",\"animal\",\"animal\",\"animal\",\"animal\",\"animal\",\"animal\",\"animal\",\"animal\",\"animal\",\"animal\",\"animal\",\"animal\",\"animal\",\"animal\",\"animal\",\"animal\",\"animal\",\"animal\",\"animal\",\"animal\",\"animal\",\"animal\",\"animal\",\"animal\",\"animal\",\"animal\",\"animal\",\"animal\",\"animal\",\"animal\",\"animal\",\"animal\",\"animal\",\"animal\",\"animal\",\"animal\",\"animal\",\"animal\",\"animal\",\"animal\",\"animal\",\"animal\",\"animal\",\"animal\",\"animal\",\"animal\",\"animal\",\"animal\",\"animal\",\"animal\",\"animal\",\"animal\",\"animal\",\"animal\",\"animal\",\"animal\",\"animal\",\"animal\",\"animal\",\"animal\",\"animal\",\"animal\",\"animal\",\"animal\",\"animal\",\"animal\",\"animal\",\"animal\",\"animal\",\"animal\",\"animal\",\"animal\",\"animal\",\"animal\",\"animal\",\"animal\",\"animal\",\"animal\",\"animal\",\"animal\",\"animal\",\"animal\",\"animal\",\"animal\",\"animal\",\"animal\",\"animal\",\"animal\",\"animal\",\"animal\",\"animal\",\"animal\",\"animal\",\"animal\",\"animal\",\"animal\",\"animal\",\"animal\",\"animal\",\"animal\",\"animal\",\"animal\",\"animal\",\"animal\",\"animal\",\"animal\",\"animal\",\"animal\",\"animal\",\"animal\",\"animal\",\"animal\",\"animal\",\"animal\",\"animal\",\"animal\",\"animal\",\"animal\",\"animal\",\"animal\",\"animal\",\"animal\",\"animal\",\"animal\",\"animal\",\"animal\",\"animal\",\"animal\",\"animal\",\"animal\",\"animal\",\"animal\",\"animal\",\"animal\",\"animal\",\"animal\",\"animal\",\"animal\",\"animal\",\"animal\",\"animal\",\"animal\",\"animal\",\"animal\",\"animal\",\"animal\",\"animal\",\"animal\",\"animal\",\"animal\",\"animal\",\"animal\",\"animal\",\"animal\",\"animal\",\"animal\",\"animal\",\"animal\",\"animal\",\"animal\",\"animal\",\"animal\",\"animal\",\"animal\",\"animal\",\"animal\",\"animal\",\"animal\",\"animal\",\"animal\",\"animal\",\"animal\",\"animal\",\"animal\",\"animal\",\"animal\",\"animal\",\"animal\",\"animal\",\"animal\",\"animal\",\"animal\",\"animal\",\"animal\",\"animal\",\"animal\",\"animal\",\"animal\",\"animal\",\"animal\",\"animal\",\"animal\",\"animal\",\"animal\",\"animal\",\"animal\",\"animal\",\"animal\",\"animal\",\"animal\",\"animal\",\"animal\",\"animal\",\"animal\",\"animal\",\"animal\",\"animal\",\"animal\",\"animal\",\"animal\"],\"type\":\"histogram\"},{\"histfunc\":\"count\",\"name\":\"hiker\",\"x\":[\"hiker\",\"hiker\",\"hiker\",\"hiker\",\"hiker\",\"hiker\",\"hiker\",\"hiker\",\"hiker\",\"hiker\",\"hiker\",\"hiker\",\"hiker\",\"hiker\",\"hiker\",\"hiker\",\"hiker\",\"hiker\",\"hiker\",\"hiker\",\"hiker\",\"hiker\",\"hiker\",\"hiker\",\"hiker\",\"hiker\",\"hiker\",\"hiker\",\"hiker\",\"hiker\",\"hiker\",\"hiker\",\"hiker\",\"hiker\",\"hiker\",\"hiker\",\"hiker\",\"hiker\",\"hiker\",\"hiker\",\"hiker\",\"hiker\",\"hiker\",\"hiker\",\"hiker\",\"hiker\",\"hiker\",\"hiker\",\"hiker\",\"hiker\",\"hiker\",\"hiker\",\"hiker\",\"hiker\",\"hiker\",\"hiker\",\"hiker\",\"hiker\",\"hiker\",\"hiker\",\"hiker\",\"hiker\",\"hiker\",\"hiker\",\"hiker\",\"hiker\",\"hiker\",\"hiker\",\"hiker\",\"hiker\",\"hiker\",\"hiker\",\"hiker\",\"hiker\",\"hiker\",\"hiker\",\"hiker\",\"hiker\",\"hiker\",\"hiker\",\"hiker\",\"hiker\",\"hiker\",\"hiker\",\"hiker\",\"hiker\",\"hiker\",\"hiker\",\"hiker\",\"hiker\",\"hiker\",\"hiker\",\"hiker\",\"hiker\",\"hiker\",\"hiker\",\"hiker\",\"hiker\",\"hiker\",\"hiker\",\"hiker\",\"hiker\",\"hiker\",\"hiker\",\"hiker\",\"hiker\",\"hiker\",\"hiker\",\"hiker\",\"hiker\",\"hiker\",\"hiker\",\"hiker\",\"hiker\",\"hiker\",\"hiker\",\"hiker\",\"hiker\",\"hiker\",\"hiker\",\"hiker\",\"hiker\",\"hiker\",\"hiker\",\"hiker\",\"hiker\",\"hiker\",\"hiker\",\"hiker\",\"hiker\",\"hiker\",\"hiker\",\"hiker\",\"hiker\",\"hiker\",\"hiker\",\"hiker\",\"hiker\",\"hiker\",\"hiker\",\"hiker\",\"hiker\",\"hiker\",\"hiker\",\"hiker\",\"hiker\",\"hiker\",\"hiker\",\"hiker\",\"hiker\",\"hiker\",\"hiker\",\"hiker\",\"hiker\",\"hiker\",\"hiker\",\"hiker\",\"hiker\",\"hiker\",\"hiker\",\"hiker\",\"hiker\",\"hiker\",\"hiker\",\"hiker\",\"hiker\",\"hiker\",\"hiker\",\"hiker\",\"hiker\",\"hiker\",\"hiker\",\"hiker\",\"hiker\",\"hiker\",\"hiker\",\"hiker\",\"hiker\",\"hiker\",\"hiker\",\"hiker\",\"hiker\",\"hiker\",\"hiker\",\"hiker\",\"hiker\",\"hiker\",\"hiker\",\"hiker\",\"hiker\",\"hiker\",\"hiker\",\"hiker\",\"hiker\",\"hiker\",\"hiker\",\"hiker\",\"hiker\",\"hiker\",\"hiker\",\"hiker\",\"hiker\",\"hiker\",\"hiker\",\"hiker\",\"hiker\",\"hiker\",\"hiker\",\"hiker\",\"hiker\",\"hiker\",\"hiker\",\"hiker\",\"hiker\",\"hiker\",\"hiker\",\"hiker\",\"hiker\",\"hiker\",\"hiker\",\"hiker\",\"hiker\",\"hiker\",\"hiker\",\"hiker\",\"hiker\",\"hiker\",\"hiker\",\"hiker\",\"hiker\",\"hiker\",\"hiker\",\"hiker\",\"hiker\",\"hiker\",\"hiker\",\"hiker\",\"hiker\",\"hiker\",\"hiker\",\"hiker\",\"hiker\",\"hiker\",\"hiker\",\"hiker\",\"hiker\",\"hiker\",\"hiker\",\"hiker\",\"hiker\",\"hiker\",\"hiker\",\"hiker\",\"hiker\",\"hiker\",\"hiker\",\"hiker\",\"hiker\",\"hiker\",\"hiker\",\"hiker\",\"hiker\",\"hiker\",\"hiker\",\"hiker\",\"hiker\",\"hiker\",\"hiker\",\"hiker\",\"hiker\",\"hiker\",\"hiker\",\"hiker\",\"hiker\",\"hiker\",\"hiker\",\"hiker\",\"hiker\",\"hiker\",\"hiker\",\"hiker\",\"hiker\",\"hiker\",\"hiker\",\"hiker\",\"hiker\",\"hiker\",\"hiker\",\"hiker\",\"hiker\",\"hiker\",\"hiker\",\"hiker\",\"hiker\",\"hiker\",\"hiker\",\"hiker\",\"hiker\",\"hiker\",\"hiker\",\"hiker\",\"hiker\",\"hiker\",\"hiker\",\"hiker\",\"hiker\",\"hiker\",\"hiker\",\"hiker\",\"hiker\",\"hiker\",\"hiker\",\"hiker\",\"hiker\",\"hiker\",\"hiker\",\"hiker\",\"hiker\",\"hiker\",\"hiker\",\"hiker\",\"hiker\",\"hiker\",\"hiker\",\"hiker\",\"hiker\",\"hiker\",\"hiker\",\"hiker\",\"hiker\",\"hiker\",\"hiker\",\"hiker\",\"hiker\",\"hiker\",\"hiker\",\"hiker\",\"hiker\",\"hiker\",\"hiker\",\"hiker\",\"hiker\",\"hiker\",\"hiker\",\"hiker\",\"hiker\",\"hiker\",\"hiker\",\"hiker\",\"hiker\",\"hiker\",\"hiker\",\"hiker\",\"hiker\",\"hiker\",\"hiker\",\"hiker\",\"hiker\",\"hiker\",\"hiker\",\"hiker\",\"hiker\",\"hiker\",\"hiker\",\"hiker\",\"hiker\",\"hiker\",\"hiker\",\"hiker\",\"hiker\",\"hiker\",\"hiker\",\"hiker\",\"hiker\",\"hiker\",\"hiker\",\"hiker\",\"hiker\",\"hiker\",\"hiker\",\"hiker\",\"hiker\",\"hiker\",\"hiker\",\"hiker\",\"hiker\",\"hiker\",\"hiker\",\"hiker\",\"hiker\",\"hiker\",\"hiker\",\"hiker\",\"hiker\",\"hiker\",\"hiker\",\"hiker\",\"hiker\",\"hiker\",\"hiker\",\"hiker\",\"hiker\",\"hiker\",\"hiker\",\"hiker\",\"hiker\",\"hiker\",\"hiker\",\"hiker\",\"hiker\",\"hiker\",\"hiker\",\"hiker\",\"hiker\",\"hiker\",\"hiker\",\"hiker\",\"hiker\",\"hiker\",\"hiker\",\"hiker\",\"hiker\",\"hiker\",\"hiker\",\"hiker\",\"hiker\",\"hiker\",\"hiker\",\"hiker\",\"hiker\",\"hiker\",\"hiker\",\"hiker\",\"hiker\",\"hiker\",\"hiker\",\"hiker\",\"hiker\",\"hiker\",\"hiker\",\"hiker\",\"hiker\",\"hiker\",\"hiker\",\"hiker\",\"hiker\",\"hiker\",\"hiker\",\"hiker\",\"hiker\",\"hiker\",\"hiker\",\"hiker\",\"hiker\",\"hiker\",\"hiker\",\"hiker\",\"hiker\",\"hiker\",\"hiker\",\"hiker\",\"hiker\",\"hiker\",\"hiker\",\"hiker\",\"hiker\",\"hiker\",\"hiker\",\"hiker\",\"hiker\",\"hiker\",\"hiker\",\"hiker\",\"hiker\",\"hiker\",\"hiker\",\"hiker\",\"hiker\",\"hiker\",\"hiker\",\"hiker\",\"hiker\",\"hiker\",\"hiker\",\"hiker\",\"hiker\",\"hiker\",\"hiker\",\"hiker\",\"hiker\",\"hiker\",\"hiker\",\"hiker\",\"hiker\",\"hiker\",\"hiker\",\"hiker\",\"hiker\",\"hiker\",\"hiker\"],\"type\":\"histogram\"},{\"histfunc\":\"count\",\"name\":\"rock\",\"x\":[\"rock\",\"rock\",\"rock\",\"rock\",\"rock\",\"rock\",\"rock\",\"rock\",\"rock\",\"rock\",\"rock\",\"rock\",\"rock\",\"rock\",\"rock\",\"rock\",\"rock\",\"rock\",\"rock\",\"rock\",\"rock\",\"rock\",\"rock\",\"rock\",\"rock\",\"rock\",\"rock\",\"rock\",\"rock\",\"rock\",\"rock\",\"rock\",\"rock\",\"rock\",\"rock\",\"rock\",\"rock\",\"rock\",\"rock\",\"rock\",\"rock\",\"rock\",\"rock\",\"rock\",\"rock\",\"rock\",\"rock\",\"rock\",\"rock\",\"rock\",\"rock\",\"rock\",\"rock\",\"rock\",\"rock\",\"rock\",\"rock\",\"rock\",\"rock\",\"rock\",\"rock\",\"rock\",\"rock\",\"rock\",\"rock\",\"rock\",\"rock\",\"rock\",\"rock\",\"rock\",\"rock\",\"rock\",\"rock\",\"rock\",\"rock\",\"rock\",\"rock\",\"rock\",\"rock\",\"rock\",\"rock\",\"rock\",\"rock\",\"rock\",\"rock\",\"rock\",\"rock\",\"rock\",\"rock\",\"rock\",\"rock\",\"rock\",\"rock\",\"rock\",\"rock\",\"rock\",\"rock\",\"rock\",\"rock\",\"rock\",\"rock\",\"rock\",\"rock\",\"rock\",\"rock\",\"rock\",\"rock\",\"rock\",\"rock\",\"rock\",\"rock\",\"rock\",\"rock\",\"rock\",\"rock\",\"rock\",\"rock\",\"rock\",\"rock\",\"rock\",\"rock\",\"rock\",\"rock\",\"rock\",\"rock\",\"rock\",\"rock\",\"rock\",\"rock\",\"rock\",\"rock\",\"rock\",\"rock\",\"rock\",\"rock\",\"rock\",\"rock\",\"rock\",\"rock\",\"rock\",\"rock\",\"rock\",\"rock\",\"rock\",\"rock\",\"rock\",\"rock\",\"rock\",\"rock\",\"rock\",\"rock\",\"rock\",\"rock\",\"rock\",\"rock\",\"rock\",\"rock\",\"rock\",\"rock\",\"rock\",\"rock\",\"rock\",\"rock\",\"rock\",\"rock\",\"rock\",\"rock\",\"rock\",\"rock\",\"rock\",\"rock\",\"rock\",\"rock\",\"rock\",\"rock\",\"rock\",\"rock\",\"rock\",\"rock\",\"rock\",\"rock\",\"rock\",\"rock\",\"rock\",\"rock\",\"rock\",\"rock\",\"rock\",\"rock\",\"rock\",\"rock\",\"rock\",\"rock\",\"rock\",\"rock\",\"rock\",\"rock\",\"rock\",\"rock\",\"rock\",\"rock\",\"rock\",\"rock\",\"rock\",\"rock\",\"rock\",\"rock\",\"rock\",\"rock\",\"rock\",\"rock\",\"rock\",\"rock\",\"rock\",\"rock\",\"rock\",\"rock\",\"rock\",\"rock\",\"rock\",\"rock\",\"rock\",\"rock\",\"rock\",\"rock\",\"rock\",\"rock\",\"rock\",\"rock\",\"rock\",\"rock\",\"rock\",\"rock\",\"rock\",\"rock\",\"rock\",\"rock\",\"rock\",\"rock\",\"rock\",\"rock\",\"rock\",\"rock\",\"rock\",\"rock\",\"rock\",\"rock\",\"rock\",\"rock\",\"rock\",\"rock\",\"rock\",\"rock\",\"rock\",\"rock\",\"rock\",\"rock\",\"rock\",\"rock\",\"rock\",\"rock\",\"rock\",\"rock\",\"rock\",\"rock\",\"rock\",\"rock\",\"rock\",\"rock\",\"rock\",\"rock\",\"rock\",\"rock\",\"rock\",\"rock\",\"rock\",\"rock\",\"rock\",\"rock\",\"rock\",\"rock\",\"rock\",\"rock\",\"rock\",\"rock\",\"rock\",\"rock\",\"rock\",\"rock\",\"rock\",\"rock\",\"rock\",\"rock\",\"rock\",\"rock\",\"rock\",\"rock\",\"rock\",\"rock\",\"rock\",\"rock\",\"rock\",\"rock\",\"rock\",\"rock\",\"rock\",\"rock\",\"rock\",\"rock\",\"rock\",\"rock\",\"rock\",\"rock\",\"rock\",\"rock\",\"rock\",\"rock\",\"rock\",\"rock\",\"rock\",\"rock\",\"rock\",\"rock\",\"rock\",\"rock\",\"rock\",\"rock\",\"rock\",\"rock\",\"rock\",\"rock\",\"rock\",\"rock\",\"rock\",\"rock\",\"rock\",\"rock\",\"rock\",\"rock\",\"rock\",\"rock\",\"rock\",\"rock\",\"rock\",\"rock\",\"rock\",\"rock\",\"rock\",\"rock\",\"rock\",\"rock\",\"rock\",\"rock\",\"rock\",\"rock\",\"rock\",\"rock\",\"rock\",\"rock\",\"rock\",\"rock\",\"rock\",\"rock\",\"rock\",\"rock\",\"rock\",\"rock\",\"rock\",\"rock\",\"rock\",\"rock\",\"rock\",\"rock\",\"rock\",\"rock\",\"rock\",\"rock\",\"rock\",\"rock\",\"rock\",\"rock\",\"rock\",\"rock\",\"rock\",\"rock\",\"rock\",\"rock\",\"rock\",\"rock\",\"rock\",\"rock\",\"rock\",\"rock\",\"rock\",\"rock\",\"rock\",\"rock\",\"rock\",\"rock\",\"rock\",\"rock\",\"rock\",\"rock\",\"rock\",\"rock\",\"rock\",\"rock\",\"rock\",\"rock\",\"rock\",\"rock\",\"rock\",\"rock\",\"rock\",\"rock\",\"rock\",\"rock\",\"rock\",\"rock\",\"rock\",\"rock\",\"rock\",\"rock\",\"rock\",\"rock\",\"rock\",\"rock\",\"rock\",\"rock\",\"rock\",\"rock\",\"rock\",\"rock\",\"rock\",\"rock\",\"rock\",\"rock\",\"rock\",\"rock\",\"rock\",\"rock\",\"rock\",\"rock\",\"rock\",\"rock\",\"rock\",\"rock\",\"rock\",\"rock\",\"rock\",\"rock\",\"rock\",\"rock\",\"rock\",\"rock\",\"rock\",\"rock\",\"rock\",\"rock\",\"rock\",\"rock\",\"rock\",\"rock\",\"rock\",\"rock\",\"rock\",\"rock\",\"rock\",\"rock\",\"rock\",\"rock\",\"rock\",\"rock\",\"rock\",\"rock\",\"rock\",\"rock\",\"rock\",\"rock\",\"rock\",\"rock\",\"rock\",\"rock\",\"rock\",\"rock\",\"rock\",\"rock\",\"rock\",\"rock\",\"rock\",\"rock\",\"rock\",\"rock\",\"rock\",\"rock\",\"rock\",\"rock\",\"rock\",\"rock\",\"rock\"],\"type\":\"histogram\"},{\"histfunc\":\"count\",\"name\":\"tree\",\"x\":[\"tree\",\"tree\",\"tree\",\"tree\",\"tree\",\"tree\",\"tree\",\"tree\",\"tree\",\"tree\",\"tree\",\"tree\",\"tree\",\"tree\",\"tree\",\"tree\",\"tree\",\"tree\",\"tree\",\"tree\",\"tree\",\"tree\",\"tree\",\"tree\",\"tree\",\"tree\",\"tree\",\"tree\",\"tree\",\"tree\",\"tree\",\"tree\",\"tree\",\"tree\",\"tree\",\"tree\",\"tree\",\"tree\",\"tree\",\"tree\",\"tree\",\"tree\",\"tree\",\"tree\",\"tree\",\"tree\",\"tree\",\"tree\",\"tree\",\"tree\",\"tree\",\"tree\",\"tree\",\"tree\",\"tree\",\"tree\",\"tree\",\"tree\",\"tree\",\"tree\",\"tree\",\"tree\",\"tree\",\"tree\",\"tree\",\"tree\",\"tree\",\"tree\",\"tree\",\"tree\",\"tree\",\"tree\",\"tree\",\"tree\",\"tree\",\"tree\",\"tree\",\"tree\",\"tree\",\"tree\",\"tree\",\"tree\",\"tree\",\"tree\",\"tree\",\"tree\",\"tree\",\"tree\",\"tree\",\"tree\",\"tree\",\"tree\",\"tree\",\"tree\",\"tree\",\"tree\",\"tree\",\"tree\",\"tree\",\"tree\",\"tree\",\"tree\",\"tree\",\"tree\",\"tree\",\"tree\",\"tree\",\"tree\",\"tree\",\"tree\",\"tree\",\"tree\",\"tree\",\"tree\",\"tree\",\"tree\",\"tree\",\"tree\",\"tree\",\"tree\",\"tree\",\"tree\",\"tree\",\"tree\",\"tree\",\"tree\",\"tree\",\"tree\",\"tree\",\"tree\",\"tree\",\"tree\",\"tree\",\"tree\",\"tree\",\"tree\",\"tree\",\"tree\",\"tree\",\"tree\",\"tree\",\"tree\",\"tree\",\"tree\",\"tree\",\"tree\",\"tree\",\"tree\",\"tree\",\"tree\",\"tree\",\"tree\",\"tree\",\"tree\",\"tree\",\"tree\",\"tree\",\"tree\",\"tree\",\"tree\",\"tree\",\"tree\",\"tree\",\"tree\",\"tree\",\"tree\",\"tree\",\"tree\",\"tree\",\"tree\",\"tree\",\"tree\",\"tree\",\"tree\",\"tree\",\"tree\",\"tree\",\"tree\",\"tree\",\"tree\",\"tree\",\"tree\",\"tree\",\"tree\",\"tree\",\"tree\",\"tree\",\"tree\",\"tree\",\"tree\",\"tree\",\"tree\",\"tree\",\"tree\",\"tree\",\"tree\",\"tree\",\"tree\",\"tree\",\"tree\",\"tree\",\"tree\",\"tree\",\"tree\",\"tree\",\"tree\",\"tree\",\"tree\",\"tree\",\"tree\",\"tree\",\"tree\",\"tree\",\"tree\",\"tree\",\"tree\",\"tree\",\"tree\",\"tree\",\"tree\",\"tree\",\"tree\",\"tree\",\"tree\",\"tree\",\"tree\",\"tree\",\"tree\",\"tree\",\"tree\",\"tree\",\"tree\",\"tree\",\"tree\",\"tree\",\"tree\",\"tree\",\"tree\",\"tree\",\"tree\",\"tree\",\"tree\",\"tree\",\"tree\",\"tree\",\"tree\",\"tree\",\"tree\",\"tree\",\"tree\",\"tree\",\"tree\",\"tree\",\"tree\",\"tree\",\"tree\",\"tree\",\"tree\",\"tree\",\"tree\",\"tree\",\"tree\",\"tree\",\"tree\",\"tree\",\"tree\",\"tree\",\"tree\",\"tree\",\"tree\",\"tree\",\"tree\",\"tree\",\"tree\",\"tree\",\"tree\",\"tree\",\"tree\",\"tree\",\"tree\",\"tree\",\"tree\",\"tree\",\"tree\",\"tree\",\"tree\",\"tree\",\"tree\",\"tree\",\"tree\",\"tree\",\"tree\",\"tree\",\"tree\",\"tree\",\"tree\",\"tree\",\"tree\",\"tree\",\"tree\",\"tree\",\"tree\",\"tree\",\"tree\",\"tree\",\"tree\",\"tree\",\"tree\",\"tree\",\"tree\",\"tree\",\"tree\",\"tree\",\"tree\",\"tree\",\"tree\",\"tree\",\"tree\",\"tree\",\"tree\",\"tree\",\"tree\",\"tree\",\"tree\",\"tree\",\"tree\",\"tree\",\"tree\",\"tree\",\"tree\",\"tree\",\"tree\",\"tree\",\"tree\",\"tree\",\"tree\",\"tree\",\"tree\",\"tree\",\"tree\",\"tree\",\"tree\",\"tree\",\"tree\",\"tree\",\"tree\",\"tree\",\"tree\",\"tree\",\"tree\",\"tree\",\"tree\",\"tree\",\"tree\",\"tree\",\"tree\",\"tree\",\"tree\",\"tree\",\"tree\",\"tree\",\"tree\",\"tree\",\"tree\",\"tree\",\"tree\",\"tree\",\"tree\",\"tree\",\"tree\",\"tree\",\"tree\",\"tree\",\"tree\",\"tree\",\"tree\",\"tree\",\"tree\",\"tree\",\"tree\",\"tree\",\"tree\",\"tree\",\"tree\",\"tree\",\"tree\",\"tree\",\"tree\",\"tree\",\"tree\",\"tree\",\"tree\",\"tree\",\"tree\",\"tree\",\"tree\",\"tree\",\"tree\",\"tree\",\"tree\",\"tree\",\"tree\",\"tree\",\"tree\",\"tree\",\"tree\",\"tree\",\"tree\",\"tree\",\"tree\",\"tree\",\"tree\",\"tree\",\"tree\",\"tree\",\"tree\",\"tree\",\"tree\",\"tree\",\"tree\",\"tree\",\"tree\",\"tree\",\"tree\",\"tree\",\"tree\",\"tree\",\"tree\",\"tree\",\"tree\",\"tree\",\"tree\",\"tree\",\"tree\",\"tree\",\"tree\",\"tree\",\"tree\",\"tree\",\"tree\",\"tree\",\"tree\",\"tree\",\"tree\",\"tree\",\"tree\",\"tree\",\"tree\",\"tree\",\"tree\",\"tree\",\"tree\",\"tree\",\"tree\",\"tree\",\"tree\",\"tree\",\"tree\",\"tree\",\"tree\",\"tree\",\"tree\",\"tree\",\"tree\",\"tree\",\"tree\",\"tree\",\"tree\",\"tree\",\"tree\",\"tree\",\"tree\",\"tree\",\"tree\",\"tree\",\"tree\",\"tree\",\"tree\",\"tree\",\"tree\",\"tree\",\"tree\",\"tree\",\"tree\",\"tree\",\"tree\",\"tree\",\"tree\",\"tree\",\"tree\",\"tree\",\"tree\",\"tree\",\"tree\",\"tree\",\"tree\",\"tree\",\"tree\",\"tree\",\"tree\"],\"type\":\"histogram\"}],                        {\"title\":{\"text\":\"Label distribution\"},\"xaxis\":{\"title\":{\"text\":\"label\"}},\"yaxis\":{\"title\":{\"text\":\"count\"}},\"template\":{\"data\":{\"barpolar\":[{\"marker\":{\"line\":{\"color\":\"white\",\"width\":0.5},\"pattern\":{\"fillmode\":\"overlay\",\"size\":10,\"solidity\":0.2}},\"type\":\"barpolar\"}],\"bar\":[{\"error_x\":{\"color\":\"#2a3f5f\"},\"error_y\":{\"color\":\"#2a3f5f\"},\"marker\":{\"line\":{\"color\":\"white\",\"width\":0.5},\"pattern\":{\"fillmode\":\"overlay\",\"size\":10,\"solidity\":0.2}},\"type\":\"bar\"}],\"carpet\":[{\"aaxis\":{\"endlinecolor\":\"#2a3f5f\",\"gridcolor\":\"#C8D4E3\",\"linecolor\":\"#C8D4E3\",\"minorgridcolor\":\"#C8D4E3\",\"startlinecolor\":\"#2a3f5f\"},\"baxis\":{\"endlinecolor\":\"#2a3f5f\",\"gridcolor\":\"#C8D4E3\",\"linecolor\":\"#C8D4E3\",\"minorgridcolor\":\"#C8D4E3\",\"startlinecolor\":\"#2a3f5f\"},\"type\":\"carpet\"}],\"choropleth\":[{\"colorbar\":{\"outlinewidth\":0,\"ticks\":\"\"},\"type\":\"choropleth\"}],\"contourcarpet\":[{\"colorbar\":{\"outlinewidth\":0,\"ticks\":\"\"},\"type\":\"contourcarpet\"}],\"contour\":[{\"colorbar\":{\"outlinewidth\":0,\"ticks\":\"\"},\"colorscale\":[[0.0,\"#0d0887\"],[0.1111111111111111,\"#46039f\"],[0.2222222222222222,\"#7201a8\"],[0.3333333333333333,\"#9c179e\"],[0.4444444444444444,\"#bd3786\"],[0.5555555555555556,\"#d8576b\"],[0.6666666666666666,\"#ed7953\"],[0.7777777777777778,\"#fb9f3a\"],[0.8888888888888888,\"#fdca26\"],[1.0,\"#f0f921\"]],\"type\":\"contour\"}],\"heatmapgl\":[{\"colorbar\":{\"outlinewidth\":0,\"ticks\":\"\"},\"colorscale\":[[0.0,\"#0d0887\"],[0.1111111111111111,\"#46039f\"],[0.2222222222222222,\"#7201a8\"],[0.3333333333333333,\"#9c179e\"],[0.4444444444444444,\"#bd3786\"],[0.5555555555555556,\"#d8576b\"],[0.6666666666666666,\"#ed7953\"],[0.7777777777777778,\"#fb9f3a\"],[0.8888888888888888,\"#fdca26\"],[1.0,\"#f0f921\"]],\"type\":\"heatmapgl\"}],\"heatmap\":[{\"colorbar\":{\"outlinewidth\":0,\"ticks\":\"\"},\"colorscale\":[[0.0,\"#0d0887\"],[0.1111111111111111,\"#46039f\"],[0.2222222222222222,\"#7201a8\"],[0.3333333333333333,\"#9c179e\"],[0.4444444444444444,\"#bd3786\"],[0.5555555555555556,\"#d8576b\"],[0.6666666666666666,\"#ed7953\"],[0.7777777777777778,\"#fb9f3a\"],[0.8888888888888888,\"#fdca26\"],[1.0,\"#f0f921\"]],\"type\":\"heatmap\"}],\"histogram2dcontour\":[{\"colorbar\":{\"outlinewidth\":0,\"ticks\":\"\"},\"colorscale\":[[0.0,\"#0d0887\"],[0.1111111111111111,\"#46039f\"],[0.2222222222222222,\"#7201a8\"],[0.3333333333333333,\"#9c179e\"],[0.4444444444444444,\"#bd3786\"],[0.5555555555555556,\"#d8576b\"],[0.6666666666666666,\"#ed7953\"],[0.7777777777777778,\"#fb9f3a\"],[0.8888888888888888,\"#fdca26\"],[1.0,\"#f0f921\"]],\"type\":\"histogram2dcontour\"}],\"histogram2d\":[{\"colorbar\":{\"outlinewidth\":0,\"ticks\":\"\"},\"colorscale\":[[0.0,\"#0d0887\"],[0.1111111111111111,\"#46039f\"],[0.2222222222222222,\"#7201a8\"],[0.3333333333333333,\"#9c179e\"],[0.4444444444444444,\"#bd3786\"],[0.5555555555555556,\"#d8576b\"],[0.6666666666666666,\"#ed7953\"],[0.7777777777777778,\"#fb9f3a\"],[0.8888888888888888,\"#fdca26\"],[1.0,\"#f0f921\"]],\"type\":\"histogram2d\"}],\"histogram\":[{\"marker\":{\"pattern\":{\"fillmode\":\"overlay\",\"size\":10,\"solidity\":0.2},\"line\":{\"width\":1}},\"type\":\"histogram\"}],\"mesh3d\":[{\"colorbar\":{\"outlinewidth\":0,\"ticks\":\"\"},\"type\":\"mesh3d\"}],\"parcoords\":[{\"line\":{\"colorbar\":{\"outlinewidth\":0,\"ticks\":\"\"}},\"type\":\"parcoords\"}],\"pie\":[{\"automargin\":true,\"type\":\"pie\"}],\"scatter3d\":[{\"line\":{\"colorbar\":{\"outlinewidth\":0,\"ticks\":\"\"}},\"marker\":{\"colorbar\":{\"outlinewidth\":0,\"ticks\":\"\"},\"opacity\":0.8},\"type\":\"scatter3d\"}],\"scattercarpet\":[{\"marker\":{\"colorbar\":{\"outlinewidth\":0,\"ticks\":\"\"}},\"type\":\"scattercarpet\"}],\"scattergeo\":[{\"marker\":{\"colorbar\":{\"outlinewidth\":0,\"ticks\":\"\"}},\"type\":\"scattergeo\"}],\"scattergl\":[{\"marker\":{\"colorbar\":{\"outlinewidth\":0,\"ticks\":\"\"}},\"type\":\"scattergl\"}],\"scattermapbox\":[{\"marker\":{\"colorbar\":{\"outlinewidth\":0,\"ticks\":\"\"}},\"type\":\"scattermapbox\"}],\"scatterpolargl\":[{\"marker\":{\"colorbar\":{\"outlinewidth\":0,\"ticks\":\"\"}},\"type\":\"scatterpolargl\"}],\"scatterpolar\":[{\"marker\":{\"colorbar\":{\"outlinewidth\":0,\"ticks\":\"\"}},\"type\":\"scatterpolar\"}],\"scatter\":[{\"fillpattern\":{\"fillmode\":\"overlay\",\"size\":10,\"solidity\":0.2},\"type\":\"scatter\",\"marker\":{\"opacity\":0.8}}],\"scatterternary\":[{\"marker\":{\"colorbar\":{\"outlinewidth\":0,\"ticks\":\"\"}},\"type\":\"scatterternary\"}],\"surface\":[{\"colorbar\":{\"outlinewidth\":0,\"ticks\":\"\"},\"colorscale\":[[0.0,\"#0d0887\"],[0.1111111111111111,\"#46039f\"],[0.2222222222222222,\"#7201a8\"],[0.3333333333333333,\"#9c179e\"],[0.4444444444444444,\"#bd3786\"],[0.5555555555555556,\"#d8576b\"],[0.6666666666666666,\"#ed7953\"],[0.7777777777777778,\"#fb9f3a\"],[0.8888888888888888,\"#fdca26\"],[1.0,\"#f0f921\"]],\"type\":\"surface\"}],\"table\":[{\"cells\":{\"fill\":{\"color\":\"#EBF0F8\"},\"line\":{\"color\":\"white\"}},\"header\":{\"fill\":{\"color\":\"#C8D4E3\"},\"line\":{\"color\":\"white\"}},\"type\":\"table\"}],\"box\":[{\"boxpoints\":\"outliers\",\"notched\":false,\"type\":\"box\"}]},\"layout\":{\"annotationdefaults\":{\"arrowcolor\":\"#2a3f5f\",\"arrowhead\":0,\"arrowwidth\":1},\"autotypenumbers\":\"strict\",\"coloraxis\":{\"colorbar\":{\"outlinewidth\":0,\"ticks\":\"\"}},\"colorscale\":{\"diverging\":[[0,\"#8e0152\"],[0.1,\"#c51b7d\"],[0.2,\"#de77ae\"],[0.3,\"#f1b6da\"],[0.4,\"#fde0ef\"],[0.5,\"#f7f7f7\"],[0.6,\"#e6f5d0\"],[0.7,\"#b8e186\"],[0.8,\"#7fbc41\"],[0.9,\"#4d9221\"],[1,\"#276419\"]],\"sequential\":[[0.0,\"#0d0887\"],[0.1111111111111111,\"#46039f\"],[0.2222222222222222,\"#7201a8\"],[0.3333333333333333,\"#9c179e\"],[0.4444444444444444,\"#bd3786\"],[0.5555555555555556,\"#d8576b\"],[0.6666666666666666,\"#ed7953\"],[0.7777777777777778,\"#fb9f3a\"],[0.8888888888888888,\"#fdca26\"],[1.0,\"#f0f921\"]],\"sequentialminus\":[[0.0,\"#0d0887\"],[0.1111111111111111,\"#46039f\"],[0.2222222222222222,\"#7201a8\"],[0.3333333333333333,\"#9c179e\"],[0.4444444444444444,\"#bd3786\"],[0.5555555555555556,\"#d8576b\"],[0.6666666666666666,\"#ed7953\"],[0.7777777777777778,\"#fb9f3a\"],[0.8888888888888888,\"#fdca26\"],[1.0,\"#f0f921\"]]},\"colorway\":[\"#636efa\",\"#EF553B\",\"#00cc96\",\"#ab63fa\",\"#FFA15A\",\"#19d3f3\",\"#FF6692\",\"#B6E880\",\"#FF97FF\",\"#FECB52\"],\"font\":{\"color\":\"#2a3f5f\"},\"geo\":{\"bgcolor\":\"white\",\"lakecolor\":\"white\",\"landcolor\":\"white\",\"showlakes\":true,\"showland\":true,\"subunitcolor\":\"#C8D4E3\"},\"hoverlabel\":{\"align\":\"left\"},\"hovermode\":\"closest\",\"mapbox\":{\"style\":\"light\"},\"paper_bgcolor\":\"white\",\"plot_bgcolor\":\"white\",\"polar\":{\"angularaxis\":{\"gridcolor\":\"#EBF0F8\",\"linecolor\":\"#EBF0F8\",\"ticks\":\"\"},\"bgcolor\":\"white\",\"radialaxis\":{\"gridcolor\":\"#EBF0F8\",\"linecolor\":\"#EBF0F8\",\"ticks\":\"\"}},\"scene\":{\"xaxis\":{\"backgroundcolor\":\"white\",\"gridcolor\":\"#DFE8F3\",\"gridwidth\":2,\"linecolor\":\"#EBF0F8\",\"showbackground\":true,\"ticks\":\"\",\"zerolinecolor\":\"#EBF0F8\"},\"yaxis\":{\"backgroundcolor\":\"white\",\"gridcolor\":\"#DFE8F3\",\"gridwidth\":2,\"linecolor\":\"#EBF0F8\",\"showbackground\":true,\"ticks\":\"\",\"zerolinecolor\":\"#EBF0F8\"},\"zaxis\":{\"backgroundcolor\":\"white\",\"gridcolor\":\"#DFE8F3\",\"gridwidth\":2,\"linecolor\":\"#EBF0F8\",\"showbackground\":true,\"ticks\":\"\",\"zerolinecolor\":\"#EBF0F8\"},\"camera\":{\"eye\":{\"x\":1.5,\"y\":1.5,\"z\":0.1}}},\"shapedefaults\":{\"line\":{\"color\":\"#2a3f5f\"}},\"ternary\":{\"aaxis\":{\"gridcolor\":\"#DFE8F3\",\"linecolor\":\"#A2B1C6\",\"ticks\":\"\"},\"baxis\":{\"gridcolor\":\"#DFE8F3\",\"linecolor\":\"#A2B1C6\",\"ticks\":\"\"},\"bgcolor\":\"white\",\"caxis\":{\"gridcolor\":\"#DFE8F3\",\"linecolor\":\"#A2B1C6\",\"ticks\":\"\"}},\"title\":{\"x\":0.5},\"xaxis\":{\"automargin\":true,\"gridcolor\":\"#EBF0F8\",\"linecolor\":\"#EBF0F8\",\"ticks\":\"\",\"title\":{\"standoff\":15},\"zerolinecolor\":\"#EBF0F8\",\"zerolinewidth\":2,\"linewidth\":2,\"showline\":true},\"yaxis\":{\"automargin\":true,\"gridcolor\":\"#EBF0F8\",\"linecolor\":\"#EBF0F8\",\"ticks\":\"\",\"title\":{\"standoff\":15},\"zerolinecolor\":\"#EBF0F8\",\"zerolinewidth\":2,\"linewidth\":2,\"showline\":true},\"height\":400,\"margin\":{\"b\":2,\"l\":2,\"r\":2,\"t\":30}}},\"legend\":{\"title\":{\"text\":\"label\"}}},                        {\"responsive\": true}                    ).then(function(){\n",
              "                            \n",
              "var gd = document.getElementById('0a1e496a-4549-4335-8c63-7f3f8030ceb1');\n",
              "var x = new MutationObserver(function (mutations, observer) {{\n",
              "        var display = window.getComputedStyle(gd).display;\n",
              "        if (!display || display === 'none') {{\n",
              "            console.log([gd, 'removed!']);\n",
              "            Plotly.purge(gd);\n",
              "            observer.disconnect();\n",
              "        }}\n",
              "}});\n",
              "\n",
              "// Listen for the removal of the full notebook cells\n",
              "var notebookContainer = gd.closest('#notebook-container');\n",
              "if (notebookContainer) {{\n",
              "    x.observe(notebookContainer, {childList: true});\n",
              "}}\n",
              "\n",
              "// Listen for the clearing of the current output cell\n",
              "var outputEl = gd.closest('.output');\n",
              "if (outputEl) {{\n",
              "    x.observe(outputEl, {childList: true});\n",
              "}}\n",
              "\n",
              "                        })                };                            </script>        </div>\n",
              "</body>\n",
              "</html>"
            ]
          },
          "metadata": {}
        }
      ]
    },
    {
      "cell_type": "code",
      "source": [
        "# Add a new label with true/false values to our dataset\n",
        "balanced_dataset[\"is_hiker\"] = balanced_dataset.label == \"hiker\"\n",
        "\n",
        "hikers_dataset = balanced_dataset[balanced_dataset[\"is_hiker\"] == 1] \n",
        "nonhikers_dataset = balanced_dataset[balanced_dataset[\"is_hiker\"] == False] \n",
        "# take a random sampling of non-hikers the same size as the hikers subset\n",
        "nonhikers_dataset = nonhikers_dataset.sample(n=len(hikers_dataset.index), random_state=1)\n",
        "balanced_dataset = pandas.concat([hikers_dataset, nonhikers_dataset])\n",
        "\n",
        "# Plot frequency for \"is_hiker\" labels\n",
        "graphing.multiple_histogram(balanced_dataset, label_x=\"is_hiker\", label_group=\"is_hiker\", title=\"Label distribution in balanced dataset\")"
      ],
      "metadata": {
        "colab": {
          "base_uri": "https://localhost:8080/",
          "height": 417
        },
        "id": "RCYhlZBAQKDG",
        "outputId": "b46b8ace-7bed-42de-9113-659b94499770"
      },
      "execution_count": 7,
      "outputs": [
        {
          "output_type": "display_data",
          "data": {
            "text/html": [
              "<html>\n",
              "<head><meta charset=\"utf-8\" /></head>\n",
              "<body>\n",
              "    <div>            <script src=\"https://cdnjs.cloudflare.com/ajax/libs/mathjax/2.7.5/MathJax.js?config=TeX-AMS-MML_SVG\"></script><script type=\"text/javascript\">if (window.MathJax && window.MathJax.Hub && window.MathJax.Hub.Config) {window.MathJax.Hub.Config({SVG: {font: \"STIX-Web\"}});}</script>                <script type=\"text/javascript\">window.PlotlyConfig = {MathJaxConfig: 'local'};</script>\n",
              "        <script src=\"https://cdn.plot.ly/plotly-2.18.2.min.js\"></script>                <div id=\"4ba1c45f-28ae-46f6-98dc-ac70c3fa2cc3\" class=\"plotly-graph-div\" style=\"height:400px; width:100%;\"></div>            <script type=\"text/javascript\">                                    window.PLOTLYENV=window.PLOTLYENV || {};                                    if (document.getElementById(\"4ba1c45f-28ae-46f6-98dc-ac70c3fa2cc3\")) {                    Plotly.newPlot(                        \"4ba1c45f-28ae-46f6-98dc-ac70c3fa2cc3\",                        [{\"histfunc\":\"count\",\"name\":\"False\",\"x\":[false,false,false,false,false,false,false,false,false,false,false,false,false,false,false,false,false,false,false,false,false,false,false,false,false,false,false,false,false,false,false,false,false,false,false,false,false,false,false,false,false,false,false,false,false,false,false,false,false,false,false,false,false,false,false,false,false,false,false,false,false,false,false,false,false,false,false,false,false,false,false,false,false,false,false,false,false,false,false,false,false,false,false,false,false,false,false,false,false,false,false,false,false,false,false,false,false,false,false,false,false,false,false,false,false,false,false,false,false,false,false,false,false,false,false,false,false,false,false,false,false,false,false,false,false,false,false,false,false,false,false,false,false,false,false,false,false,false,false,false,false,false,false,false,false,false,false,false,false,false,false,false,false,false,false,false,false,false,false,false,false,false,false,false,false,false,false,false,false,false,false,false,false,false,false,false,false,false,false,false,false,false,false,false,false,false,false,false,false,false,false,false,false,false,false,false,false,false,false,false,false,false,false,false,false,false,false,false,false,false,false,false,false,false,false,false,false,false,false,false,false,false,false,false,false,false,false,false,false,false,false,false,false,false,false,false,false,false,false,false,false,false,false,false,false,false,false,false,false,false,false,false,false,false,false,false,false,false,false,false,false,false,false,false,false,false,false,false,false,false,false,false,false,false,false,false,false,false,false,false,false,false,false,false,false,false,false,false,false,false,false,false,false,false,false,false,false,false,false,false,false,false,false,false,false,false,false,false,false,false,false,false,false,false,false,false,false,false,false,false,false,false,false,false,false,false,false,false,false,false,false,false,false,false,false,false,false,false,false,false,false,false,false,false,false,false,false,false,false,false,false,false,false,false,false,false,false,false,false,false,false,false,false,false,false,false,false,false,false,false,false,false,false,false,false,false,false,false,false,false,false,false,false,false,false,false,false,false,false,false,false,false,false,false,false,false,false,false,false,false,false,false,false,false,false,false,false,false,false,false,false,false,false,false,false,false,false,false,false,false,false,false,false,false,false,false,false,false,false,false,false,false,false,false,false,false,false,false,false,false,false,false,false,false,false,false,false,false,false,false,false,false,false,false,false,false,false,false,false,false,false,false,false,false,false,false,false,false,false,false,false,false,false,false,false,false,false,false,false,false,false,false,false,false,false,false,false,false,false,false,false,false,false,false,false,false,false,false,false,false],\"type\":\"histogram\"},{\"histfunc\":\"count\",\"name\":\"True\",\"x\":[true,true,true,true,true,true,true,true,true,true,true,true,true,true,true,true,true,true,true,true,true,true,true,true,true,true,true,true,true,true,true,true,true,true,true,true,true,true,true,true,true,true,true,true,true,true,true,true,true,true,true,true,true,true,true,true,true,true,true,true,true,true,true,true,true,true,true,true,true,true,true,true,true,true,true,true,true,true,true,true,true,true,true,true,true,true,true,true,true,true,true,true,true,true,true,true,true,true,true,true,true,true,true,true,true,true,true,true,true,true,true,true,true,true,true,true,true,true,true,true,true,true,true,true,true,true,true,true,true,true,true,true,true,true,true,true,true,true,true,true,true,true,true,true,true,true,true,true,true,true,true,true,true,true,true,true,true,true,true,true,true,true,true,true,true,true,true,true,true,true,true,true,true,true,true,true,true,true,true,true,true,true,true,true,true,true,true,true,true,true,true,true,true,true,true,true,true,true,true,true,true,true,true,true,true,true,true,true,true,true,true,true,true,true,true,true,true,true,true,true,true,true,true,true,true,true,true,true,true,true,true,true,true,true,true,true,true,true,true,true,true,true,true,true,true,true,true,true,true,true,true,true,true,true,true,true,true,true,true,true,true,true,true,true,true,true,true,true,true,true,true,true,true,true,true,true,true,true,true,true,true,true,true,true,true,true,true,true,true,true,true,true,true,true,true,true,true,true,true,true,true,true,true,true,true,true,true,true,true,true,true,true,true,true,true,true,true,true,true,true,true,true,true,true,true,true,true,true,true,true,true,true,true,true,true,true,true,true,true,true,true,true,true,true,true,true,true,true,true,true,true,true,true,true,true,true,true,true,true,true,true,true,true,true,true,true,true,true,true,true,true,true,true,true,true,true,true,true,true,true,true,true,true,true,true,true,true,true,true,true,true,true,true,true,true,true,true,true,true,true,true,true,true,true,true,true,true,true,true,true,true,true,true,true,true,true,true,true,true,true,true,true,true,true,true,true,true,true,true,true,true,true,true,true,true,true,true,true,true,true,true,true,true,true,true,true,true,true,true,true,true,true,true,true,true,true,true,true,true,true,true,true,true,true,true,true,true,true,true,true,true,true,true,true,true,true,true,true,true,true,true,true,true,true,true,true,true,true,true,true,true,true,true,true,true,true,true,true,true,true],\"type\":\"histogram\"}],                        {\"title\":{\"text\":\"Label distribution in balanced dataset\"},\"xaxis\":{\"title\":{\"text\":\"is hiker\"}},\"yaxis\":{\"title\":{\"text\":\"count\"}},\"template\":{\"data\":{\"barpolar\":[{\"marker\":{\"line\":{\"color\":\"white\",\"width\":0.5},\"pattern\":{\"fillmode\":\"overlay\",\"size\":10,\"solidity\":0.2}},\"type\":\"barpolar\"}],\"bar\":[{\"error_x\":{\"color\":\"#2a3f5f\"},\"error_y\":{\"color\":\"#2a3f5f\"},\"marker\":{\"line\":{\"color\":\"white\",\"width\":0.5},\"pattern\":{\"fillmode\":\"overlay\",\"size\":10,\"solidity\":0.2}},\"type\":\"bar\"}],\"carpet\":[{\"aaxis\":{\"endlinecolor\":\"#2a3f5f\",\"gridcolor\":\"#C8D4E3\",\"linecolor\":\"#C8D4E3\",\"minorgridcolor\":\"#C8D4E3\",\"startlinecolor\":\"#2a3f5f\"},\"baxis\":{\"endlinecolor\":\"#2a3f5f\",\"gridcolor\":\"#C8D4E3\",\"linecolor\":\"#C8D4E3\",\"minorgridcolor\":\"#C8D4E3\",\"startlinecolor\":\"#2a3f5f\"},\"type\":\"carpet\"}],\"choropleth\":[{\"colorbar\":{\"outlinewidth\":0,\"ticks\":\"\"},\"type\":\"choropleth\"}],\"contourcarpet\":[{\"colorbar\":{\"outlinewidth\":0,\"ticks\":\"\"},\"type\":\"contourcarpet\"}],\"contour\":[{\"colorbar\":{\"outlinewidth\":0,\"ticks\":\"\"},\"colorscale\":[[0.0,\"#0d0887\"],[0.1111111111111111,\"#46039f\"],[0.2222222222222222,\"#7201a8\"],[0.3333333333333333,\"#9c179e\"],[0.4444444444444444,\"#bd3786\"],[0.5555555555555556,\"#d8576b\"],[0.6666666666666666,\"#ed7953\"],[0.7777777777777778,\"#fb9f3a\"],[0.8888888888888888,\"#fdca26\"],[1.0,\"#f0f921\"]],\"type\":\"contour\"}],\"heatmapgl\":[{\"colorbar\":{\"outlinewidth\":0,\"ticks\":\"\"},\"colorscale\":[[0.0,\"#0d0887\"],[0.1111111111111111,\"#46039f\"],[0.2222222222222222,\"#7201a8\"],[0.3333333333333333,\"#9c179e\"],[0.4444444444444444,\"#bd3786\"],[0.5555555555555556,\"#d8576b\"],[0.6666666666666666,\"#ed7953\"],[0.7777777777777778,\"#fb9f3a\"],[0.8888888888888888,\"#fdca26\"],[1.0,\"#f0f921\"]],\"type\":\"heatmapgl\"}],\"heatmap\":[{\"colorbar\":{\"outlinewidth\":0,\"ticks\":\"\"},\"colorscale\":[[0.0,\"#0d0887\"],[0.1111111111111111,\"#46039f\"],[0.2222222222222222,\"#7201a8\"],[0.3333333333333333,\"#9c179e\"],[0.4444444444444444,\"#bd3786\"],[0.5555555555555556,\"#d8576b\"],[0.6666666666666666,\"#ed7953\"],[0.7777777777777778,\"#fb9f3a\"],[0.8888888888888888,\"#fdca26\"],[1.0,\"#f0f921\"]],\"type\":\"heatmap\"}],\"histogram2dcontour\":[{\"colorbar\":{\"outlinewidth\":0,\"ticks\":\"\"},\"colorscale\":[[0.0,\"#0d0887\"],[0.1111111111111111,\"#46039f\"],[0.2222222222222222,\"#7201a8\"],[0.3333333333333333,\"#9c179e\"],[0.4444444444444444,\"#bd3786\"],[0.5555555555555556,\"#d8576b\"],[0.6666666666666666,\"#ed7953\"],[0.7777777777777778,\"#fb9f3a\"],[0.8888888888888888,\"#fdca26\"],[1.0,\"#f0f921\"]],\"type\":\"histogram2dcontour\"}],\"histogram2d\":[{\"colorbar\":{\"outlinewidth\":0,\"ticks\":\"\"},\"colorscale\":[[0.0,\"#0d0887\"],[0.1111111111111111,\"#46039f\"],[0.2222222222222222,\"#7201a8\"],[0.3333333333333333,\"#9c179e\"],[0.4444444444444444,\"#bd3786\"],[0.5555555555555556,\"#d8576b\"],[0.6666666666666666,\"#ed7953\"],[0.7777777777777778,\"#fb9f3a\"],[0.8888888888888888,\"#fdca26\"],[1.0,\"#f0f921\"]],\"type\":\"histogram2d\"}],\"histogram\":[{\"marker\":{\"pattern\":{\"fillmode\":\"overlay\",\"size\":10,\"solidity\":0.2},\"line\":{\"width\":1}},\"type\":\"histogram\"}],\"mesh3d\":[{\"colorbar\":{\"outlinewidth\":0,\"ticks\":\"\"},\"type\":\"mesh3d\"}],\"parcoords\":[{\"line\":{\"colorbar\":{\"outlinewidth\":0,\"ticks\":\"\"}},\"type\":\"parcoords\"}],\"pie\":[{\"automargin\":true,\"type\":\"pie\"}],\"scatter3d\":[{\"line\":{\"colorbar\":{\"outlinewidth\":0,\"ticks\":\"\"}},\"marker\":{\"colorbar\":{\"outlinewidth\":0,\"ticks\":\"\"},\"opacity\":0.8},\"type\":\"scatter3d\"}],\"scattercarpet\":[{\"marker\":{\"colorbar\":{\"outlinewidth\":0,\"ticks\":\"\"}},\"type\":\"scattercarpet\"}],\"scattergeo\":[{\"marker\":{\"colorbar\":{\"outlinewidth\":0,\"ticks\":\"\"}},\"type\":\"scattergeo\"}],\"scattergl\":[{\"marker\":{\"colorbar\":{\"outlinewidth\":0,\"ticks\":\"\"}},\"type\":\"scattergl\"}],\"scattermapbox\":[{\"marker\":{\"colorbar\":{\"outlinewidth\":0,\"ticks\":\"\"}},\"type\":\"scattermapbox\"}],\"scatterpolargl\":[{\"marker\":{\"colorbar\":{\"outlinewidth\":0,\"ticks\":\"\"}},\"type\":\"scatterpolargl\"}],\"scatterpolar\":[{\"marker\":{\"colorbar\":{\"outlinewidth\":0,\"ticks\":\"\"}},\"type\":\"scatterpolar\"}],\"scatter\":[{\"fillpattern\":{\"fillmode\":\"overlay\",\"size\":10,\"solidity\":0.2},\"type\":\"scatter\",\"marker\":{\"opacity\":0.8}}],\"scatterternary\":[{\"marker\":{\"colorbar\":{\"outlinewidth\":0,\"ticks\":\"\"}},\"type\":\"scatterternary\"}],\"surface\":[{\"colorbar\":{\"outlinewidth\":0,\"ticks\":\"\"},\"colorscale\":[[0.0,\"#0d0887\"],[0.1111111111111111,\"#46039f\"],[0.2222222222222222,\"#7201a8\"],[0.3333333333333333,\"#9c179e\"],[0.4444444444444444,\"#bd3786\"],[0.5555555555555556,\"#d8576b\"],[0.6666666666666666,\"#ed7953\"],[0.7777777777777778,\"#fb9f3a\"],[0.8888888888888888,\"#fdca26\"],[1.0,\"#f0f921\"]],\"type\":\"surface\"}],\"table\":[{\"cells\":{\"fill\":{\"color\":\"#EBF0F8\"},\"line\":{\"color\":\"white\"}},\"header\":{\"fill\":{\"color\":\"#C8D4E3\"},\"line\":{\"color\":\"white\"}},\"type\":\"table\"}],\"box\":[{\"boxpoints\":\"outliers\",\"notched\":false,\"type\":\"box\"}]},\"layout\":{\"annotationdefaults\":{\"arrowcolor\":\"#2a3f5f\",\"arrowhead\":0,\"arrowwidth\":1},\"autotypenumbers\":\"strict\",\"coloraxis\":{\"colorbar\":{\"outlinewidth\":0,\"ticks\":\"\"}},\"colorscale\":{\"diverging\":[[0,\"#8e0152\"],[0.1,\"#c51b7d\"],[0.2,\"#de77ae\"],[0.3,\"#f1b6da\"],[0.4,\"#fde0ef\"],[0.5,\"#f7f7f7\"],[0.6,\"#e6f5d0\"],[0.7,\"#b8e186\"],[0.8,\"#7fbc41\"],[0.9,\"#4d9221\"],[1,\"#276419\"]],\"sequential\":[[0.0,\"#0d0887\"],[0.1111111111111111,\"#46039f\"],[0.2222222222222222,\"#7201a8\"],[0.3333333333333333,\"#9c179e\"],[0.4444444444444444,\"#bd3786\"],[0.5555555555555556,\"#d8576b\"],[0.6666666666666666,\"#ed7953\"],[0.7777777777777778,\"#fb9f3a\"],[0.8888888888888888,\"#fdca26\"],[1.0,\"#f0f921\"]],\"sequentialminus\":[[0.0,\"#0d0887\"],[0.1111111111111111,\"#46039f\"],[0.2222222222222222,\"#7201a8\"],[0.3333333333333333,\"#9c179e\"],[0.4444444444444444,\"#bd3786\"],[0.5555555555555556,\"#d8576b\"],[0.6666666666666666,\"#ed7953\"],[0.7777777777777778,\"#fb9f3a\"],[0.8888888888888888,\"#fdca26\"],[1.0,\"#f0f921\"]]},\"colorway\":[\"#636efa\",\"#EF553B\",\"#00cc96\",\"#ab63fa\",\"#FFA15A\",\"#19d3f3\",\"#FF6692\",\"#B6E880\",\"#FF97FF\",\"#FECB52\"],\"font\":{\"color\":\"#2a3f5f\"},\"geo\":{\"bgcolor\":\"white\",\"lakecolor\":\"white\",\"landcolor\":\"white\",\"showlakes\":true,\"showland\":true,\"subunitcolor\":\"#C8D4E3\"},\"hoverlabel\":{\"align\":\"left\"},\"hovermode\":\"closest\",\"mapbox\":{\"style\":\"light\"},\"paper_bgcolor\":\"white\",\"plot_bgcolor\":\"white\",\"polar\":{\"angularaxis\":{\"gridcolor\":\"#EBF0F8\",\"linecolor\":\"#EBF0F8\",\"ticks\":\"\"},\"bgcolor\":\"white\",\"radialaxis\":{\"gridcolor\":\"#EBF0F8\",\"linecolor\":\"#EBF0F8\",\"ticks\":\"\"}},\"scene\":{\"xaxis\":{\"backgroundcolor\":\"white\",\"gridcolor\":\"#DFE8F3\",\"gridwidth\":2,\"linecolor\":\"#EBF0F8\",\"showbackground\":true,\"ticks\":\"\",\"zerolinecolor\":\"#EBF0F8\"},\"yaxis\":{\"backgroundcolor\":\"white\",\"gridcolor\":\"#DFE8F3\",\"gridwidth\":2,\"linecolor\":\"#EBF0F8\",\"showbackground\":true,\"ticks\":\"\",\"zerolinecolor\":\"#EBF0F8\"},\"zaxis\":{\"backgroundcolor\":\"white\",\"gridcolor\":\"#DFE8F3\",\"gridwidth\":2,\"linecolor\":\"#EBF0F8\",\"showbackground\":true,\"ticks\":\"\",\"zerolinecolor\":\"#EBF0F8\"},\"camera\":{\"eye\":{\"x\":1.5,\"y\":1.5,\"z\":0.1}}},\"shapedefaults\":{\"line\":{\"color\":\"#2a3f5f\"}},\"ternary\":{\"aaxis\":{\"gridcolor\":\"#DFE8F3\",\"linecolor\":\"#A2B1C6\",\"ticks\":\"\"},\"baxis\":{\"gridcolor\":\"#DFE8F3\",\"linecolor\":\"#A2B1C6\",\"ticks\":\"\"},\"bgcolor\":\"white\",\"caxis\":{\"gridcolor\":\"#DFE8F3\",\"linecolor\":\"#A2B1C6\",\"ticks\":\"\"}},\"title\":{\"x\":0.5},\"xaxis\":{\"automargin\":true,\"gridcolor\":\"#EBF0F8\",\"linecolor\":\"#EBF0F8\",\"ticks\":\"\",\"title\":{\"standoff\":15},\"zerolinecolor\":\"#EBF0F8\",\"zerolinewidth\":2,\"linewidth\":2,\"showline\":true},\"yaxis\":{\"automargin\":true,\"gridcolor\":\"#EBF0F8\",\"linecolor\":\"#EBF0F8\",\"ticks\":\"\",\"title\":{\"standoff\":15},\"zerolinecolor\":\"#EBF0F8\",\"zerolinewidth\":2,\"linewidth\":2,\"showline\":true},\"height\":400,\"margin\":{\"b\":2,\"l\":2,\"r\":2,\"t\":30}}},\"legend\":{\"title\":{\"text\":\"is_hiker\"}}},                        {\"responsive\": true}                    ).then(function(){\n",
              "                            \n",
              "var gd = document.getElementById('4ba1c45f-28ae-46f6-98dc-ac70c3fa2cc3');\n",
              "var x = new MutationObserver(function (mutations, observer) {{\n",
              "        var display = window.getComputedStyle(gd).display;\n",
              "        if (!display || display === 'none') {{\n",
              "            console.log([gd, 'removed!']);\n",
              "            Plotly.purge(gd);\n",
              "            observer.disconnect();\n",
              "        }}\n",
              "}});\n",
              "\n",
              "// Listen for the removal of the full notebook cells\n",
              "var notebookContainer = gd.closest('#notebook-container');\n",
              "if (notebookContainer) {{\n",
              "    x.observe(notebookContainer, {childList: true});\n",
              "}}\n",
              "\n",
              "// Listen for the clearing of the current output cell\n",
              "var outputEl = gd.closest('.output');\n",
              "if (outputEl) {{\n",
              "    x.observe(outputEl, {childList: true});\n",
              "}}\n",
              "\n",
              "                        })                };                            </script>        </div>\n",
              "</body>\n",
              "</html>"
            ]
          },
          "metadata": {}
        }
      ]
    },
    {
      "cell_type": "code",
      "source": [
        "# Test the model using a balanced dataset\n",
        "actual = balanced_dataset.is_hiker\n",
        "predictions = model.predict(balanced_dataset[features])\n",
        "\n",
        "# Build and print our confusion matrix, using the actual values and predictions \n",
        "# from the test set, calculated in previous cells\n",
        "cm = confusion_matrix(actual, predictions, normalize=None)\n",
        "\n",
        "# Print accuracy using this set\n",
        "print(\"Balanced set accuracy:\", assess_accuracy(model,balanced_dataset, \"is_hiker\"))"
      ],
      "metadata": {
        "colab": {
          "base_uri": "https://localhost:8080/"
        },
        "id": "1JqCpmdoQV-O",
        "outputId": "01c52370-502b-4dba-b8cf-b23f4fbda1ba"
      },
      "execution_count": 8,
      "outputs": [
        {
          "output_type": "stream",
          "name": "stdout",
          "text": [
            "Balanced set accuracy: 0.754\n"
          ]
        }
      ]
    },
    {
      "cell_type": "code",
      "source": [
        "# plot new confusion matrix\n",
        "# Create the list of unique labels in the test set to use in our plot\n",
        "unique_targets = sorted(list(balanced_dataset[\"is_hiker\"].unique()))\n",
        "\n",
        "# Convert values to lower case so the plot code can count the outcomes\n",
        "x = y = [str(s).lower() for s in unique_targets]\n",
        "\n",
        "# Plot the matrix above as a heatmap with annotations (values) in its cells\n",
        "fig = ff.create_annotated_heatmap(cm, x, y)\n",
        "\n",
        "# Set titles and ordering\n",
        "fig.update_layout(  title_text=\"<b>Confusion matrix</b>\", \n",
        "                    yaxis = dict(categoryorder = \"category descending\")\n",
        "                    )\n",
        "\n",
        "fig.add_annotation(dict(font=dict(color=\"black\",size=14),\n",
        "                        x=0.5,\n",
        "                        y=-0.15,\n",
        "                        showarrow=False,\n",
        "                        text=\"Predicted label\",\n",
        "                        xref=\"paper\",\n",
        "                        yref=\"paper\"))\n",
        "\n",
        "fig.add_annotation(dict(font=dict(color=\"black\",size=14),\n",
        "                        x=-0.15,\n",
        "                        y=0.5,\n",
        "                        showarrow=False,\n",
        "                        text=\"Actual label\",\n",
        "                        textangle=-90,\n",
        "                        xref=\"paper\",\n",
        "                        yref=\"paper\"))\n",
        "\n",
        "# We need margins so the titles fit\n",
        "fig.update_layout(margin=dict(t=80, r=20, l=120, b=50))\n",
        "fig['data'][0]['showscale'] = True\n",
        "fig.show()"
      ],
      "metadata": {
        "colab": {
          "base_uri": "https://localhost:8080/",
          "height": 417
        },
        "id": "KqUgGdqCQk4q",
        "outputId": "37e2ceec-cd8b-403e-8e5d-fb7a5755471e"
      },
      "execution_count": 9,
      "outputs": [
        {
          "output_type": "display_data",
          "data": {
            "text/html": [
              "<html>\n",
              "<head><meta charset=\"utf-8\" /></head>\n",
              "<body>\n",
              "    <div>            <script src=\"https://cdnjs.cloudflare.com/ajax/libs/mathjax/2.7.5/MathJax.js?config=TeX-AMS-MML_SVG\"></script><script type=\"text/javascript\">if (window.MathJax && window.MathJax.Hub && window.MathJax.Hub.Config) {window.MathJax.Hub.Config({SVG: {font: \"STIX-Web\"}});}</script>                <script type=\"text/javascript\">window.PlotlyConfig = {MathJaxConfig: 'local'};</script>\n",
              "        <script src=\"https://cdn.plot.ly/plotly-2.18.2.min.js\"></script>                <div id=\"68c6c1e2-2f79-4dc6-ab4d-ba019ee63b4b\" class=\"plotly-graph-div\" style=\"height:400px; width:100%;\"></div>            <script type=\"text/javascript\">                                    window.PLOTLYENV=window.PLOTLYENV || {};                                    if (document.getElementById(\"68c6c1e2-2f79-4dc6-ab4d-ba019ee63b4b\")) {                    Plotly.newPlot(                        \"68c6c1e2-2f79-4dc6-ab4d-ba019ee63b4b\",                        [{\"colorscale\":[[0.0,\"#0d0887\"],[0.1111111111111111,\"#46039f\"],[0.2222222222222222,\"#7201a8\"],[0.3333333333333333,\"#9c179e\"],[0.4444444444444444,\"#bd3786\"],[0.5555555555555556,\"#d8576b\"],[0.6666666666666666,\"#ed7953\"],[0.7777777777777778,\"#fb9f3a\"],[0.8888888888888888,\"#fdca26\"],[1.0,\"#f0f921\"]],\"reversescale\":false,\"showscale\":true,\"x\":[\"false\",\"true\"],\"y\":[\"false\",\"true\"],\"z\":[[411,89],[157,343]],\"type\":\"heatmap\"}],                        {\"annotations\":[{\"font\":{\"color\":\"#000000\"},\"showarrow\":false,\"text\":\"411\",\"x\":\"false\",\"xref\":\"x\",\"y\":\"false\",\"yref\":\"y\"},{\"font\":{\"color\":\"#FFFFFF\"},\"showarrow\":false,\"text\":\"89\",\"x\":\"true\",\"xref\":\"x\",\"y\":\"false\",\"yref\":\"y\"},{\"font\":{\"color\":\"#FFFFFF\"},\"showarrow\":false,\"text\":\"157\",\"x\":\"false\",\"xref\":\"x\",\"y\":\"true\",\"yref\":\"y\"},{\"font\":{\"color\":\"#000000\"},\"showarrow\":false,\"text\":\"343\",\"x\":\"true\",\"xref\":\"x\",\"y\":\"true\",\"yref\":\"y\"},{\"font\":{\"color\":\"black\",\"size\":14},\"showarrow\":false,\"text\":\"Predicted label\",\"x\":0.5,\"xref\":\"paper\",\"y\":-0.15,\"yref\":\"paper\"},{\"font\":{\"color\":\"black\",\"size\":14},\"showarrow\":false,\"text\":\"Actual label\",\"textangle\":-90,\"x\":-0.15,\"xref\":\"paper\",\"y\":0.5,\"yref\":\"paper\"}],\"xaxis\":{\"dtick\":1,\"gridcolor\":\"rgb(0, 0, 0)\",\"side\":\"top\",\"ticks\":\"\"},\"yaxis\":{\"dtick\":1,\"ticks\":\"\",\"ticksuffix\":\"  \",\"categoryorder\":\"category descending\"},\"template\":{\"data\":{\"barpolar\":[{\"marker\":{\"line\":{\"color\":\"white\",\"width\":0.5},\"pattern\":{\"fillmode\":\"overlay\",\"size\":10,\"solidity\":0.2}},\"type\":\"barpolar\"}],\"bar\":[{\"error_x\":{\"color\":\"#2a3f5f\"},\"error_y\":{\"color\":\"#2a3f5f\"},\"marker\":{\"line\":{\"color\":\"white\",\"width\":0.5},\"pattern\":{\"fillmode\":\"overlay\",\"size\":10,\"solidity\":0.2}},\"type\":\"bar\"}],\"carpet\":[{\"aaxis\":{\"endlinecolor\":\"#2a3f5f\",\"gridcolor\":\"#C8D4E3\",\"linecolor\":\"#C8D4E3\",\"minorgridcolor\":\"#C8D4E3\",\"startlinecolor\":\"#2a3f5f\"},\"baxis\":{\"endlinecolor\":\"#2a3f5f\",\"gridcolor\":\"#C8D4E3\",\"linecolor\":\"#C8D4E3\",\"minorgridcolor\":\"#C8D4E3\",\"startlinecolor\":\"#2a3f5f\"},\"type\":\"carpet\"}],\"choropleth\":[{\"colorbar\":{\"outlinewidth\":0,\"ticks\":\"\"},\"type\":\"choropleth\"}],\"contourcarpet\":[{\"colorbar\":{\"outlinewidth\":0,\"ticks\":\"\"},\"type\":\"contourcarpet\"}],\"contour\":[{\"colorbar\":{\"outlinewidth\":0,\"ticks\":\"\"},\"colorscale\":[[0.0,\"#0d0887\"],[0.1111111111111111,\"#46039f\"],[0.2222222222222222,\"#7201a8\"],[0.3333333333333333,\"#9c179e\"],[0.4444444444444444,\"#bd3786\"],[0.5555555555555556,\"#d8576b\"],[0.6666666666666666,\"#ed7953\"],[0.7777777777777778,\"#fb9f3a\"],[0.8888888888888888,\"#fdca26\"],[1.0,\"#f0f921\"]],\"type\":\"contour\"}],\"heatmapgl\":[{\"colorbar\":{\"outlinewidth\":0,\"ticks\":\"\"},\"colorscale\":[[0.0,\"#0d0887\"],[0.1111111111111111,\"#46039f\"],[0.2222222222222222,\"#7201a8\"],[0.3333333333333333,\"#9c179e\"],[0.4444444444444444,\"#bd3786\"],[0.5555555555555556,\"#d8576b\"],[0.6666666666666666,\"#ed7953\"],[0.7777777777777778,\"#fb9f3a\"],[0.8888888888888888,\"#fdca26\"],[1.0,\"#f0f921\"]],\"type\":\"heatmapgl\"}],\"heatmap\":[{\"colorbar\":{\"outlinewidth\":0,\"ticks\":\"\"},\"colorscale\":[[0.0,\"#0d0887\"],[0.1111111111111111,\"#46039f\"],[0.2222222222222222,\"#7201a8\"],[0.3333333333333333,\"#9c179e\"],[0.4444444444444444,\"#bd3786\"],[0.5555555555555556,\"#d8576b\"],[0.6666666666666666,\"#ed7953\"],[0.7777777777777778,\"#fb9f3a\"],[0.8888888888888888,\"#fdca26\"],[1.0,\"#f0f921\"]],\"type\":\"heatmap\"}],\"histogram2dcontour\":[{\"colorbar\":{\"outlinewidth\":0,\"ticks\":\"\"},\"colorscale\":[[0.0,\"#0d0887\"],[0.1111111111111111,\"#46039f\"],[0.2222222222222222,\"#7201a8\"],[0.3333333333333333,\"#9c179e\"],[0.4444444444444444,\"#bd3786\"],[0.5555555555555556,\"#d8576b\"],[0.6666666666666666,\"#ed7953\"],[0.7777777777777778,\"#fb9f3a\"],[0.8888888888888888,\"#fdca26\"],[1.0,\"#f0f921\"]],\"type\":\"histogram2dcontour\"}],\"histogram2d\":[{\"colorbar\":{\"outlinewidth\":0,\"ticks\":\"\"},\"colorscale\":[[0.0,\"#0d0887\"],[0.1111111111111111,\"#46039f\"],[0.2222222222222222,\"#7201a8\"],[0.3333333333333333,\"#9c179e\"],[0.4444444444444444,\"#bd3786\"],[0.5555555555555556,\"#d8576b\"],[0.6666666666666666,\"#ed7953\"],[0.7777777777777778,\"#fb9f3a\"],[0.8888888888888888,\"#fdca26\"],[1.0,\"#f0f921\"]],\"type\":\"histogram2d\"}],\"histogram\":[{\"marker\":{\"pattern\":{\"fillmode\":\"overlay\",\"size\":10,\"solidity\":0.2},\"line\":{\"width\":1}},\"type\":\"histogram\"}],\"mesh3d\":[{\"colorbar\":{\"outlinewidth\":0,\"ticks\":\"\"},\"type\":\"mesh3d\"}],\"parcoords\":[{\"line\":{\"colorbar\":{\"outlinewidth\":0,\"ticks\":\"\"}},\"type\":\"parcoords\"}],\"pie\":[{\"automargin\":true,\"type\":\"pie\"}],\"scatter3d\":[{\"line\":{\"colorbar\":{\"outlinewidth\":0,\"ticks\":\"\"}},\"marker\":{\"colorbar\":{\"outlinewidth\":0,\"ticks\":\"\"},\"opacity\":0.8},\"type\":\"scatter3d\"}],\"scattercarpet\":[{\"marker\":{\"colorbar\":{\"outlinewidth\":0,\"ticks\":\"\"}},\"type\":\"scattercarpet\"}],\"scattergeo\":[{\"marker\":{\"colorbar\":{\"outlinewidth\":0,\"ticks\":\"\"}},\"type\":\"scattergeo\"}],\"scattergl\":[{\"marker\":{\"colorbar\":{\"outlinewidth\":0,\"ticks\":\"\"}},\"type\":\"scattergl\"}],\"scattermapbox\":[{\"marker\":{\"colorbar\":{\"outlinewidth\":0,\"ticks\":\"\"}},\"type\":\"scattermapbox\"}],\"scatterpolargl\":[{\"marker\":{\"colorbar\":{\"outlinewidth\":0,\"ticks\":\"\"}},\"type\":\"scatterpolargl\"}],\"scatterpolar\":[{\"marker\":{\"colorbar\":{\"outlinewidth\":0,\"ticks\":\"\"}},\"type\":\"scatterpolar\"}],\"scatter\":[{\"fillpattern\":{\"fillmode\":\"overlay\",\"size\":10,\"solidity\":0.2},\"type\":\"scatter\",\"marker\":{\"opacity\":0.8}}],\"scatterternary\":[{\"marker\":{\"colorbar\":{\"outlinewidth\":0,\"ticks\":\"\"}},\"type\":\"scatterternary\"}],\"surface\":[{\"colorbar\":{\"outlinewidth\":0,\"ticks\":\"\"},\"colorscale\":[[0.0,\"#0d0887\"],[0.1111111111111111,\"#46039f\"],[0.2222222222222222,\"#7201a8\"],[0.3333333333333333,\"#9c179e\"],[0.4444444444444444,\"#bd3786\"],[0.5555555555555556,\"#d8576b\"],[0.6666666666666666,\"#ed7953\"],[0.7777777777777778,\"#fb9f3a\"],[0.8888888888888888,\"#fdca26\"],[1.0,\"#f0f921\"]],\"type\":\"surface\"}],\"table\":[{\"cells\":{\"fill\":{\"color\":\"#EBF0F8\"},\"line\":{\"color\":\"white\"}},\"header\":{\"fill\":{\"color\":\"#C8D4E3\"},\"line\":{\"color\":\"white\"}},\"type\":\"table\"}],\"box\":[{\"boxpoints\":\"outliers\",\"notched\":false,\"type\":\"box\"}]},\"layout\":{\"annotationdefaults\":{\"arrowcolor\":\"#2a3f5f\",\"arrowhead\":0,\"arrowwidth\":1},\"autotypenumbers\":\"strict\",\"coloraxis\":{\"colorbar\":{\"outlinewidth\":0,\"ticks\":\"\"}},\"colorscale\":{\"diverging\":[[0,\"#8e0152\"],[0.1,\"#c51b7d\"],[0.2,\"#de77ae\"],[0.3,\"#f1b6da\"],[0.4,\"#fde0ef\"],[0.5,\"#f7f7f7\"],[0.6,\"#e6f5d0\"],[0.7,\"#b8e186\"],[0.8,\"#7fbc41\"],[0.9,\"#4d9221\"],[1,\"#276419\"]],\"sequential\":[[0.0,\"#0d0887\"],[0.1111111111111111,\"#46039f\"],[0.2222222222222222,\"#7201a8\"],[0.3333333333333333,\"#9c179e\"],[0.4444444444444444,\"#bd3786\"],[0.5555555555555556,\"#d8576b\"],[0.6666666666666666,\"#ed7953\"],[0.7777777777777778,\"#fb9f3a\"],[0.8888888888888888,\"#fdca26\"],[1.0,\"#f0f921\"]],\"sequentialminus\":[[0.0,\"#0d0887\"],[0.1111111111111111,\"#46039f\"],[0.2222222222222222,\"#7201a8\"],[0.3333333333333333,\"#9c179e\"],[0.4444444444444444,\"#bd3786\"],[0.5555555555555556,\"#d8576b\"],[0.6666666666666666,\"#ed7953\"],[0.7777777777777778,\"#fb9f3a\"],[0.8888888888888888,\"#fdca26\"],[1.0,\"#f0f921\"]]},\"colorway\":[\"#636efa\",\"#EF553B\",\"#00cc96\",\"#ab63fa\",\"#FFA15A\",\"#19d3f3\",\"#FF6692\",\"#B6E880\",\"#FF97FF\",\"#FECB52\"],\"font\":{\"color\":\"#2a3f5f\"},\"geo\":{\"bgcolor\":\"white\",\"lakecolor\":\"white\",\"landcolor\":\"white\",\"showlakes\":true,\"showland\":true,\"subunitcolor\":\"#C8D4E3\"},\"hoverlabel\":{\"align\":\"left\"},\"hovermode\":\"closest\",\"mapbox\":{\"style\":\"light\"},\"paper_bgcolor\":\"white\",\"plot_bgcolor\":\"white\",\"polar\":{\"angularaxis\":{\"gridcolor\":\"#EBF0F8\",\"linecolor\":\"#EBF0F8\",\"ticks\":\"\"},\"bgcolor\":\"white\",\"radialaxis\":{\"gridcolor\":\"#EBF0F8\",\"linecolor\":\"#EBF0F8\",\"ticks\":\"\"}},\"scene\":{\"xaxis\":{\"backgroundcolor\":\"white\",\"gridcolor\":\"#DFE8F3\",\"gridwidth\":2,\"linecolor\":\"#EBF0F8\",\"showbackground\":true,\"ticks\":\"\",\"zerolinecolor\":\"#EBF0F8\"},\"yaxis\":{\"backgroundcolor\":\"white\",\"gridcolor\":\"#DFE8F3\",\"gridwidth\":2,\"linecolor\":\"#EBF0F8\",\"showbackground\":true,\"ticks\":\"\",\"zerolinecolor\":\"#EBF0F8\"},\"zaxis\":{\"backgroundcolor\":\"white\",\"gridcolor\":\"#DFE8F3\",\"gridwidth\":2,\"linecolor\":\"#EBF0F8\",\"showbackground\":true,\"ticks\":\"\",\"zerolinecolor\":\"#EBF0F8\"},\"camera\":{\"eye\":{\"x\":1.5,\"y\":1.5,\"z\":0.1}}},\"shapedefaults\":{\"line\":{\"color\":\"#2a3f5f\"}},\"ternary\":{\"aaxis\":{\"gridcolor\":\"#DFE8F3\",\"linecolor\":\"#A2B1C6\",\"ticks\":\"\"},\"baxis\":{\"gridcolor\":\"#DFE8F3\",\"linecolor\":\"#A2B1C6\",\"ticks\":\"\"},\"bgcolor\":\"white\",\"caxis\":{\"gridcolor\":\"#DFE8F3\",\"linecolor\":\"#A2B1C6\",\"ticks\":\"\"}},\"title\":{\"x\":0.5},\"xaxis\":{\"automargin\":true,\"gridcolor\":\"#EBF0F8\",\"linecolor\":\"#EBF0F8\",\"ticks\":\"\",\"title\":{\"standoff\":15},\"zerolinecolor\":\"#EBF0F8\",\"zerolinewidth\":2,\"linewidth\":2,\"showline\":true},\"yaxis\":{\"automargin\":true,\"gridcolor\":\"#EBF0F8\",\"linecolor\":\"#EBF0F8\",\"ticks\":\"\",\"title\":{\"standoff\":15},\"zerolinecolor\":\"#EBF0F8\",\"zerolinewidth\":2,\"linewidth\":2,\"showline\":true},\"height\":400,\"margin\":{\"b\":2,\"l\":2,\"r\":2,\"t\":30}}},\"title\":{\"text\":\"<b>Confusion matrix</b>\"},\"margin\":{\"t\":80,\"r\":20,\"l\":120,\"b\":50}},                        {\"responsive\": true}                    ).then(function(){\n",
              "                            \n",
              "var gd = document.getElementById('68c6c1e2-2f79-4dc6-ab4d-ba019ee63b4b');\n",
              "var x = new MutationObserver(function (mutations, observer) {{\n",
              "        var display = window.getComputedStyle(gd).display;\n",
              "        if (!display || display === 'none') {{\n",
              "            console.log([gd, 'removed!']);\n",
              "            Plotly.purge(gd);\n",
              "            observer.disconnect();\n",
              "        }}\n",
              "}});\n",
              "\n",
              "// Listen for the removal of the full notebook cells\n",
              "var notebookContainer = gd.closest('#notebook-container');\n",
              "if (notebookContainer) {{\n",
              "    x.observe(notebookContainer, {childList: true});\n",
              "}}\n",
              "\n",
              "// Listen for the clearing of the current output cell\n",
              "var outputEl = gd.closest('.output');\n",
              "if (outputEl) {{\n",
              "    x.observe(outputEl, {childList: true});\n",
              "}}\n",
              "\n",
              "                        })                };                            </script>        </div>\n",
              "</body>\n",
              "</html>"
            ]
          },
          "metadata": {}
        }
      ]
    },
    {
      "cell_type": "code",
      "source": [
        "# Import function used in calculating weights\n",
        "from sklearn.utils import class_weight\n",
        "\n",
        "# Retrain model using class weights\n",
        "# Using class_weight=\"balanced\" tells the algorithm to automatically calculate weights for us\n",
        "weighted_model = RandomForestClassifier(n_estimators=1, random_state=1, verbose=False, class_weight=\"balanced\")\n",
        "# Train the weighted_model using binary label\n",
        "weighted_model.fit(train[features], train.is_hiker)\n",
        "\n",
        "print(\"Train accuracy:\", assess_accuracy(weighted_model,train, \"is_hiker\"))\n",
        "print(\"Test accuracy:\", assess_accuracy(weighted_model, test, \"is_hiker\"))"
      ],
      "metadata": {
        "colab": {
          "base_uri": "https://localhost:8080/"
        },
        "id": "TzpwnyeARJPG",
        "outputId": "89967afc-dded-4c45-f762-2ecd72b0b0b0"
      },
      "execution_count": 10,
      "outputs": [
        {
          "output_type": "stream",
          "name": "stdout",
          "text": [
            "Train accuracy: 0.9525974025974026\n",
            "Test accuracy: 0.9166666666666666\n"
          ]
        }
      ]
    },
    {
      "cell_type": "code",
      "source": [
        "print(\"Balanced set accuracy:\", assess_accuracy(weighted_model, balanced_dataset, \"is_hiker\"))\n",
        "\n",
        "# Test the weighted_model using a balanced dataset\n",
        "actual = balanced_dataset.is_hiker\n",
        "predictions = weighted_model.predict(balanced_dataset[features])\n",
        "\n",
        "# Build and print our confusion matrix, using the actual values and predictions \n",
        "# from the test set, calculated in previous cells\n",
        "cm = confusion_matrix(actual, predictions, normalize=None)"
      ],
      "metadata": {
        "colab": {
          "base_uri": "https://localhost:8080/"
        },
        "id": "aZ-7EfidRgg6",
        "outputId": "f6065351-e9a1-4ebf-e11d-c73e74004cd9"
      },
      "execution_count": 11,
      "outputs": [
        {
          "output_type": "stream",
          "name": "stdout",
          "text": [
            "Balanced set accuracy: 0.796\n"
          ]
        }
      ]
    },
    {
      "cell_type": "code",
      "source": [
        "# Plot the matrix above as a heatmap with annotations (values) in its cells\n",
        "fig = ff.create_annotated_heatmap(cm, x, y)\n",
        "\n",
        "# Set titles and ordering\n",
        "fig.update_layout(  title_text=\"<b>Confusion matrix</b>\", \n",
        "                    yaxis = dict(categoryorder = \"category descending\")\n",
        "                    )\n",
        "\n",
        "fig.add_annotation(dict(font=dict(color=\"black\",size=14),\n",
        "                        x=0.5,\n",
        "                        y=-0.15,\n",
        "                        showarrow=False,\n",
        "                        text=\"Predicted label\",\n",
        "                        xref=\"paper\",\n",
        "                        yref=\"paper\"))\n",
        "\n",
        "fig.add_annotation(dict(font=dict(color=\"black\",size=14),\n",
        "                        x=-0.15,\n",
        "                        y=0.5,\n",
        "                        showarrow=False,\n",
        "                        text=\"Actual label\",\n",
        "                        textangle=-90,\n",
        "                        xref=\"paper\",\n",
        "                        yref=\"paper\"))\n",
        "\n",
        "# We need margins so the titles fit\n",
        "fig.update_layout(margin=dict(t=80, r=20, l=120, b=50))\n",
        "fig['data'][0]['showscale'] = True\n",
        "fig.show()"
      ],
      "metadata": {
        "colab": {
          "base_uri": "https://localhost:8080/",
          "height": 417
        },
        "id": "2LJNznvqR4TY",
        "outputId": "e7d8548b-2b96-4a30-f6d9-9f19971a7a5c"
      },
      "execution_count": 12,
      "outputs": [
        {
          "output_type": "display_data",
          "data": {
            "text/html": [
              "<html>\n",
              "<head><meta charset=\"utf-8\" /></head>\n",
              "<body>\n",
              "    <div>            <script src=\"https://cdnjs.cloudflare.com/ajax/libs/mathjax/2.7.5/MathJax.js?config=TeX-AMS-MML_SVG\"></script><script type=\"text/javascript\">if (window.MathJax && window.MathJax.Hub && window.MathJax.Hub.Config) {window.MathJax.Hub.Config({SVG: {font: \"STIX-Web\"}});}</script>                <script type=\"text/javascript\">window.PlotlyConfig = {MathJaxConfig: 'local'};</script>\n",
              "        <script src=\"https://cdn.plot.ly/plotly-2.18.2.min.js\"></script>                <div id=\"e438826b-8460-4226-a644-80737485f1cb\" class=\"plotly-graph-div\" style=\"height:400px; width:100%;\"></div>            <script type=\"text/javascript\">                                    window.PLOTLYENV=window.PLOTLYENV || {};                                    if (document.getElementById(\"e438826b-8460-4226-a644-80737485f1cb\")) {                    Plotly.newPlot(                        \"e438826b-8460-4226-a644-80737485f1cb\",                        [{\"colorscale\":[[0.0,\"#0d0887\"],[0.1111111111111111,\"#46039f\"],[0.2222222222222222,\"#7201a8\"],[0.3333333333333333,\"#9c179e\"],[0.4444444444444444,\"#bd3786\"],[0.5555555555555556,\"#d8576b\"],[0.6666666666666666,\"#ed7953\"],[0.7777777777777778,\"#fb9f3a\"],[0.8888888888888888,\"#fdca26\"],[1.0,\"#f0f921\"]],\"reversescale\":false,\"showscale\":true,\"x\":[\"false\",\"true\"],\"y\":[\"false\",\"true\"],\"z\":[[408,92],[112,388]],\"type\":\"heatmap\"}],                        {\"annotations\":[{\"font\":{\"color\":\"#000000\"},\"showarrow\":false,\"text\":\"408\",\"x\":\"false\",\"xref\":\"x\",\"y\":\"false\",\"yref\":\"y\"},{\"font\":{\"color\":\"#FFFFFF\"},\"showarrow\":false,\"text\":\"92\",\"x\":\"true\",\"xref\":\"x\",\"y\":\"false\",\"yref\":\"y\"},{\"font\":{\"color\":\"#FFFFFF\"},\"showarrow\":false,\"text\":\"112\",\"x\":\"false\",\"xref\":\"x\",\"y\":\"true\",\"yref\":\"y\"},{\"font\":{\"color\":\"#000000\"},\"showarrow\":false,\"text\":\"388\",\"x\":\"true\",\"xref\":\"x\",\"y\":\"true\",\"yref\":\"y\"},{\"font\":{\"color\":\"black\",\"size\":14},\"showarrow\":false,\"text\":\"Predicted label\",\"x\":0.5,\"xref\":\"paper\",\"y\":-0.15,\"yref\":\"paper\"},{\"font\":{\"color\":\"black\",\"size\":14},\"showarrow\":false,\"text\":\"Actual label\",\"textangle\":-90,\"x\":-0.15,\"xref\":\"paper\",\"y\":0.5,\"yref\":\"paper\"}],\"xaxis\":{\"dtick\":1,\"gridcolor\":\"rgb(0, 0, 0)\",\"side\":\"top\",\"ticks\":\"\"},\"yaxis\":{\"dtick\":1,\"ticks\":\"\",\"ticksuffix\":\"  \",\"categoryorder\":\"category descending\"},\"template\":{\"data\":{\"barpolar\":[{\"marker\":{\"line\":{\"color\":\"white\",\"width\":0.5},\"pattern\":{\"fillmode\":\"overlay\",\"size\":10,\"solidity\":0.2}},\"type\":\"barpolar\"}],\"bar\":[{\"error_x\":{\"color\":\"#2a3f5f\"},\"error_y\":{\"color\":\"#2a3f5f\"},\"marker\":{\"line\":{\"color\":\"white\",\"width\":0.5},\"pattern\":{\"fillmode\":\"overlay\",\"size\":10,\"solidity\":0.2}},\"type\":\"bar\"}],\"carpet\":[{\"aaxis\":{\"endlinecolor\":\"#2a3f5f\",\"gridcolor\":\"#C8D4E3\",\"linecolor\":\"#C8D4E3\",\"minorgridcolor\":\"#C8D4E3\",\"startlinecolor\":\"#2a3f5f\"},\"baxis\":{\"endlinecolor\":\"#2a3f5f\",\"gridcolor\":\"#C8D4E3\",\"linecolor\":\"#C8D4E3\",\"minorgridcolor\":\"#C8D4E3\",\"startlinecolor\":\"#2a3f5f\"},\"type\":\"carpet\"}],\"choropleth\":[{\"colorbar\":{\"outlinewidth\":0,\"ticks\":\"\"},\"type\":\"choropleth\"}],\"contourcarpet\":[{\"colorbar\":{\"outlinewidth\":0,\"ticks\":\"\"},\"type\":\"contourcarpet\"}],\"contour\":[{\"colorbar\":{\"outlinewidth\":0,\"ticks\":\"\"},\"colorscale\":[[0.0,\"#0d0887\"],[0.1111111111111111,\"#46039f\"],[0.2222222222222222,\"#7201a8\"],[0.3333333333333333,\"#9c179e\"],[0.4444444444444444,\"#bd3786\"],[0.5555555555555556,\"#d8576b\"],[0.6666666666666666,\"#ed7953\"],[0.7777777777777778,\"#fb9f3a\"],[0.8888888888888888,\"#fdca26\"],[1.0,\"#f0f921\"]],\"type\":\"contour\"}],\"heatmapgl\":[{\"colorbar\":{\"outlinewidth\":0,\"ticks\":\"\"},\"colorscale\":[[0.0,\"#0d0887\"],[0.1111111111111111,\"#46039f\"],[0.2222222222222222,\"#7201a8\"],[0.3333333333333333,\"#9c179e\"],[0.4444444444444444,\"#bd3786\"],[0.5555555555555556,\"#d8576b\"],[0.6666666666666666,\"#ed7953\"],[0.7777777777777778,\"#fb9f3a\"],[0.8888888888888888,\"#fdca26\"],[1.0,\"#f0f921\"]],\"type\":\"heatmapgl\"}],\"heatmap\":[{\"colorbar\":{\"outlinewidth\":0,\"ticks\":\"\"},\"colorscale\":[[0.0,\"#0d0887\"],[0.1111111111111111,\"#46039f\"],[0.2222222222222222,\"#7201a8\"],[0.3333333333333333,\"#9c179e\"],[0.4444444444444444,\"#bd3786\"],[0.5555555555555556,\"#d8576b\"],[0.6666666666666666,\"#ed7953\"],[0.7777777777777778,\"#fb9f3a\"],[0.8888888888888888,\"#fdca26\"],[1.0,\"#f0f921\"]],\"type\":\"heatmap\"}],\"histogram2dcontour\":[{\"colorbar\":{\"outlinewidth\":0,\"ticks\":\"\"},\"colorscale\":[[0.0,\"#0d0887\"],[0.1111111111111111,\"#46039f\"],[0.2222222222222222,\"#7201a8\"],[0.3333333333333333,\"#9c179e\"],[0.4444444444444444,\"#bd3786\"],[0.5555555555555556,\"#d8576b\"],[0.6666666666666666,\"#ed7953\"],[0.7777777777777778,\"#fb9f3a\"],[0.8888888888888888,\"#fdca26\"],[1.0,\"#f0f921\"]],\"type\":\"histogram2dcontour\"}],\"histogram2d\":[{\"colorbar\":{\"outlinewidth\":0,\"ticks\":\"\"},\"colorscale\":[[0.0,\"#0d0887\"],[0.1111111111111111,\"#46039f\"],[0.2222222222222222,\"#7201a8\"],[0.3333333333333333,\"#9c179e\"],[0.4444444444444444,\"#bd3786\"],[0.5555555555555556,\"#d8576b\"],[0.6666666666666666,\"#ed7953\"],[0.7777777777777778,\"#fb9f3a\"],[0.8888888888888888,\"#fdca26\"],[1.0,\"#f0f921\"]],\"type\":\"histogram2d\"}],\"histogram\":[{\"marker\":{\"pattern\":{\"fillmode\":\"overlay\",\"size\":10,\"solidity\":0.2},\"line\":{\"width\":1}},\"type\":\"histogram\"}],\"mesh3d\":[{\"colorbar\":{\"outlinewidth\":0,\"ticks\":\"\"},\"type\":\"mesh3d\"}],\"parcoords\":[{\"line\":{\"colorbar\":{\"outlinewidth\":0,\"ticks\":\"\"}},\"type\":\"parcoords\"}],\"pie\":[{\"automargin\":true,\"type\":\"pie\"}],\"scatter3d\":[{\"line\":{\"colorbar\":{\"outlinewidth\":0,\"ticks\":\"\"}},\"marker\":{\"colorbar\":{\"outlinewidth\":0,\"ticks\":\"\"},\"opacity\":0.8},\"type\":\"scatter3d\"}],\"scattercarpet\":[{\"marker\":{\"colorbar\":{\"outlinewidth\":0,\"ticks\":\"\"}},\"type\":\"scattercarpet\"}],\"scattergeo\":[{\"marker\":{\"colorbar\":{\"outlinewidth\":0,\"ticks\":\"\"}},\"type\":\"scattergeo\"}],\"scattergl\":[{\"marker\":{\"colorbar\":{\"outlinewidth\":0,\"ticks\":\"\"}},\"type\":\"scattergl\"}],\"scattermapbox\":[{\"marker\":{\"colorbar\":{\"outlinewidth\":0,\"ticks\":\"\"}},\"type\":\"scattermapbox\"}],\"scatterpolargl\":[{\"marker\":{\"colorbar\":{\"outlinewidth\":0,\"ticks\":\"\"}},\"type\":\"scatterpolargl\"}],\"scatterpolar\":[{\"marker\":{\"colorbar\":{\"outlinewidth\":0,\"ticks\":\"\"}},\"type\":\"scatterpolar\"}],\"scatter\":[{\"fillpattern\":{\"fillmode\":\"overlay\",\"size\":10,\"solidity\":0.2},\"type\":\"scatter\",\"marker\":{\"opacity\":0.8}}],\"scatterternary\":[{\"marker\":{\"colorbar\":{\"outlinewidth\":0,\"ticks\":\"\"}},\"type\":\"scatterternary\"}],\"surface\":[{\"colorbar\":{\"outlinewidth\":0,\"ticks\":\"\"},\"colorscale\":[[0.0,\"#0d0887\"],[0.1111111111111111,\"#46039f\"],[0.2222222222222222,\"#7201a8\"],[0.3333333333333333,\"#9c179e\"],[0.4444444444444444,\"#bd3786\"],[0.5555555555555556,\"#d8576b\"],[0.6666666666666666,\"#ed7953\"],[0.7777777777777778,\"#fb9f3a\"],[0.8888888888888888,\"#fdca26\"],[1.0,\"#f0f921\"]],\"type\":\"surface\"}],\"table\":[{\"cells\":{\"fill\":{\"color\":\"#EBF0F8\"},\"line\":{\"color\":\"white\"}},\"header\":{\"fill\":{\"color\":\"#C8D4E3\"},\"line\":{\"color\":\"white\"}},\"type\":\"table\"}],\"box\":[{\"boxpoints\":\"outliers\",\"notched\":false,\"type\":\"box\"}]},\"layout\":{\"annotationdefaults\":{\"arrowcolor\":\"#2a3f5f\",\"arrowhead\":0,\"arrowwidth\":1},\"autotypenumbers\":\"strict\",\"coloraxis\":{\"colorbar\":{\"outlinewidth\":0,\"ticks\":\"\"}},\"colorscale\":{\"diverging\":[[0,\"#8e0152\"],[0.1,\"#c51b7d\"],[0.2,\"#de77ae\"],[0.3,\"#f1b6da\"],[0.4,\"#fde0ef\"],[0.5,\"#f7f7f7\"],[0.6,\"#e6f5d0\"],[0.7,\"#b8e186\"],[0.8,\"#7fbc41\"],[0.9,\"#4d9221\"],[1,\"#276419\"]],\"sequential\":[[0.0,\"#0d0887\"],[0.1111111111111111,\"#46039f\"],[0.2222222222222222,\"#7201a8\"],[0.3333333333333333,\"#9c179e\"],[0.4444444444444444,\"#bd3786\"],[0.5555555555555556,\"#d8576b\"],[0.6666666666666666,\"#ed7953\"],[0.7777777777777778,\"#fb9f3a\"],[0.8888888888888888,\"#fdca26\"],[1.0,\"#f0f921\"]],\"sequentialminus\":[[0.0,\"#0d0887\"],[0.1111111111111111,\"#46039f\"],[0.2222222222222222,\"#7201a8\"],[0.3333333333333333,\"#9c179e\"],[0.4444444444444444,\"#bd3786\"],[0.5555555555555556,\"#d8576b\"],[0.6666666666666666,\"#ed7953\"],[0.7777777777777778,\"#fb9f3a\"],[0.8888888888888888,\"#fdca26\"],[1.0,\"#f0f921\"]]},\"colorway\":[\"#636efa\",\"#EF553B\",\"#00cc96\",\"#ab63fa\",\"#FFA15A\",\"#19d3f3\",\"#FF6692\",\"#B6E880\",\"#FF97FF\",\"#FECB52\"],\"font\":{\"color\":\"#2a3f5f\"},\"geo\":{\"bgcolor\":\"white\",\"lakecolor\":\"white\",\"landcolor\":\"white\",\"showlakes\":true,\"showland\":true,\"subunitcolor\":\"#C8D4E3\"},\"hoverlabel\":{\"align\":\"left\"},\"hovermode\":\"closest\",\"mapbox\":{\"style\":\"light\"},\"paper_bgcolor\":\"white\",\"plot_bgcolor\":\"white\",\"polar\":{\"angularaxis\":{\"gridcolor\":\"#EBF0F8\",\"linecolor\":\"#EBF0F8\",\"ticks\":\"\"},\"bgcolor\":\"white\",\"radialaxis\":{\"gridcolor\":\"#EBF0F8\",\"linecolor\":\"#EBF0F8\",\"ticks\":\"\"}},\"scene\":{\"xaxis\":{\"backgroundcolor\":\"white\",\"gridcolor\":\"#DFE8F3\",\"gridwidth\":2,\"linecolor\":\"#EBF0F8\",\"showbackground\":true,\"ticks\":\"\",\"zerolinecolor\":\"#EBF0F8\"},\"yaxis\":{\"backgroundcolor\":\"white\",\"gridcolor\":\"#DFE8F3\",\"gridwidth\":2,\"linecolor\":\"#EBF0F8\",\"showbackground\":true,\"ticks\":\"\",\"zerolinecolor\":\"#EBF0F8\"},\"zaxis\":{\"backgroundcolor\":\"white\",\"gridcolor\":\"#DFE8F3\",\"gridwidth\":2,\"linecolor\":\"#EBF0F8\",\"showbackground\":true,\"ticks\":\"\",\"zerolinecolor\":\"#EBF0F8\"},\"camera\":{\"eye\":{\"x\":1.5,\"y\":1.5,\"z\":0.1}}},\"shapedefaults\":{\"line\":{\"color\":\"#2a3f5f\"}},\"ternary\":{\"aaxis\":{\"gridcolor\":\"#DFE8F3\",\"linecolor\":\"#A2B1C6\",\"ticks\":\"\"},\"baxis\":{\"gridcolor\":\"#DFE8F3\",\"linecolor\":\"#A2B1C6\",\"ticks\":\"\"},\"bgcolor\":\"white\",\"caxis\":{\"gridcolor\":\"#DFE8F3\",\"linecolor\":\"#A2B1C6\",\"ticks\":\"\"}},\"title\":{\"x\":0.5},\"xaxis\":{\"automargin\":true,\"gridcolor\":\"#EBF0F8\",\"linecolor\":\"#EBF0F8\",\"ticks\":\"\",\"title\":{\"standoff\":15},\"zerolinecolor\":\"#EBF0F8\",\"zerolinewidth\":2,\"linewidth\":2,\"showline\":true},\"yaxis\":{\"automargin\":true,\"gridcolor\":\"#EBF0F8\",\"linecolor\":\"#EBF0F8\",\"ticks\":\"\",\"title\":{\"standoff\":15},\"zerolinecolor\":\"#EBF0F8\",\"zerolinewidth\":2,\"linewidth\":2,\"showline\":true},\"height\":400,\"margin\":{\"b\":2,\"l\":2,\"r\":2,\"t\":30}}},\"title\":{\"text\":\"<b>Confusion matrix</b>\"},\"margin\":{\"t\":80,\"r\":20,\"l\":120,\"b\":50}},                        {\"responsive\": true}                    ).then(function(){\n",
              "                            \n",
              "var gd = document.getElementById('e438826b-8460-4226-a644-80737485f1cb');\n",
              "var x = new MutationObserver(function (mutations, observer) {{\n",
              "        var display = window.getComputedStyle(gd).display;\n",
              "        if (!display || display === 'none') {{\n",
              "            console.log([gd, 'removed!']);\n",
              "            Plotly.purge(gd);\n",
              "            observer.disconnect();\n",
              "        }}\n",
              "}});\n",
              "\n",
              "// Listen for the removal of the full notebook cells\n",
              "var notebookContainer = gd.closest('#notebook-container');\n",
              "if (notebookContainer) {{\n",
              "    x.observe(notebookContainer, {childList: true});\n",
              "}}\n",
              "\n",
              "// Listen for the clearing of the current output cell\n",
              "var outputEl = gd.closest('.output');\n",
              "if (outputEl) {{\n",
              "    x.observe(outputEl, {childList: true});\n",
              "}}\n",
              "\n",
              "                        })                };                            </script>        </div>\n",
              "</body>\n",
              "</html>"
            ]
          },
          "metadata": {}
        }
      ]
    }
  ]
}